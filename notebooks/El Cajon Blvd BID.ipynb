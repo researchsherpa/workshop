{
 "cells": [
  {
   "cell_type": "markdown",
   "metadata": {},
   "source": [
    "# Mapping the Boulevard BID\n",
    "\n",
    "This is a simple workflow to combine data sets and display them on the map.  I'm using a basic ipyleaflet control for display. Spatial analysis is via shapely/geopandas.<br/>\n",
    "The data comes from City of San Diego and the previously processed business data set.<br/><br/>\n",
    "\n",
    "**Steps:**\n",
    "\n",
    "  1. Display the basic, `background map`\n",
    "  \n",
    "  2. Add the Business Improvement Districts `(BIDs) polygons` as map overlay\n",
    "  \n",
    "     - Quick look at what's in the data\n",
    "     \n",
    "     - Create overlay for the map using Boulevard BID\n",
    "     \n",
    "  3. Add `business data` to the map as `overlay`\n",
    "  \n",
    "     - Use geocoded shape files from wrangling.ipynb\n",
    "     \n",
    "     - Remember the data is from two zip codes, 92115 and 92116\n",
    "     \n",
    "     - Add markers to the geodataframe (**gdf**) and display as overlay\n",
    "     \n",
    "  4. Display `BID specific` businesses as `overlay`\n",
    "  \n",
    "     - Apply filter to get businesses within BID boundary as new gdf\n",
    "     \n",
    "     - Add markers to the new gdf and display as overlay\n",
    "  \n",
    "  5. Summary and next steps\n",
    "  \n",
    "\n"
   ]
  },
  {
   "cell_type": "markdown",
   "metadata": {},
   "source": [
    "# Display basic map\n",
    "\n",
    "This is a simple example using ipyleaflet, various ipywidgets, and the `OSM base maps` as ESRI tiles.<br/>\n",
    "\n",
    "As we work through the steps in this notebook we will be adding overlays to the map to select map elements.\n",
    "\n",
    "In this section we add the layers to select image or map backgrounds."
   ]
  },
  {
   "cell_type": "code",
   "execution_count": null,
   "metadata": {},
   "outputs": [],
   "source": [
    "import geopandas as gpd\n",
    "from ipywidgets import HTML, Layout\n",
    "from ipyleaflet import (Map, Rectangle, GeoJSON,\n",
    "                        MarkerCluster, GeoData, LayersControl,\n",
    "                        LayerGroup, Marker, WidgetControl,\n",
    "                        CircleMarker,\n",
    "                       basemaps, basemap_to_tiles)\n",
    "\n",
    "from tqdm import tqdm"
   ]
  },
  {
   "cell_type": "code",
   "execution_count": null,
   "metadata": {},
   "outputs": [],
   "source": [
    "imagery = basemap_to_tiles(basemaps.Esri.WorldImagery)\n",
    "imagery.base = True\n",
    "osm = basemap_to_tiles(basemaps.OpenStreetMap.Mapnik)\n",
    "osm.base = True\n",
    "\n",
    "\n",
    "map_display = Map(center=(32.715, -117.1625), zoom=12,\n",
    "                  layers=[imagery, osm],\n",
    "                  layout=Layout(height=\"700px\"),\n",
    "                  scroll_wheel_zoom=True)\n",
    "\n",
    "map_display.add_control(LayersControl())\n",
    "map_display"
   ]
  },
  {
   "cell_type": "markdown",
   "metadata": {},
   "source": [
    "# BID Polygons\n",
    "\n",
    "Previous notebooks looked at the business data set.  Now I'd like to add some `context` to that data.<br/>\n",
    "The first source to look at is the [business improvement districts](https://www.sandiego.gov/economic-development/about/bids).  BIDs are designed to help small businesses so that seems like a good fit!\n",
    "\n",
    "Since this is the first time we've seen this data we should do a standard analysis of what's included.<br/>\n",
    "\n",
    "Note we'll want to have an understanding so we can select individual BIDs."
   ]
  },
  {
   "cell_type": "code",
   "execution_count": null,
   "metadata": {},
   "outputs": [],
   "source": [
    "bids_gdf = gpd.read_file(\"../data/bids/bids_datasd.shp\")\n",
    "\n",
    "bids_gdf = bids_gdf.to_crs(epsg=4326)"
   ]
  },
  {
   "cell_type": "code",
   "execution_count": null,
   "metadata": {},
   "outputs": [],
   "source": [
    "bids_gdf.info()"
   ]
  },
  {
   "cell_type": "markdown",
   "metadata": {},
   "source": [
    "bids_gdf is a **gdf** from geopandas.<br/>\n",
    "So info() says all the columns have values. <br/>\n",
    "Next look at the data.  Notice the columns that will help: name, geometry.  We might be able to use link too?"
   ]
  },
  {
   "cell_type": "code",
   "execution_count": null,
   "metadata": {},
   "outputs": [],
   "source": [
    "bids_gdf"
   ]
  },
  {
   "cell_type": "markdown",
   "metadata": {},
   "source": [
    "This is the first example of adding a **gdf** to the map.  This too is a fairly standard idiom."
   ]
  },
  {
   "cell_type": "code",
   "execution_count": null,
   "metadata": {},
   "outputs": [],
   "source": [
    "bids = GeoData(geo_dataframe = bids_gdf,\n",
    "                   style={'color': 'black', 'fillColor': '#3366cc', 'opacity':0.05, 'weight':1.9, 'dashArray':'2', 'fillOpacity':0.6},\n",
    "                   hover_style={'fillColor': 'red' , 'fillOpacity': 0.2},\n",
    "                   name = 'BIDs')\n",
    "\n",
    "map_display += bids"
   ]
  },
  {
   "cell_type": "markdown",
   "metadata": {},
   "source": [
    "This is one (standard) approach to displaying info about elements of an ipyleaflet map.<br/>\n",
    "Note the info is displayed in the upper corner.<br/>\n",
    "I'm not real partial to this approach but I haven't yet found a way to do tooltip like popups?\n",
    "\n",
    "Does anyone want to add the url?"
   ]
  },
  {
   "cell_type": "code",
   "execution_count": null,
   "metadata": {},
   "outputs": [],
   "source": [
    "bid_html = HTML('''Hover over a district''')\n",
    "bid_html.layout.margin = '0px 20px 20px 20 px'\n",
    "bid_control = WidgetControl(widget=bid_html, position='topright')\n",
    "\n",
    "def update_bid_html(feature, **kwargs):\n",
    "    bid_html.value = f\"<b>{feature['properties']['name']}\"\n",
    "    \n",
    "map_display.add_control(bid_control)  # does += work for this?\n",
    "\n",
    "bids.on_hover(update_bid_html)"
   ]
  },
  {
   "cell_type": "markdown",
   "metadata": {},
   "source": [
    "### Go back and look at the map.\n",
    "\n",
    "Extra credit if you know how display the map so you don't have to go back and forth!"
   ]
  },
  {
   "cell_type": "markdown",
   "metadata": {},
   "source": [
    "# Add Business Data\n",
    "\n",
    "First, we'll add the data from two zip codes, 92115 and 92116 produced in the wrangling.ipynb.<br/>\n",
    "\n",
    "Remember this zip code based approach is a workaround to use the Nominatim geocoder.<br/>\n",
    "I wanted to have smaller data sets to geocode because of the 1 second delay for each request.<br/>\n",
    "Once I've installed a local version of Nominatim and geocoded the entire set you can do this different."
   ]
  },
  {
   "cell_type": "code",
   "execution_count": null,
   "metadata": {},
   "outputs": [],
   "source": [
    "multi_zip_gdf = gpd.read_file(\"../data/ecb.shp\").reset_index()"
   ]
  },
  {
   "cell_type": "code",
   "execution_count": null,
   "metadata": {},
   "outputs": [],
   "source": [
    "len(multi_zip_gdf)"
   ]
  },
  {
   "cell_type": "code",
   "execution_count": null,
   "metadata": {},
   "outputs": [],
   "source": [
    "multi_zip_gdf.info()"
   ]
  },
  {
   "cell_type": "markdown",
   "metadata": {},
   "source": [
    "Don't forget that Nominatim doesn't always give you a Point!<br/>\n",
    "\n",
    "We do get pretty good results in the set of data though."
   ]
  },
  {
   "cell_type": "code",
   "execution_count": null,
   "metadata": {},
   "outputs": [],
   "source": [
    "valid_geo_gdf = multi_zip_gdf.dropna(subset=['geometry']).reset_index()\n",
    "\n",
    "all_biz_count = len(multi_zip_gdf)\n",
    "geocoded_biz_count = len(valid_geo_gdf)\n",
    "missing_geocode_count = all_biz_count - geocoded_biz_count\n",
    "#len(multi_zip_gdf) - len(valid_geo_gdf)\n",
    "\n",
    "print(f\"Unable to geocode {missing_geocode_count} businesses out of {all_biz_count} - {missing_geocode_count/all_biz_count:.2%}\")"
   ]
  },
  {
   "cell_type": "markdown",
   "metadata": {},
   "source": [
    "## Add business overlay\n",
    "\n",
    "This is another standard idiom.  I'm using CircleMarkers with default colors and then displayed as MarkerCluster.<br/>\n",
    "\n",
    "This is another place that we could devise a color scheme for the markers?  Maybe the ones in our sector get a different color?...or...<br/>\n",
    "\n",
    "Another extension would be the type of information displayed when selecting a marker.  For now it's just the DBA column."
   ]
  },
  {
   "cell_type": "code",
   "execution_count": null,
   "metadata": {},
   "outputs": [],
   "source": [
    "business = list()\n",
    "\n",
    "for i, r in tqdm(valid_geo_gdf.iterrows()):\n",
    "    marker = CircleMarker(location=(r.geometry.y, r.geometry.x), radius=5, stroke=False, fill_color=\"blue\", fill_opacity=1.0)\n",
    "    msg = HTML()\n",
    "    msg.value = f\"{r['DBA NAME']}\"\n",
    "    marker.popup = msg\n",
    "    business.append(marker)\n",
    "    r['marker'] = marker"
   ]
  },
  {
   "cell_type": "code",
   "execution_count": null,
   "metadata": {},
   "outputs": [],
   "source": [
    "business_cluster = MarkerCluster(markers=business, name='Businesses')\n",
    "map_display.add_layer(business_cluster)"
   ]
  },
  {
   "cell_type": "markdown",
   "metadata": {},
   "source": [
    "### Go back and look at the map."
   ]
  },
  {
   "cell_type": "markdown",
   "metadata": {},
   "source": [
    "## El Cajon BID Businesses\n",
    "\n",
    "Can get this from the bids_gdf.<br/>\n",
    "\n",
    "Look at the bids_bid again if needed.  I'm using simple query to get the row by name.<br/>\n",
    "\n",
    "What I need for spatial filtering is the geometry."
   ]
  },
  {
   "cell_type": "code",
   "execution_count": null,
   "metadata": {},
   "outputs": [],
   "source": [
    "#i.e.\n",
    "ecb_bid = bids_gdf.query(f\"name == 'El Cajon Boulevard Central'\").reset_index()"
   ]
  },
  {
   "cell_type": "code",
   "execution_count": null,
   "metadata": {},
   "outputs": [],
   "source": [
    "ecb_bid"
   ]
  },
  {
   "cell_type": "markdown",
   "metadata": {},
   "source": [
    "## Filter based on the polygon"
   ]
  },
  {
   "cell_type": "code",
   "execution_count": null,
   "metadata": {},
   "outputs": [],
   "source": [
    "ecb_biz_gdf = valid_geo_gdf[valid_geo_gdf.geometry.within(ecb_bid.iloc[0].geometry)]"
   ]
  },
  {
   "cell_type": "code",
   "execution_count": null,
   "metadata": {},
   "outputs": [],
   "source": [
    "len(ecb_biz_gdf)"
   ]
  },
  {
   "cell_type": "code",
   "execution_count": null,
   "metadata": {},
   "outputs": [],
   "source": [
    "ecb_biz_gdf.columns"
   ]
  },
  {
   "cell_type": "code",
   "execution_count": null,
   "metadata": {},
   "outputs": [],
   "source": [
    "ecb_biz_gdf = ecb_biz_gdf.drop(columns=['level_0']).reset_index()"
   ]
  },
  {
   "cell_type": "markdown",
   "metadata": {},
   "source": [
    "So ecb_biz_gdf is the set of businesses within the boundary of the Blvd BID.<br/>\n",
    "\n",
    "Not 100% sure if this is how members are measured, but ..."
   ]
  },
  {
   "cell_type": "markdown",
   "metadata": {},
   "source": [
    "## Create the second set up businesses for the map\n",
    "\n",
    "Second time we've seen this idiom."
   ]
  },
  {
   "cell_type": "code",
   "execution_count": null,
   "metadata": {},
   "outputs": [],
   "source": [
    "ecb_business = list()\n",
    "for i, r in tqdm(ecb_biz_gdf.iterrows()):\n",
    "    marker = CircleMarker(location=(r.geometry.y, r.geometry.x), radius=5, stroke=False, fill_color=\"blue\", fill_opacity=1.0)\n",
    "    msg = HTML()\n",
    "    msg.value = f\"{r['DBA NAME']}\"\n",
    "    marker.popup = msg\n",
    "    ecb_business.append(marker)\n",
    "    r['marker'] = marker"
   ]
  },
  {
   "cell_type": "code",
   "execution_count": null,
   "metadata": {},
   "outputs": [],
   "source": [
    "ecb_business_cluster = MarkerCluster(markers=ecb_business, name='Boulevard Businesses')\n",
    "map_display.add_layer(ecb_business_cluster)"
   ]
  },
  {
   "cell_type": "markdown",
   "metadata": {},
   "source": [
    "### Now go back and look at the map again.\n",
    "\n",
    "By selecting the different overlays you can see how the elements relate.<br/>\n",
    "\n",
    "Hoover works for the BID poly's and mouse clicks on the business markers reports the DBA NAME."
   ]
  },
  {
   "cell_type": "markdown",
   "metadata": {},
   "source": [
    "## This demonstrates the basics\n",
    "\n",
    "With this we have basic tools to put businesses on a map, display polygons, spatial filtering, ...  Basics"
   ]
  },
  {
   "cell_type": "code",
   "execution_count": null,
   "metadata": {},
   "outputs": [],
   "source": []
  }
 ],
 "metadata": {
  "kernelspec": {
   "display_name": "Python 3",
   "language": "python",
   "name": "python3"
  },
  "language_info": {
   "codemirror_mode": {
    "name": "ipython",
    "version": 3
   },
   "file_extension": ".py",
   "mimetype": "text/x-python",
   "name": "python",
   "nbconvert_exporter": "python",
   "pygments_lexer": "ipython3",
   "version": "3.8.2"
  }
 },
 "nbformat": 4,
 "nbformat_minor": 4
}
