{
 "cells": [
  {
   "cell_type": "markdown",
   "metadata": {},
   "source": [
    "# Implement standard map-based idioms to filter and display\n",
    "\n",
    "Steps:\n",
    "\n",
    "  1. Display the basic map.\n",
    "  \n",
    "  2. Read the geocoded shape file.\n",
    "  \n",
    "  3. Create markers (to be clustered) for all the businesses in the two zip codes. Create selection for all business and put it on the map.\n",
    "  \n",
    "  4. Read the BID shape files.\n",
    "  \n",
    "  5. Select the El Cajon BID.\n",
    "  \n",
    "  6. Find the businesses within the BID poly.  Create a second clustering for these buisness and put them on the map.\n",
    "  \n",
    "Note as you go through these steps the map display is changing.\n",
    "\n",
    "\n",
    "https://www.sandiego.gov/economic-development/about/bids"
   ]
  },
  {
   "cell_type": "code",
   "execution_count": 1,
   "metadata": {},
   "outputs": [],
   "source": [
    "import geopandas as gpd\n",
    "from ipywidgets import HTML, Layout\n",
    "from ipyleaflet import (Map, Rectangle, GeoJSON,\n",
    "                        MarkerCluster, GeoData, LayersControl,\n",
    "                        LayerGroup, Marker, WidgetControl,\n",
    "                        CircleMarker,\n",
    "                       basemaps, basemap_to_tiles)\n",
    "\n",
    "from tqdm import tqdm"
   ]
  },
  {
   "cell_type": "code",
   "execution_count": 2,
   "metadata": {},
   "outputs": [
    {
     "data": {
      "application/vnd.jupyter.widget-view+json": {
       "model_id": "81ab01a18a864ccfad93de5bd33165b7",
       "version_major": 2,
       "version_minor": 0
      },
      "text/plain": [
       "Map(center=[32.715, -117.1625], controls=(ZoomControl(options=['position', 'zoom_in_text', 'zoom_in_title', 'z…"
      ]
     },
     "metadata": {},
     "output_type": "display_data"
    }
   ],
   "source": [
    "imagery = basemap_to_tiles(basemaps.Esri.WorldImagery)\n",
    "imagery.base = True\n",
    "osm = basemap_to_tiles(basemaps.OpenStreetMap.Mapnik)\n",
    "osm.base = True\n",
    "\n",
    "\n",
    "map_display = Map(center=(32.715, -117.1625), zoom=12,\n",
    "                  layers=[imagery, osm],\n",
    "                  layout=Layout(height=\"700px\"),\n",
    "                  scroll_wheel_zoom=True)\n",
    "\n",
    "map_display.add_control(LayersControl())\n",
    "map_display"
   ]
  },
  {
   "cell_type": "markdown",
   "metadata": {},
   "source": [
    "# BID Polygons\n",
    "\n",
    "Ok, this is one of those areas where some design/code would really help!"
   ]
  },
  {
   "cell_type": "code",
   "execution_count": 3,
   "metadata": {},
   "outputs": [],
   "source": [
    "bids_gdf = gpd.read_file(\"../data/bids/bids_datasd.shp\")\n",
    "\n",
    "bids_gdf = bids_gdf.to_crs(epsg=4326)"
   ]
  },
  {
   "cell_type": "code",
   "execution_count": 4,
   "metadata": {},
   "outputs": [
    {
     "name": "stdout",
     "output_type": "stream",
     "text": [
      "<class 'geopandas.geodataframe.GeoDataFrame'>\n",
      "RangeIndex: 20 entries, 0 to 19\n",
      "Data columns (total 6 columns):\n",
      " #   Column     Non-Null Count  Dtype   \n",
      "---  ------     --------------  -----   \n",
      " 0   objectid   20 non-null     int64   \n",
      " 1   name       20 non-null     object  \n",
      " 2   long_name  20 non-null     object  \n",
      " 3   status     20 non-null     object  \n",
      " 4   link       20 non-null     object  \n",
      " 5   geometry   20 non-null     geometry\n",
      "dtypes: geometry(1), int64(1), object(4)\n",
      "memory usage: 1.1+ KB\n"
     ]
    }
   ],
   "source": [
    "bids_gdf.info()"
   ]
  },
  {
   "cell_type": "code",
   "execution_count": 5,
   "metadata": {},
   "outputs": [
    {
     "data": {
      "text/html": [
       "<div>\n",
       "<style scoped>\n",
       "    .dataframe tbody tr th:only-of-type {\n",
       "        vertical-align: middle;\n",
       "    }\n",
       "\n",
       "    .dataframe tbody tr th {\n",
       "        vertical-align: top;\n",
       "    }\n",
       "\n",
       "    .dataframe thead th {\n",
       "        text-align: right;\n",
       "    }\n",
       "</style>\n",
       "<table border=\"1\" class=\"dataframe\">\n",
       "  <thead>\n",
       "    <tr style=\"text-align: right;\">\n",
       "      <th></th>\n",
       "      <th>objectid</th>\n",
       "      <th>name</th>\n",
       "      <th>long_name</th>\n",
       "      <th>status</th>\n",
       "      <th>link</th>\n",
       "      <th>geometry</th>\n",
       "    </tr>\n",
       "  </thead>\n",
       "  <tbody>\n",
       "    <tr>\n",
       "      <th>0</th>\n",
       "      <td>1</td>\n",
       "      <td>Diamond</td>\n",
       "      <td>Diamond Business Improvement District (BID)</td>\n",
       "      <td>Existing</td>\n",
       "      <td>http://www.sandiego.gov/economic-development/b...</td>\n",
       "      <td>POLYGON ((-117.11028 32.71086, -117.11043 32.7...</td>\n",
       "    </tr>\n",
       "    <tr>\n",
       "      <th>1</th>\n",
       "      <td>2</td>\n",
       "      <td>Downtown San Diego</td>\n",
       "      <td>Downtown San Diego Business Improvement Distri...</td>\n",
       "      <td>Existing</td>\n",
       "      <td>http://www.sandiego.gov/economic-development/b...</td>\n",
       "      <td>POLYGON ((-117.16400 32.71989, -117.16400 32.7...</td>\n",
       "    </tr>\n",
       "    <tr>\n",
       "      <th>2</th>\n",
       "      <td>3</td>\n",
       "      <td>El Cajon Boulevard Central</td>\n",
       "      <td>El Cajon Boulevard Central Business Improvemen...</td>\n",
       "      <td>Existing</td>\n",
       "      <td>http://www.sandiego.gov/economic-development/b...</td>\n",
       "      <td>POLYGON ((-117.07741 32.75811, -117.07750 32.7...</td>\n",
       "    </tr>\n",
       "    <tr>\n",
       "      <th>3</th>\n",
       "      <td>4</td>\n",
       "      <td>El Cajon Boulevard Gateway</td>\n",
       "      <td>El Cajon Boulevard Gateway Improvement Distric...</td>\n",
       "      <td>Existing</td>\n",
       "      <td>http://www.sandiego.gov/economic-development/b...</td>\n",
       "      <td>POLYGON ((-117.12504 32.75573, -117.12357 32.7...</td>\n",
       "    </tr>\n",
       "    <tr>\n",
       "      <th>4</th>\n",
       "      <td>5</td>\n",
       "      <td>Gaslamp Quarter</td>\n",
       "      <td>Gaslamp Quarter Business Improvement District ...</td>\n",
       "      <td>Existing</td>\n",
       "      <td>http://www.sandiego.gov/economic-development/b...</td>\n",
       "      <td>POLYGON ((-117.15925 32.71452, -117.15923 32.7...</td>\n",
       "    </tr>\n",
       "    <tr>\n",
       "      <th>5</th>\n",
       "      <td>6</td>\n",
       "      <td>Hillcrest</td>\n",
       "      <td>Hillcrest Business Improvement District (BID)</td>\n",
       "      <td>Existing</td>\n",
       "      <td>http://www.sandiego.gov/economic-development/b...</td>\n",
       "      <td>POLYGON ((-117.14633 32.75046, -117.14609 32.7...</td>\n",
       "    </tr>\n",
       "    <tr>\n",
       "      <th>6</th>\n",
       "      <td>7</td>\n",
       "      <td>La Jolla</td>\n",
       "      <td>La Jolla Business Improvement District (BID)</td>\n",
       "      <td>Existing</td>\n",
       "      <td>http://www.sandiego.gov/economic-development/b...</td>\n",
       "      <td>POLYGON ((-117.27174 32.85039, -117.27173 32.8...</td>\n",
       "    </tr>\n",
       "    <tr>\n",
       "      <th>7</th>\n",
       "      <td>8</td>\n",
       "      <td>Little Italy</td>\n",
       "      <td>Little Italy Business Improvement District-Pro...</td>\n",
       "      <td>Adopted</td>\n",
       "      <td>http://www.sandiego.gov/economic-development/b...</td>\n",
       "      <td>POLYGON ((-117.17451 32.72612, -117.17452 32.7...</td>\n",
       "    </tr>\n",
       "    <tr>\n",
       "      <th>8</th>\n",
       "      <td>9</td>\n",
       "      <td>Mission Hills</td>\n",
       "      <td>Mission Hills Business Improvement District (BID)</td>\n",
       "      <td>Existing</td>\n",
       "      <td>http://www.sandiego.gov/economic-development/b...</td>\n",
       "      <td>POLYGON ((-117.17783 32.74000, -117.17780 32.7...</td>\n",
       "    </tr>\n",
       "    <tr>\n",
       "      <th>9</th>\n",
       "      <td>10</td>\n",
       "      <td>Morena</td>\n",
       "      <td>Morena Business Improvement District-Proposed</td>\n",
       "      <td>Adopted</td>\n",
       "      <td>http://www.sandiego.gov/economic-development/b...</td>\n",
       "      <td>POLYGON ((-117.20633 32.79070, -117.20604 32.7...</td>\n",
       "    </tr>\n",
       "    <tr>\n",
       "      <th>10</th>\n",
       "      <td>11</td>\n",
       "      <td>Ocean Beach</td>\n",
       "      <td>Ocean Beach Business Improvement District (BID)</td>\n",
       "      <td>Existing</td>\n",
       "      <td>http://www.sandiego.gov/economic-development/b...</td>\n",
       "      <td>POLYGON ((-117.24860 32.74405, -117.25005 32.7...</td>\n",
       "    </tr>\n",
       "    <tr>\n",
       "      <th>11</th>\n",
       "      <td>12</td>\n",
       "      <td>Old Town</td>\n",
       "      <td>Old Town Business Improvement District (BID)</td>\n",
       "      <td>Existing</td>\n",
       "      <td>http://www.sandiego.gov/economic-development/b...</td>\n",
       "      <td>POLYGON ((-117.18969 32.75703, -117.18969 32.7...</td>\n",
       "    </tr>\n",
       "    <tr>\n",
       "      <th>12</th>\n",
       "      <td>13</td>\n",
       "      <td>Pacific Beach</td>\n",
       "      <td>Pacific Beach Business Improvement District</td>\n",
       "      <td>Adopted</td>\n",
       "      <td>http://www.sandiego.gov/economic-development/b...</td>\n",
       "      <td>MULTIPOLYGON (((-117.25422 32.81020, -117.2539...</td>\n",
       "    </tr>\n",
       "    <tr>\n",
       "      <th>13</th>\n",
       "      <td>14</td>\n",
       "      <td>Adams Avenue</td>\n",
       "      <td>Adams Avenue Business Improvement District (BID)</td>\n",
       "      <td>Existing</td>\n",
       "      <td>http://www.sandiego.gov/economic-development/b...</td>\n",
       "      <td>POLYGON ((-117.11564 32.76542, -117.11556 32.7...</td>\n",
       "    </tr>\n",
       "    <tr>\n",
       "      <th>14</th>\n",
       "      <td>15</td>\n",
       "      <td>City Heights</td>\n",
       "      <td>City Heights Business Improvement District (BID)</td>\n",
       "      <td>Existing</td>\n",
       "      <td>http://www.sandiego.gov/economic-development/b...</td>\n",
       "      <td>POLYGON ((-117.09230 32.74767, -117.09283 32.7...</td>\n",
       "    </tr>\n",
       "    <tr>\n",
       "      <th>15</th>\n",
       "      <td>16</td>\n",
       "      <td>College Area</td>\n",
       "      <td>College Area Business Improvement District (BID)</td>\n",
       "      <td>Existing</td>\n",
       "      <td>http://www.sandiego.gov/economic-development/b...</td>\n",
       "      <td>POLYGON ((-117.07732 32.75812, -117.07731 32.7...</td>\n",
       "    </tr>\n",
       "    <tr>\n",
       "      <th>16</th>\n",
       "      <td>17</td>\n",
       "      <td>San Ysidro</td>\n",
       "      <td>San Ysidro Business Improvement District</td>\n",
       "      <td>Existing</td>\n",
       "      <td>http://www.sandiego.gov/economic-development/b...</td>\n",
       "      <td>POLYGON ((-117.06237 32.55903, -117.06279 32.5...</td>\n",
       "    </tr>\n",
       "    <tr>\n",
       "      <th>17</th>\n",
       "      <td>18</td>\n",
       "      <td>Midway</td>\n",
       "      <td>Midway Business Improvement District</td>\n",
       "      <td>Existing</td>\n",
       "      <td>http://www.sandiego.gov/economic-development/b...</td>\n",
       "      <td>POLYGON ((-117.21395 32.74706, -117.21464 32.7...</td>\n",
       "    </tr>\n",
       "    <tr>\n",
       "      <th>18</th>\n",
       "      <td>19</td>\n",
       "      <td>East Village</td>\n",
       "      <td>East Village Business Improvement District (BID)</td>\n",
       "      <td>Adopted</td>\n",
       "      <td>http://www.sandiego.gov/economic-development/b...</td>\n",
       "      <td>POLYGON ((-117.15549 32.71888, -117.15472 32.7...</td>\n",
       "    </tr>\n",
       "    <tr>\n",
       "      <th>19</th>\n",
       "      <td>20</td>\n",
       "      <td>North Park</td>\n",
       "      <td>North Park Business Improvement District (BID)</td>\n",
       "      <td>Existing</td>\n",
       "      <td>http://www.sandiego.gov/economic-development/b...</td>\n",
       "      <td>POLYGON ((-117.12458 32.75075, -117.12418 32.7...</td>\n",
       "    </tr>\n",
       "  </tbody>\n",
       "</table>\n",
       "</div>"
      ],
      "text/plain": [
       "    objectid                        name  \\\n",
       "0          1                     Diamond   \n",
       "1          2          Downtown San Diego   \n",
       "2          3  El Cajon Boulevard Central   \n",
       "3          4  El Cajon Boulevard Gateway   \n",
       "4          5             Gaslamp Quarter   \n",
       "5          6                   Hillcrest   \n",
       "6          7                    La Jolla   \n",
       "7          8                Little Italy   \n",
       "8          9               Mission Hills   \n",
       "9         10                      Morena   \n",
       "10        11                 Ocean Beach   \n",
       "11        12                    Old Town   \n",
       "12        13               Pacific Beach   \n",
       "13        14                Adams Avenue   \n",
       "14        15                City Heights   \n",
       "15        16                College Area   \n",
       "16        17                  San Ysidro   \n",
       "17        18                      Midway   \n",
       "18        19                East Village   \n",
       "19        20                  North Park   \n",
       "\n",
       "                                            long_name    status  \\\n",
       "0         Diamond Business Improvement District (BID)  Existing   \n",
       "1   Downtown San Diego Business Improvement Distri...  Existing   \n",
       "2   El Cajon Boulevard Central Business Improvemen...  Existing   \n",
       "3   El Cajon Boulevard Gateway Improvement Distric...  Existing   \n",
       "4   Gaslamp Quarter Business Improvement District ...  Existing   \n",
       "5       Hillcrest Business Improvement District (BID)  Existing   \n",
       "6        La Jolla Business Improvement District (BID)  Existing   \n",
       "7   Little Italy Business Improvement District-Pro...   Adopted   \n",
       "8   Mission Hills Business Improvement District (BID)  Existing   \n",
       "9       Morena Business Improvement District-Proposed   Adopted   \n",
       "10    Ocean Beach Business Improvement District (BID)  Existing   \n",
       "11       Old Town Business Improvement District (BID)  Existing   \n",
       "12        Pacific Beach Business Improvement District   Adopted   \n",
       "13   Adams Avenue Business Improvement District (BID)  Existing   \n",
       "14   City Heights Business Improvement District (BID)  Existing   \n",
       "15   College Area Business Improvement District (BID)  Existing   \n",
       "16           San Ysidro Business Improvement District  Existing   \n",
       "17               Midway Business Improvement District  Existing   \n",
       "18   East Village Business Improvement District (BID)   Adopted   \n",
       "19     North Park Business Improvement District (BID)  Existing   \n",
       "\n",
       "                                                 link  \\\n",
       "0   http://www.sandiego.gov/economic-development/b...   \n",
       "1   http://www.sandiego.gov/economic-development/b...   \n",
       "2   http://www.sandiego.gov/economic-development/b...   \n",
       "3   http://www.sandiego.gov/economic-development/b...   \n",
       "4   http://www.sandiego.gov/economic-development/b...   \n",
       "5   http://www.sandiego.gov/economic-development/b...   \n",
       "6   http://www.sandiego.gov/economic-development/b...   \n",
       "7   http://www.sandiego.gov/economic-development/b...   \n",
       "8   http://www.sandiego.gov/economic-development/b...   \n",
       "9   http://www.sandiego.gov/economic-development/b...   \n",
       "10  http://www.sandiego.gov/economic-development/b...   \n",
       "11  http://www.sandiego.gov/economic-development/b...   \n",
       "12  http://www.sandiego.gov/economic-development/b...   \n",
       "13  http://www.sandiego.gov/economic-development/b...   \n",
       "14  http://www.sandiego.gov/economic-development/b...   \n",
       "15  http://www.sandiego.gov/economic-development/b...   \n",
       "16  http://www.sandiego.gov/economic-development/b...   \n",
       "17  http://www.sandiego.gov/economic-development/b...   \n",
       "18  http://www.sandiego.gov/economic-development/b...   \n",
       "19  http://www.sandiego.gov/economic-development/b...   \n",
       "\n",
       "                                             geometry  \n",
       "0   POLYGON ((-117.11028 32.71086, -117.11043 32.7...  \n",
       "1   POLYGON ((-117.16400 32.71989, -117.16400 32.7...  \n",
       "2   POLYGON ((-117.07741 32.75811, -117.07750 32.7...  \n",
       "3   POLYGON ((-117.12504 32.75573, -117.12357 32.7...  \n",
       "4   POLYGON ((-117.15925 32.71452, -117.15923 32.7...  \n",
       "5   POLYGON ((-117.14633 32.75046, -117.14609 32.7...  \n",
       "6   POLYGON ((-117.27174 32.85039, -117.27173 32.8...  \n",
       "7   POLYGON ((-117.17451 32.72612, -117.17452 32.7...  \n",
       "8   POLYGON ((-117.17783 32.74000, -117.17780 32.7...  \n",
       "9   POLYGON ((-117.20633 32.79070, -117.20604 32.7...  \n",
       "10  POLYGON ((-117.24860 32.74405, -117.25005 32.7...  \n",
       "11  POLYGON ((-117.18969 32.75703, -117.18969 32.7...  \n",
       "12  MULTIPOLYGON (((-117.25422 32.81020, -117.2539...  \n",
       "13  POLYGON ((-117.11564 32.76542, -117.11556 32.7...  \n",
       "14  POLYGON ((-117.09230 32.74767, -117.09283 32.7...  \n",
       "15  POLYGON ((-117.07732 32.75812, -117.07731 32.7...  \n",
       "16  POLYGON ((-117.06237 32.55903, -117.06279 32.5...  \n",
       "17  POLYGON ((-117.21395 32.74706, -117.21464 32.7...  \n",
       "18  POLYGON ((-117.15549 32.71888, -117.15472 32.7...  \n",
       "19  POLYGON ((-117.12458 32.75075, -117.12418 32.7...  "
      ]
     },
     "execution_count": 5,
     "metadata": {},
     "output_type": "execute_result"
    }
   ],
   "source": [
    "bids_gdf"
   ]
  },
  {
   "cell_type": "code",
   "execution_count": 6,
   "metadata": {},
   "outputs": [],
   "source": [
    "bids = GeoData(geo_dataframe = bids_gdf,\n",
    "                   style={'color': 'black', 'fillColor': '#3366cc', 'opacity':0.05, 'weight':1.9, 'dashArray':'2', 'fillOpacity':0.6},\n",
    "                   hover_style={'fillColor': 'red' , 'fillOpacity': 0.2},\n",
    "                   name = 'BIDs')\n",
    "\n",
    "#map_display.add_layer(geo_data)\n",
    "map_display += bids"
   ]
  },
  {
   "cell_type": "code",
   "execution_count": 7,
   "metadata": {},
   "outputs": [],
   "source": [
    "bid_html = HTML('''Hover over a district''')\n",
    "bid_html.layout.margin = '0px 20px 20px 20 px'\n",
    "bid_control = WidgetControl(widget=bid_html, position='bottomright')\n",
    "\n",
    "def update_bid_html(feature, **kwargs):\n",
    "    bid_html.value = f\"{feature['properties']['name']}\"\n",
    "    \n",
    "map_display.add_control(bid_control)  # does += work for this?\n",
    "\n",
    "bids.on_hover(update_bid_html)"
   ]
  },
  {
   "cell_type": "markdown",
   "metadata": {},
   "source": [
    "## Go back and look at the map.\n",
    "\n",
    "Extra credit if you know how display the map so you don't have to go back and forth!"
   ]
  },
  {
   "cell_type": "markdown",
   "metadata": {},
   "source": [
    "##  All businesses in 92115 and 92116"
   ]
  },
  {
   "cell_type": "code",
   "execution_count": 8,
   "metadata": {},
   "outputs": [],
   "source": [
    "my_gdf = gpd.read_file(\"../data/ecb.shp\").reset_index()"
   ]
  },
  {
   "cell_type": "code",
   "execution_count": 9,
   "metadata": {},
   "outputs": [
    {
     "data": {
      "text/plain": [
       "2355"
      ]
     },
     "execution_count": 9,
     "metadata": {},
     "output_type": "execute_result"
    }
   ],
   "source": [
    "len(my_gdf)"
   ]
  },
  {
   "cell_type": "code",
   "execution_count": 10,
   "metadata": {},
   "outputs": [
    {
     "name": "stdout",
     "output_type": "stream",
     "text": [
      "<class 'geopandas.geodataframe.GeoDataFrame'>\n",
      "RangeIndex: 2355 entries, 0 to 2354\n",
      "Data columns (total 23 columns):\n",
      " #   Column      Non-Null Count  Dtype   \n",
      "---  ------      --------------  -----   \n",
      " 0   index       2355 non-null   int64   \n",
      " 1   BUSINESS A  2355 non-null   int64   \n",
      " 2   DBA NAME    2355 non-null   object  \n",
      " 3   OWNERSHIP   2355 non-null   object  \n",
      " 4   ADDRESS     2355 non-null   object  \n",
      " 5   CITY        2355 non-null   object  \n",
      " 6   ZIP         2355 non-null   object  \n",
      " 7   STATE       2355 non-null   object  \n",
      " 8   BUSINESS P  2079 non-null   object  \n",
      " 9   OWNER NAME  2355 non-null   object  \n",
      " 10  CREATION D  2355 non-null   object  \n",
      " 11  START DT    2355 non-null   object  \n",
      " 12  EXP DT      2355 non-null   object  \n",
      " 13  NAICS       2355 non-null   int64   \n",
      " 14  ACTIVITY D  2355 non-null   object  \n",
      " 15  today       2355 non-null   object  \n",
      " 16  years       2355 non-null   int64   \n",
      " 17  naics_code  2355 non-null   int64   \n",
      " 18  NAICS Desc  2355 non-null   object  \n",
      " 19  sector      2355 non-null   object  \n",
      " 20  sector_des  2355 non-null   object  \n",
      " 21  zip_code    2355 non-null   object  \n",
      " 22  geometry    2337 non-null   geometry\n",
      "dtypes: geometry(1), int64(5), object(17)\n",
      "memory usage: 423.3+ KB\n"
     ]
    }
   ],
   "source": [
    "my_gdf.info()"
   ]
  },
  {
   "cell_type": "markdown",
   "metadata": {},
   "source": [
    "Don't forget that Nominatim doesn't always give you a Point!"
   ]
  },
  {
   "cell_type": "code",
   "execution_count": 11,
   "metadata": {},
   "outputs": [],
   "source": [
    "valid_geo_gdf = my_gdf.dropna(subset=['geometry']).reset_index()"
   ]
  },
  {
   "cell_type": "code",
   "execution_count": 12,
   "metadata": {},
   "outputs": [
    {
     "data": {
      "text/plain": [
       "18"
      ]
     },
     "execution_count": 12,
     "metadata": {},
     "output_type": "execute_result"
    }
   ],
   "source": [
    "len(my_gdf) - len(valid_geo_gdf)"
   ]
  },
  {
   "cell_type": "markdown",
   "metadata": {},
   "source": [
    "## Build the markers and put them on the map"
   ]
  },
  {
   "cell_type": "code",
   "execution_count": 13,
   "metadata": {},
   "outputs": [
    {
     "name": "stderr",
     "output_type": "stream",
     "text": [
      "0it [00:00, ?it/s]<ipython-input-13-3f01d2771fcf>:8: SettingWithCopyWarning: \n",
      "A value is trying to be set on a copy of a slice from a DataFrame\n",
      "\n",
      "See the caveats in the documentation: https://pandas.pydata.org/pandas-docs/stable/user_guide/indexing.html#returning-a-view-versus-a-copy\n",
      "  valid_geo_gdf.iloc[i]['marker'] = marker\n",
      "/home/mcmorgan/anaconda3/envs/sherpa/lib/python3.8/site-packages/pandas/core/indexing.py:692: SettingWithCopyWarning: \n",
      "A value is trying to be set on a copy of a slice from a DataFrame\n",
      "\n",
      "See the caveats in the documentation: https://pandas.pydata.org/pandas-docs/stable/user_guide/indexing.html#returning-a-view-versus-a-copy\n",
      "  iloc._setitem_with_indexer(indexer, value, self.name)\n",
      "2337it [00:14, 159.03it/s]\n"
     ]
    }
   ],
   "source": [
    "business = list()\n",
    "for i, r in tqdm(valid_geo_gdf.iterrows()):\n",
    "    marker = CircleMarker(location=(r.geometry.y, r.geometry.x), radius=5, stroke=False, fill_color=\"blue\", fill_opacity=1.0)\n",
    "    msg = HTML()\n",
    "    msg.value = f\"{r['DBA NAME']}\"\n",
    "    marker.popup = msg\n",
    "    business.append(marker)\n",
    "    valid_geo_gdf.iloc[i]['marker'] = marker\n",
    "valid_geo_gdf['marker'] = business"
   ]
  },
  {
   "cell_type": "code",
   "execution_count": 14,
   "metadata": {},
   "outputs": [],
   "source": [
    "business_cluster = MarkerCluster(markers=business, name='Businesses')\n",
    "map_display.add_layer(business_cluster)\n",
    "\n",
    "#map_display.add_control(LayersControl())"
   ]
  },
  {
   "cell_type": "markdown",
   "metadata": {},
   "source": [
    "## Need the El Cajon BID geometry\n",
    "\n",
    "Can get this from the bids_gdf"
   ]
  },
  {
   "cell_type": "code",
   "execution_count": 17,
   "metadata": {},
   "outputs": [
    {
     "data": {
      "text/html": [
       "<div>\n",
       "<style scoped>\n",
       "    .dataframe tbody tr th:only-of-type {\n",
       "        vertical-align: middle;\n",
       "    }\n",
       "\n",
       "    .dataframe tbody tr th {\n",
       "        vertical-align: top;\n",
       "    }\n",
       "\n",
       "    .dataframe thead th {\n",
       "        text-align: right;\n",
       "    }\n",
       "</style>\n",
       "<table border=\"1\" class=\"dataframe\">\n",
       "  <thead>\n",
       "    <tr style=\"text-align: right;\">\n",
       "      <th></th>\n",
       "      <th>objectid</th>\n",
       "      <th>name</th>\n",
       "      <th>long_name</th>\n",
       "      <th>status</th>\n",
       "      <th>link</th>\n",
       "      <th>geometry</th>\n",
       "    </tr>\n",
       "  </thead>\n",
       "  <tbody>\n",
       "    <tr>\n",
       "      <th>0</th>\n",
       "      <td>1</td>\n",
       "      <td>Diamond</td>\n",
       "      <td>Diamond Business Improvement District (BID)</td>\n",
       "      <td>Existing</td>\n",
       "      <td>http://www.sandiego.gov/economic-development/b...</td>\n",
       "      <td>POLYGON ((-117.11028 32.71086, -117.11043 32.7...</td>\n",
       "    </tr>\n",
       "    <tr>\n",
       "      <th>1</th>\n",
       "      <td>2</td>\n",
       "      <td>Downtown San Diego</td>\n",
       "      <td>Downtown San Diego Business Improvement Distri...</td>\n",
       "      <td>Existing</td>\n",
       "      <td>http://www.sandiego.gov/economic-development/b...</td>\n",
       "      <td>POLYGON ((-117.16400 32.71989, -117.16400 32.7...</td>\n",
       "    </tr>\n",
       "    <tr>\n",
       "      <th>2</th>\n",
       "      <td>3</td>\n",
       "      <td>El Cajon Boulevard Central</td>\n",
       "      <td>El Cajon Boulevard Central Business Improvemen...</td>\n",
       "      <td>Existing</td>\n",
       "      <td>http://www.sandiego.gov/economic-development/b...</td>\n",
       "      <td>POLYGON ((-117.07741 32.75811, -117.07750 32.7...</td>\n",
       "    </tr>\n",
       "    <tr>\n",
       "      <th>3</th>\n",
       "      <td>4</td>\n",
       "      <td>El Cajon Boulevard Gateway</td>\n",
       "      <td>El Cajon Boulevard Gateway Improvement Distric...</td>\n",
       "      <td>Existing</td>\n",
       "      <td>http://www.sandiego.gov/economic-development/b...</td>\n",
       "      <td>POLYGON ((-117.12504 32.75573, -117.12357 32.7...</td>\n",
       "    </tr>\n",
       "    <tr>\n",
       "      <th>4</th>\n",
       "      <td>5</td>\n",
       "      <td>Gaslamp Quarter</td>\n",
       "      <td>Gaslamp Quarter Business Improvement District ...</td>\n",
       "      <td>Existing</td>\n",
       "      <td>http://www.sandiego.gov/economic-development/b...</td>\n",
       "      <td>POLYGON ((-117.15925 32.71452, -117.15923 32.7...</td>\n",
       "    </tr>\n",
       "    <tr>\n",
       "      <th>5</th>\n",
       "      <td>6</td>\n",
       "      <td>Hillcrest</td>\n",
       "      <td>Hillcrest Business Improvement District (BID)</td>\n",
       "      <td>Existing</td>\n",
       "      <td>http://www.sandiego.gov/economic-development/b...</td>\n",
       "      <td>POLYGON ((-117.14633 32.75046, -117.14609 32.7...</td>\n",
       "    </tr>\n",
       "    <tr>\n",
       "      <th>6</th>\n",
       "      <td>7</td>\n",
       "      <td>La Jolla</td>\n",
       "      <td>La Jolla Business Improvement District (BID)</td>\n",
       "      <td>Existing</td>\n",
       "      <td>http://www.sandiego.gov/economic-development/b...</td>\n",
       "      <td>POLYGON ((-117.27174 32.85039, -117.27173 32.8...</td>\n",
       "    </tr>\n",
       "    <tr>\n",
       "      <th>7</th>\n",
       "      <td>8</td>\n",
       "      <td>Little Italy</td>\n",
       "      <td>Little Italy Business Improvement District-Pro...</td>\n",
       "      <td>Adopted</td>\n",
       "      <td>http://www.sandiego.gov/economic-development/b...</td>\n",
       "      <td>POLYGON ((-117.17451 32.72612, -117.17452 32.7...</td>\n",
       "    </tr>\n",
       "    <tr>\n",
       "      <th>8</th>\n",
       "      <td>9</td>\n",
       "      <td>Mission Hills</td>\n",
       "      <td>Mission Hills Business Improvement District (BID)</td>\n",
       "      <td>Existing</td>\n",
       "      <td>http://www.sandiego.gov/economic-development/b...</td>\n",
       "      <td>POLYGON ((-117.17783 32.74000, -117.17780 32.7...</td>\n",
       "    </tr>\n",
       "    <tr>\n",
       "      <th>9</th>\n",
       "      <td>10</td>\n",
       "      <td>Morena</td>\n",
       "      <td>Morena Business Improvement District-Proposed</td>\n",
       "      <td>Adopted</td>\n",
       "      <td>http://www.sandiego.gov/economic-development/b...</td>\n",
       "      <td>POLYGON ((-117.20633 32.79070, -117.20604 32.7...</td>\n",
       "    </tr>\n",
       "    <tr>\n",
       "      <th>10</th>\n",
       "      <td>11</td>\n",
       "      <td>Ocean Beach</td>\n",
       "      <td>Ocean Beach Business Improvement District (BID)</td>\n",
       "      <td>Existing</td>\n",
       "      <td>http://www.sandiego.gov/economic-development/b...</td>\n",
       "      <td>POLYGON ((-117.24860 32.74405, -117.25005 32.7...</td>\n",
       "    </tr>\n",
       "    <tr>\n",
       "      <th>11</th>\n",
       "      <td>12</td>\n",
       "      <td>Old Town</td>\n",
       "      <td>Old Town Business Improvement District (BID)</td>\n",
       "      <td>Existing</td>\n",
       "      <td>http://www.sandiego.gov/economic-development/b...</td>\n",
       "      <td>POLYGON ((-117.18969 32.75703, -117.18969 32.7...</td>\n",
       "    </tr>\n",
       "    <tr>\n",
       "      <th>12</th>\n",
       "      <td>13</td>\n",
       "      <td>Pacific Beach</td>\n",
       "      <td>Pacific Beach Business Improvement District</td>\n",
       "      <td>Adopted</td>\n",
       "      <td>http://www.sandiego.gov/economic-development/b...</td>\n",
       "      <td>MULTIPOLYGON (((-117.25422 32.81020, -117.2539...</td>\n",
       "    </tr>\n",
       "    <tr>\n",
       "      <th>13</th>\n",
       "      <td>14</td>\n",
       "      <td>Adams Avenue</td>\n",
       "      <td>Adams Avenue Business Improvement District (BID)</td>\n",
       "      <td>Existing</td>\n",
       "      <td>http://www.sandiego.gov/economic-development/b...</td>\n",
       "      <td>POLYGON ((-117.11564 32.76542, -117.11556 32.7...</td>\n",
       "    </tr>\n",
       "    <tr>\n",
       "      <th>14</th>\n",
       "      <td>15</td>\n",
       "      <td>City Heights</td>\n",
       "      <td>City Heights Business Improvement District (BID)</td>\n",
       "      <td>Existing</td>\n",
       "      <td>http://www.sandiego.gov/economic-development/b...</td>\n",
       "      <td>POLYGON ((-117.09230 32.74767, -117.09283 32.7...</td>\n",
       "    </tr>\n",
       "    <tr>\n",
       "      <th>15</th>\n",
       "      <td>16</td>\n",
       "      <td>College Area</td>\n",
       "      <td>College Area Business Improvement District (BID)</td>\n",
       "      <td>Existing</td>\n",
       "      <td>http://www.sandiego.gov/economic-development/b...</td>\n",
       "      <td>POLYGON ((-117.07732 32.75812, -117.07731 32.7...</td>\n",
       "    </tr>\n",
       "    <tr>\n",
       "      <th>16</th>\n",
       "      <td>17</td>\n",
       "      <td>San Ysidro</td>\n",
       "      <td>San Ysidro Business Improvement District</td>\n",
       "      <td>Existing</td>\n",
       "      <td>http://www.sandiego.gov/economic-development/b...</td>\n",
       "      <td>POLYGON ((-117.06237 32.55903, -117.06279 32.5...</td>\n",
       "    </tr>\n",
       "    <tr>\n",
       "      <th>17</th>\n",
       "      <td>18</td>\n",
       "      <td>Midway</td>\n",
       "      <td>Midway Business Improvement District</td>\n",
       "      <td>Existing</td>\n",
       "      <td>http://www.sandiego.gov/economic-development/b...</td>\n",
       "      <td>POLYGON ((-117.21395 32.74706, -117.21464 32.7...</td>\n",
       "    </tr>\n",
       "    <tr>\n",
       "      <th>18</th>\n",
       "      <td>19</td>\n",
       "      <td>East Village</td>\n",
       "      <td>East Village Business Improvement District (BID)</td>\n",
       "      <td>Adopted</td>\n",
       "      <td>http://www.sandiego.gov/economic-development/b...</td>\n",
       "      <td>POLYGON ((-117.15549 32.71888, -117.15472 32.7...</td>\n",
       "    </tr>\n",
       "    <tr>\n",
       "      <th>19</th>\n",
       "      <td>20</td>\n",
       "      <td>North Park</td>\n",
       "      <td>North Park Business Improvement District (BID)</td>\n",
       "      <td>Existing</td>\n",
       "      <td>http://www.sandiego.gov/economic-development/b...</td>\n",
       "      <td>POLYGON ((-117.12458 32.75075, -117.12418 32.7...</td>\n",
       "    </tr>\n",
       "  </tbody>\n",
       "</table>\n",
       "</div>"
      ],
      "text/plain": [
       "    objectid                        name  \\\n",
       "0          1                     Diamond   \n",
       "1          2          Downtown San Diego   \n",
       "2          3  El Cajon Boulevard Central   \n",
       "3          4  El Cajon Boulevard Gateway   \n",
       "4          5             Gaslamp Quarter   \n",
       "5          6                   Hillcrest   \n",
       "6          7                    La Jolla   \n",
       "7          8                Little Italy   \n",
       "8          9               Mission Hills   \n",
       "9         10                      Morena   \n",
       "10        11                 Ocean Beach   \n",
       "11        12                    Old Town   \n",
       "12        13               Pacific Beach   \n",
       "13        14                Adams Avenue   \n",
       "14        15                City Heights   \n",
       "15        16                College Area   \n",
       "16        17                  San Ysidro   \n",
       "17        18                      Midway   \n",
       "18        19                East Village   \n",
       "19        20                  North Park   \n",
       "\n",
       "                                            long_name    status  \\\n",
       "0         Diamond Business Improvement District (BID)  Existing   \n",
       "1   Downtown San Diego Business Improvement Distri...  Existing   \n",
       "2   El Cajon Boulevard Central Business Improvemen...  Existing   \n",
       "3   El Cajon Boulevard Gateway Improvement Distric...  Existing   \n",
       "4   Gaslamp Quarter Business Improvement District ...  Existing   \n",
       "5       Hillcrest Business Improvement District (BID)  Existing   \n",
       "6        La Jolla Business Improvement District (BID)  Existing   \n",
       "7   Little Italy Business Improvement District-Pro...   Adopted   \n",
       "8   Mission Hills Business Improvement District (BID)  Existing   \n",
       "9       Morena Business Improvement District-Proposed   Adopted   \n",
       "10    Ocean Beach Business Improvement District (BID)  Existing   \n",
       "11       Old Town Business Improvement District (BID)  Existing   \n",
       "12        Pacific Beach Business Improvement District   Adopted   \n",
       "13   Adams Avenue Business Improvement District (BID)  Existing   \n",
       "14   City Heights Business Improvement District (BID)  Existing   \n",
       "15   College Area Business Improvement District (BID)  Existing   \n",
       "16           San Ysidro Business Improvement District  Existing   \n",
       "17               Midway Business Improvement District  Existing   \n",
       "18   East Village Business Improvement District (BID)   Adopted   \n",
       "19     North Park Business Improvement District (BID)  Existing   \n",
       "\n",
       "                                                 link  \\\n",
       "0   http://www.sandiego.gov/economic-development/b...   \n",
       "1   http://www.sandiego.gov/economic-development/b...   \n",
       "2   http://www.sandiego.gov/economic-development/b...   \n",
       "3   http://www.sandiego.gov/economic-development/b...   \n",
       "4   http://www.sandiego.gov/economic-development/b...   \n",
       "5   http://www.sandiego.gov/economic-development/b...   \n",
       "6   http://www.sandiego.gov/economic-development/b...   \n",
       "7   http://www.sandiego.gov/economic-development/b...   \n",
       "8   http://www.sandiego.gov/economic-development/b...   \n",
       "9   http://www.sandiego.gov/economic-development/b...   \n",
       "10  http://www.sandiego.gov/economic-development/b...   \n",
       "11  http://www.sandiego.gov/economic-development/b...   \n",
       "12  http://www.sandiego.gov/economic-development/b...   \n",
       "13  http://www.sandiego.gov/economic-development/b...   \n",
       "14  http://www.sandiego.gov/economic-development/b...   \n",
       "15  http://www.sandiego.gov/economic-development/b...   \n",
       "16  http://www.sandiego.gov/economic-development/b...   \n",
       "17  http://www.sandiego.gov/economic-development/b...   \n",
       "18  http://www.sandiego.gov/economic-development/b...   \n",
       "19  http://www.sandiego.gov/economic-development/b...   \n",
       "\n",
       "                                             geometry  \n",
       "0   POLYGON ((-117.11028 32.71086, -117.11043 32.7...  \n",
       "1   POLYGON ((-117.16400 32.71989, -117.16400 32.7...  \n",
       "2   POLYGON ((-117.07741 32.75811, -117.07750 32.7...  \n",
       "3   POLYGON ((-117.12504 32.75573, -117.12357 32.7...  \n",
       "4   POLYGON ((-117.15925 32.71452, -117.15923 32.7...  \n",
       "5   POLYGON ((-117.14633 32.75046, -117.14609 32.7...  \n",
       "6   POLYGON ((-117.27174 32.85039, -117.27173 32.8...  \n",
       "7   POLYGON ((-117.17451 32.72612, -117.17452 32.7...  \n",
       "8   POLYGON ((-117.17783 32.74000, -117.17780 32.7...  \n",
       "9   POLYGON ((-117.20633 32.79070, -117.20604 32.7...  \n",
       "10  POLYGON ((-117.24860 32.74405, -117.25005 32.7...  \n",
       "11  POLYGON ((-117.18969 32.75703, -117.18969 32.7...  \n",
       "12  MULTIPOLYGON (((-117.25422 32.81020, -117.2539...  \n",
       "13  POLYGON ((-117.11564 32.76542, -117.11556 32.7...  \n",
       "14  POLYGON ((-117.09230 32.74767, -117.09283 32.7...  \n",
       "15  POLYGON ((-117.07732 32.75812, -117.07731 32.7...  \n",
       "16  POLYGON ((-117.06237 32.55903, -117.06279 32.5...  \n",
       "17  POLYGON ((-117.21395 32.74706, -117.21464 32.7...  \n",
       "18  POLYGON ((-117.15549 32.71888, -117.15472 32.7...  \n",
       "19  POLYGON ((-117.12458 32.75075, -117.12418 32.7...  "
      ]
     },
     "execution_count": 17,
     "metadata": {},
     "output_type": "execute_result"
    }
   ],
   "source": [
    "bids_gdf"
   ]
  },
  {
   "cell_type": "code",
   "execution_count": 18,
   "metadata": {},
   "outputs": [],
   "source": [
    "#i.e.\n",
    "ecb_bid = bids_gdf.query(f\"name == 'El Cajon Boulevard Central'\").reset_index()"
   ]
  },
  {
   "cell_type": "code",
   "execution_count": 19,
   "metadata": {},
   "outputs": [
    {
     "data": {
      "text/html": [
       "<div>\n",
       "<style scoped>\n",
       "    .dataframe tbody tr th:only-of-type {\n",
       "        vertical-align: middle;\n",
       "    }\n",
       "\n",
       "    .dataframe tbody tr th {\n",
       "        vertical-align: top;\n",
       "    }\n",
       "\n",
       "    .dataframe thead th {\n",
       "        text-align: right;\n",
       "    }\n",
       "</style>\n",
       "<table border=\"1\" class=\"dataframe\">\n",
       "  <thead>\n",
       "    <tr style=\"text-align: right;\">\n",
       "      <th></th>\n",
       "      <th>index</th>\n",
       "      <th>objectid</th>\n",
       "      <th>name</th>\n",
       "      <th>long_name</th>\n",
       "      <th>status</th>\n",
       "      <th>link</th>\n",
       "      <th>geometry</th>\n",
       "    </tr>\n",
       "  </thead>\n",
       "  <tbody>\n",
       "    <tr>\n",
       "      <th>0</th>\n",
       "      <td>2</td>\n",
       "      <td>3</td>\n",
       "      <td>El Cajon Boulevard Central</td>\n",
       "      <td>El Cajon Boulevard Central Business Improvemen...</td>\n",
       "      <td>Existing</td>\n",
       "      <td>http://www.sandiego.gov/economic-development/b...</td>\n",
       "      <td>POLYGON ((-117.07741 32.75811, -117.07750 32.7...</td>\n",
       "    </tr>\n",
       "  </tbody>\n",
       "</table>\n",
       "</div>"
      ],
      "text/plain": [
       "   index  objectid                        name  \\\n",
       "0      2         3  El Cajon Boulevard Central   \n",
       "\n",
       "                                           long_name    status  \\\n",
       "0  El Cajon Boulevard Central Business Improvemen...  Existing   \n",
       "\n",
       "                                                link  \\\n",
       "0  http://www.sandiego.gov/economic-development/b...   \n",
       "\n",
       "                                            geometry  \n",
       "0  POLYGON ((-117.07741 32.75811, -117.07750 32.7...  "
      ]
     },
     "execution_count": 19,
     "metadata": {},
     "output_type": "execute_result"
    }
   ],
   "source": [
    "ecb_bid"
   ]
  },
  {
   "cell_type": "markdown",
   "metadata": {},
   "source": [
    "## Filter based on the polygon"
   ]
  },
  {
   "cell_type": "code",
   "execution_count": 20,
   "metadata": {},
   "outputs": [],
   "source": [
    "ecb_biz_gdf = valid_geo_gdf[valid_geo_gdf.geometry.within(ecb_bid.iloc[0].geometry)]"
   ]
  },
  {
   "cell_type": "code",
   "execution_count": 21,
   "metadata": {},
   "outputs": [
    {
     "data": {
      "text/plain": [
       "192"
      ]
     },
     "execution_count": 21,
     "metadata": {},
     "output_type": "execute_result"
    }
   ],
   "source": [
    "len(ecb_biz_gdf)"
   ]
  },
  {
   "cell_type": "code",
   "execution_count": 22,
   "metadata": {},
   "outputs": [
    {
     "data": {
      "text/plain": [
       "Index(['level_0', 'index', 'BUSINESS A', 'DBA NAME', 'OWNERSHIP', 'ADDRESS',\n",
       "       'CITY', 'ZIP', 'STATE', 'BUSINESS P', 'OWNER NAME', 'CREATION D',\n",
       "       'START DT', 'EXP DT', 'NAICS', 'ACTIVITY D', 'today', 'years',\n",
       "       'naics_code', 'NAICS Desc', 'sector', 'sector_des', 'zip_code',\n",
       "       'geometry', 'marker'],\n",
       "      dtype='object')"
      ]
     },
     "execution_count": 22,
     "metadata": {},
     "output_type": "execute_result"
    }
   ],
   "source": [
    "ecb_biz_gdf.columns"
   ]
  },
  {
   "cell_type": "code",
   "execution_count": 23,
   "metadata": {},
   "outputs": [],
   "source": [
    "ecb_biz_gdf = ecb_biz_gdf.drop(columns=['level_0']).reset_index()"
   ]
  },
  {
   "cell_type": "markdown",
   "metadata": {},
   "source": [
    "## Create the second set up businesses for the map"
   ]
  },
  {
   "cell_type": "code",
   "execution_count": 24,
   "metadata": {},
   "outputs": [
    {
     "name": "stderr",
     "output_type": "stream",
     "text": [
      "0it [00:00, ?it/s]<ipython-input-24-5032c1f56b95>:8: SettingWithCopyWarning: \n",
      "A value is trying to be set on a copy of a slice from a DataFrame\n",
      "\n",
      "See the caveats in the documentation: https://pandas.pydata.org/pandas-docs/stable/user_guide/indexing.html#returning-a-view-versus-a-copy\n",
      "  ecb_biz_gdf.iloc[i]['marker'] = marker\n",
      "192it [00:01, 166.66it/s]\n"
     ]
    }
   ],
   "source": [
    "ecb_business = list()\n",
    "for i, r in tqdm(ecb_biz_gdf.iterrows()):\n",
    "    marker = CircleMarker(location=(r.geometry.y, r.geometry.x), radius=5, stroke=False, fill_color=\"blue\", fill_opacity=1.0)\n",
    "    msg = HTML()\n",
    "    msg.value = f\"{r['DBA NAME']}\"\n",
    "    marker.popup = msg\n",
    "    ecb_business.append(marker)\n",
    "    ecb_biz_gdf.iloc[i]['marker'] = marker\n",
    "ecb_biz_gdf['marker'] = ecb_business"
   ]
  },
  {
   "cell_type": "code",
   "execution_count": 25,
   "metadata": {},
   "outputs": [],
   "source": [
    "ecb_business_cluster = MarkerCluster(markers=ecb_business, name='Boulevard Businesses')\n",
    "map_display.add_layer(ecb_business_cluster)"
   ]
  },
  {
   "cell_type": "markdown",
   "metadata": {},
   "source": [
    "## Now go back and look at the map again."
   ]
  },
  {
   "cell_type": "markdown",
   "metadata": {},
   "source": [
    "## This demonstrates the basics\n",
    "\n",
    "With this we have basic tools to put businesses on a map, display polygons, spatial filtering, ...  Basics"
   ]
  },
  {
   "cell_type": "code",
   "execution_count": null,
   "metadata": {},
   "outputs": [],
   "source": []
  }
 ],
 "metadata": {
  "kernelspec": {
   "display_name": "Python 3",
   "language": "python",
   "name": "python3"
  },
  "language_info": {
   "codemirror_mode": {
    "name": "ipython",
    "version": 3
   },
   "file_extension": ".py",
   "mimetype": "text/x-python",
   "name": "python",
   "nbconvert_exporter": "python",
   "pygments_lexer": "ipython3",
   "version": "3.8.2"
  }
 },
 "nbformat": 4,
 "nbformat_minor": 4
}
