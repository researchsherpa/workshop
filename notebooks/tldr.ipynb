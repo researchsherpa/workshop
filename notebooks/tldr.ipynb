{
 "cells": [
  {
   "cell_type": "markdown",
   "metadata": {},
   "source": [
    "# tldr\n",
    "\n",
    "Other notebooks in this repository cover the details in analyzing, combining, ... this type of data.\n",
    "\n",
    "I'd like to step back a bit and start to define an `application` using this type of content."
   ]
  },
  {
   "cell_type": "markdown",
   "metadata": {},
   "source": [
    "# Identifying Problems\n",
    "\n",
    "Daniel at scalesd posted a link to a talk by Beryl Forman on [Creative Mornings](https://creativemornings.com/talks/beryl-forman-virtual/1).  She's an urban planner, working for The Boulevard.  It's an interesting talk.  It gave me a couple of ideas on how to use the data I've been collecting.\n",
    "\n",
    "1. She talked about a [city study](https://www.sandiego.gov/planning/programs/transportation/mobility/ecblvdstudy).  Interesting `words` from the intro:\n",
    "\n",
    "> `...recommendations that ultimately would catalyze meaningful and transformative investments on El Cajon Boulevard to facilitate a beautiful, vibrant and welcoming area for shopping, eating, neighborhood services, and pedestrian activity for residents and visitors.`\n",
    "\n",
    "> `...re-envisioned as a “complete street,” one that is intended to provide safe access for all users including pedestrians, transit riders, bicyclists, and motorists.`\n",
    "\n",
    "2. She mentions [Vision Zero](https://www.sandiego.gov/vision-zero).  Two of the most dangerous intersections are on the Boulevard.  Safe access to local businesses is greatly enhanced if this is controlled.  Urban design is one way to address the problem and find solutions.  This brings back memories from the `Smart Streelights` work.\n",
    "\n",
    "3. Beryl also mentioned the `tree canopy` work in the community.  Specifically she mentions [Kate Sessions Trees](https://katestrees.org/the-commitment).  Maybe some possiblities with the new Tree Canopy project?\n",
    "\n",
    "\n",
    "\n",
    "The most innovative DSML vendors support various types of users collaborating on the same project: data engineers, expert data scientists, citizen data scientists, application developers, and machine learning specialists."
   ]
  },
  {
   "cell_type": "markdown",
   "metadata": {},
   "source": [
    "# JTDB\n",
    "\n",
    "Well actually, maybe [personas and JTDB](https://www.nngroup.com/articles/personas-jobs-be-done/) is a good place to start.  Of course I'm going to shortcut things and use some of this to structure the `what` (for now).  Regardless, it will help me focus.  Looking at 1 above some ideas for `users (persona types)`:\n",
    "\n",
    "  1. `Business owners` - Those that offer shopping, eating, neighborhood services.\n",
    "  \n",
    "  2. `Consumers` - Residents and visitors that buy products, move around, ...\n",
    "  \n",
    "  3. `Planners` - People who understand policy, investment, data, neighborhood services, ...\n",
    "\n",
    "\n",
    "So this simple look-see shows one possible area to focus on for starters, **neighborhood services**.  It might bridge my objectives from both [Scalesd](https://scalesd.org) and [Sustainable Communities](https://model.earth/community/).\n"
   ]
  },
  {
   "cell_type": "markdown",
   "metadata": {},
   "source": [
    "# What Are We Building(sort of?)\n",
    "\n",
    "I will start with the general ideas I've been thinking about or reading.\n",
    "\n",
    "First, here's a description from Loren with CfAtl and the Sustainable Communities challenge:\n",
    "\n",
    "> I think we are creating tools for \"Community Planners to view changes across time\" - but we're turning everyone into community planners! Questions to solve:\n",
    ">   1. What industries are currently in my community?\n",
    ">   2. On average, how do these industries impact the environment?\n",
    ">   3. On average, how do they impact job creation?\n",
    ">   4. On average, how do they impact health?\n",
    ">   5. Ultimately, what course of action can we take to effect these levels?\n",
    "\n",
    "So I think we help answer these types of questions!!  I also think we shouldn't loose site of thinking beyond dashboards to **programmable tools/data**.\n",
    "\n",
    "Next consider a blurb from [VentureBeat](https://venturebeat.com/2021/03/14/gartners-2021-magic-quadrant-cites-glut-of-innovation-in-data-science-and-ml/) regarding Gartner's 2021 Magic Quadrant for DS/ML:\n",
    "\n",
    "> The most innovative DSML vendors support various types of users collaborating on the same project: data engineers, expert data scientists, **citizen data scientists**, application developers, and machine learning specialists... and I would add **citizen consumers**.\n",
    "\n",
    "This might present a **motivation** for developing/deploying a **solution**?\n",
    "\n",
    "One last tidbit of thought from a recent [Medium article](https://medium.com/swlh/why-creative-skills-are-leading-the-way-in-the-future-economy-7602fa455d91) looking at trends shaping the future economy:\n",
    "\n",
    "> **Sustainability and Local Products** - Consumers are beginning to appreciate the importance of ethical, environmental living, craftsmanship, social causes, self-reliance and need-based living. The `demand for Sustainability today is led by the consumer`, not governments or regulations, and `will increase the impact on materials used, supply chain choices, and production systems`. The demand for a circular economy will become commonplace. `Even` in terms of `content`, we see that `regional content`, entertainment and influencers are gaining increased viewership and importance.\n",
    "\n",
    "So, in this I see a **business hypothesis** - will sustainability really be driven by consumers at the local level?  how could we help make that happen?"
   ]
  },
  {
   "cell_type": "markdown",
   "metadata": {},
   "source": [
    "# What Are We Really Building!\n",
    "\n",
    "It's always best to think about your MVP before you invest a whole lot of time.<br/>\n",
    "\n",
    "I can not yet define it in detail, but when this notebook is done (**not today**) I'll have a good idea.\n",
    "\n",
    " <div align=\"center\">\n",
    "    <img src=\"../img/widgets.png\"><br>\n",
    " </div>"
   ]
  },
  {
   "cell_type": "code",
   "execution_count": 1,
   "metadata": {},
   "outputs": [],
   "source": [
    "%run start.py\n",
    "from dboard import MapDisplay, GridDisplay\n",
    "\n",
    "# Two data files for this simple demo.\n",
    "# This is a shape file based on the new Blvd data set\n",
    "osb_11_gdf = gpd.read_file('../data/osb_11.shp', index_col=[0])\n",
    "osb_11_gdf['Start'] = pd.to_datetime(osb_11_gdf['Start'])\n",
    "\n",
    "osb_13_gdf = gpd.read_file('../data/osb_13.shp', index_col=[0])\n",
    "osb_13_gdf['Start'] = pd.to_datetime(osb_13_gdf['Start'])\n",
    "\n",
    "ecb_gdf = pd.concat([osb_11_gdf, osb_13_gdf])\n",
    "\n",
    "# Shape file from City of SD\n",
    "bids_gdf = gpd.read_file(\"../data/bids/bids_datasd.shp\")\n",
    "bids_gdf = bids_gdf.to_crs(epsg=4326)"
   ]
  },
  {
   "cell_type": "code",
   "execution_count": 2,
   "metadata": {},
   "outputs": [],
   "source": [
    "twenty_colors = ['#e6194b', '#3cb44b', '#ffe119', '#4363d8', '#f58231', '#911eb4', '#46f0f0', '#f032e6', '#bcf60c', '#fabebe', \n",
    "                 '#008080', '#e6beff', '#9a6324', '#fffac8', '#800000', '#aaffc3', '#808000', '#ffd8b1', '#000075', '#808080']\n",
    "\n",
    "for index, row in bids_gdf.iterrows():\n",
    "    row['color'] = twenty_colors[index]\n",
    "    \n",
    "bids_gdf['color'] = bids_gdf.apply(lambda r: twenty_colors[r.objectid - 1], axis=1)\n",
    "\n",
    "bids_json = bids_gdf.to_json()"
   ]
  },
  {
   "cell_type": "code",
   "execution_count": null,
   "metadata": {},
   "outputs": [],
   "source": [
    "#bids_json"
   ]
  },
  {
   "cell_type": "code",
   "execution_count": 3,
   "metadata": {},
   "outputs": [
    {
     "data": {
      "text/html": [
       "<div>\n",
       "<style scoped>\n",
       "    .dataframe tbody tr th:only-of-type {\n",
       "        vertical-align: middle;\n",
       "    }\n",
       "\n",
       "    .dataframe tbody tr th {\n",
       "        vertical-align: top;\n",
       "    }\n",
       "\n",
       "    .dataframe thead th {\n",
       "        text-align: right;\n",
       "    }\n",
       "</style>\n",
       "<table border=\"1\" class=\"dataframe\">\n",
       "  <thead>\n",
       "    <tr style=\"text-align: right;\">\n",
       "      <th></th>\n",
       "      <th>objectid</th>\n",
       "      <th>name</th>\n",
       "      <th>long_name</th>\n",
       "      <th>status</th>\n",
       "      <th>link</th>\n",
       "      <th>geometry</th>\n",
       "      <th>color</th>\n",
       "    </tr>\n",
       "  </thead>\n",
       "  <tbody>\n",
       "    <tr>\n",
       "      <th>0</th>\n",
       "      <td>1</td>\n",
       "      <td>Diamond</td>\n",
       "      <td>Diamond Business Improvement District (BID)</td>\n",
       "      <td>Existing</td>\n",
       "      <td>http://www.sandiego.gov/economic-development/b...</td>\n",
       "      <td>POLYGON ((-117.11028 32.71086, -117.11043 32.7...</td>\n",
       "      <td>#e6194b</td>\n",
       "    </tr>\n",
       "    <tr>\n",
       "      <th>1</th>\n",
       "      <td>2</td>\n",
       "      <td>Downtown San Diego</td>\n",
       "      <td>Downtown San Diego Business Improvement Distri...</td>\n",
       "      <td>Existing</td>\n",
       "      <td>http://www.sandiego.gov/economic-development/b...</td>\n",
       "      <td>POLYGON ((-117.16400 32.71989, -117.16400 32.7...</td>\n",
       "      <td>#3cb44b</td>\n",
       "    </tr>\n",
       "    <tr>\n",
       "      <th>2</th>\n",
       "      <td>3</td>\n",
       "      <td>El Cajon Boulevard Central</td>\n",
       "      <td>El Cajon Boulevard Central Business Improvemen...</td>\n",
       "      <td>Existing</td>\n",
       "      <td>http://www.sandiego.gov/economic-development/b...</td>\n",
       "      <td>POLYGON ((-117.07741 32.75811, -117.07750 32.7...</td>\n",
       "      <td>#ffe119</td>\n",
       "    </tr>\n",
       "    <tr>\n",
       "      <th>3</th>\n",
       "      <td>4</td>\n",
       "      <td>El Cajon Boulevard Gateway</td>\n",
       "      <td>El Cajon Boulevard Gateway Improvement Distric...</td>\n",
       "      <td>Existing</td>\n",
       "      <td>http://www.sandiego.gov/economic-development/b...</td>\n",
       "      <td>POLYGON ((-117.12504 32.75573, -117.12357 32.7...</td>\n",
       "      <td>#4363d8</td>\n",
       "    </tr>\n",
       "    <tr>\n",
       "      <th>4</th>\n",
       "      <td>5</td>\n",
       "      <td>Gaslamp Quarter</td>\n",
       "      <td>Gaslamp Quarter Business Improvement District ...</td>\n",
       "      <td>Existing</td>\n",
       "      <td>http://www.sandiego.gov/economic-development/b...</td>\n",
       "      <td>POLYGON ((-117.15925 32.71452, -117.15923 32.7...</td>\n",
       "      <td>#f58231</td>\n",
       "    </tr>\n",
       "    <tr>\n",
       "      <th>5</th>\n",
       "      <td>6</td>\n",
       "      <td>Hillcrest</td>\n",
       "      <td>Hillcrest Business Improvement District (BID)</td>\n",
       "      <td>Existing</td>\n",
       "      <td>http://www.sandiego.gov/economic-development/b...</td>\n",
       "      <td>POLYGON ((-117.14633 32.75046, -117.14609 32.7...</td>\n",
       "      <td>#911eb4</td>\n",
       "    </tr>\n",
       "    <tr>\n",
       "      <th>6</th>\n",
       "      <td>7</td>\n",
       "      <td>La Jolla</td>\n",
       "      <td>La Jolla Business Improvement District (BID)</td>\n",
       "      <td>Existing</td>\n",
       "      <td>http://www.sandiego.gov/economic-development/b...</td>\n",
       "      <td>POLYGON ((-117.27174 32.85039, -117.27173 32.8...</td>\n",
       "      <td>#46f0f0</td>\n",
       "    </tr>\n",
       "    <tr>\n",
       "      <th>7</th>\n",
       "      <td>8</td>\n",
       "      <td>Little Italy</td>\n",
       "      <td>Little Italy Business Improvement District-Pro...</td>\n",
       "      <td>Adopted</td>\n",
       "      <td>http://www.sandiego.gov/economic-development/b...</td>\n",
       "      <td>POLYGON ((-117.17451 32.72612, -117.17452 32.7...</td>\n",
       "      <td>#f032e6</td>\n",
       "    </tr>\n",
       "    <tr>\n",
       "      <th>8</th>\n",
       "      <td>9</td>\n",
       "      <td>Mission Hills</td>\n",
       "      <td>Mission Hills Business Improvement District (BID)</td>\n",
       "      <td>Existing</td>\n",
       "      <td>http://www.sandiego.gov/economic-development/b...</td>\n",
       "      <td>POLYGON ((-117.17783 32.74000, -117.17780 32.7...</td>\n",
       "      <td>#bcf60c</td>\n",
       "    </tr>\n",
       "    <tr>\n",
       "      <th>9</th>\n",
       "      <td>10</td>\n",
       "      <td>Morena</td>\n",
       "      <td>Morena Business Improvement District-Proposed</td>\n",
       "      <td>Adopted</td>\n",
       "      <td>http://www.sandiego.gov/economic-development/b...</td>\n",
       "      <td>POLYGON ((-117.20633 32.79070, -117.20604 32.7...</td>\n",
       "      <td>#fabebe</td>\n",
       "    </tr>\n",
       "    <tr>\n",
       "      <th>10</th>\n",
       "      <td>11</td>\n",
       "      <td>Ocean Beach</td>\n",
       "      <td>Ocean Beach Business Improvement District (BID)</td>\n",
       "      <td>Existing</td>\n",
       "      <td>http://www.sandiego.gov/economic-development/b...</td>\n",
       "      <td>POLYGON ((-117.24860 32.74405, -117.25005 32.7...</td>\n",
       "      <td>#008080</td>\n",
       "    </tr>\n",
       "    <tr>\n",
       "      <th>11</th>\n",
       "      <td>12</td>\n",
       "      <td>Old Town</td>\n",
       "      <td>Old Town Business Improvement District (BID)</td>\n",
       "      <td>Existing</td>\n",
       "      <td>http://www.sandiego.gov/economic-development/b...</td>\n",
       "      <td>POLYGON ((-117.18969 32.75703, -117.18969 32.7...</td>\n",
       "      <td>#e6beff</td>\n",
       "    </tr>\n",
       "    <tr>\n",
       "      <th>12</th>\n",
       "      <td>13</td>\n",
       "      <td>Pacific Beach</td>\n",
       "      <td>Pacific Beach Business Improvement District</td>\n",
       "      <td>Adopted</td>\n",
       "      <td>http://www.sandiego.gov/economic-development/b...</td>\n",
       "      <td>MULTIPOLYGON (((-117.25422 32.81020, -117.2539...</td>\n",
       "      <td>#9a6324</td>\n",
       "    </tr>\n",
       "    <tr>\n",
       "      <th>13</th>\n",
       "      <td>14</td>\n",
       "      <td>Adams Avenue</td>\n",
       "      <td>Adams Avenue Business Improvement District (BID)</td>\n",
       "      <td>Existing</td>\n",
       "      <td>http://www.sandiego.gov/economic-development/b...</td>\n",
       "      <td>POLYGON ((-117.11564 32.76542, -117.11556 32.7...</td>\n",
       "      <td>#fffac8</td>\n",
       "    </tr>\n",
       "    <tr>\n",
       "      <th>14</th>\n",
       "      <td>15</td>\n",
       "      <td>City Heights</td>\n",
       "      <td>City Heights Business Improvement District (BID)</td>\n",
       "      <td>Existing</td>\n",
       "      <td>http://www.sandiego.gov/economic-development/b...</td>\n",
       "      <td>POLYGON ((-117.09230 32.74767, -117.09283 32.7...</td>\n",
       "      <td>#800000</td>\n",
       "    </tr>\n",
       "    <tr>\n",
       "      <th>15</th>\n",
       "      <td>16</td>\n",
       "      <td>College Area</td>\n",
       "      <td>College Area Business Improvement District (BID)</td>\n",
       "      <td>Existing</td>\n",
       "      <td>http://www.sandiego.gov/economic-development/b...</td>\n",
       "      <td>POLYGON ((-117.07732 32.75812, -117.07731 32.7...</td>\n",
       "      <td>#aaffc3</td>\n",
       "    </tr>\n",
       "    <tr>\n",
       "      <th>16</th>\n",
       "      <td>17</td>\n",
       "      <td>San Ysidro</td>\n",
       "      <td>San Ysidro Business Improvement District</td>\n",
       "      <td>Existing</td>\n",
       "      <td>http://www.sandiego.gov/economic-development/b...</td>\n",
       "      <td>POLYGON ((-117.06237 32.55903, -117.06279 32.5...</td>\n",
       "      <td>#808000</td>\n",
       "    </tr>\n",
       "    <tr>\n",
       "      <th>17</th>\n",
       "      <td>18</td>\n",
       "      <td>Midway</td>\n",
       "      <td>Midway Business Improvement District</td>\n",
       "      <td>Existing</td>\n",
       "      <td>http://www.sandiego.gov/economic-development/b...</td>\n",
       "      <td>POLYGON ((-117.21395 32.74706, -117.21464 32.7...</td>\n",
       "      <td>#ffd8b1</td>\n",
       "    </tr>\n",
       "    <tr>\n",
       "      <th>18</th>\n",
       "      <td>19</td>\n",
       "      <td>East Village</td>\n",
       "      <td>East Village Business Improvement District (BID)</td>\n",
       "      <td>Adopted</td>\n",
       "      <td>http://www.sandiego.gov/economic-development/b...</td>\n",
       "      <td>POLYGON ((-117.15549 32.71888, -117.15472 32.7...</td>\n",
       "      <td>#000075</td>\n",
       "    </tr>\n",
       "    <tr>\n",
       "      <th>19</th>\n",
       "      <td>20</td>\n",
       "      <td>North Park</td>\n",
       "      <td>North Park Business Improvement District (BID)</td>\n",
       "      <td>Existing</td>\n",
       "      <td>http://www.sandiego.gov/economic-development/b...</td>\n",
       "      <td>POLYGON ((-117.12458 32.75075, -117.12418 32.7...</td>\n",
       "      <td>#808080</td>\n",
       "    </tr>\n",
       "  </tbody>\n",
       "</table>\n",
       "</div>"
      ],
      "text/plain": [
       "    objectid                        name  \\\n",
       "0          1                     Diamond   \n",
       "1          2          Downtown San Diego   \n",
       "2          3  El Cajon Boulevard Central   \n",
       "3          4  El Cajon Boulevard Gateway   \n",
       "4          5             Gaslamp Quarter   \n",
       "5          6                   Hillcrest   \n",
       "6          7                    La Jolla   \n",
       "7          8                Little Italy   \n",
       "8          9               Mission Hills   \n",
       "9         10                      Morena   \n",
       "10        11                 Ocean Beach   \n",
       "11        12                    Old Town   \n",
       "12        13               Pacific Beach   \n",
       "13        14                Adams Avenue   \n",
       "14        15                City Heights   \n",
       "15        16                College Area   \n",
       "16        17                  San Ysidro   \n",
       "17        18                      Midway   \n",
       "18        19                East Village   \n",
       "19        20                  North Park   \n",
       "\n",
       "                                            long_name    status  \\\n",
       "0         Diamond Business Improvement District (BID)  Existing   \n",
       "1   Downtown San Diego Business Improvement Distri...  Existing   \n",
       "2   El Cajon Boulevard Central Business Improvemen...  Existing   \n",
       "3   El Cajon Boulevard Gateway Improvement Distric...  Existing   \n",
       "4   Gaslamp Quarter Business Improvement District ...  Existing   \n",
       "5       Hillcrest Business Improvement District (BID)  Existing   \n",
       "6        La Jolla Business Improvement District (BID)  Existing   \n",
       "7   Little Italy Business Improvement District-Pro...   Adopted   \n",
       "8   Mission Hills Business Improvement District (BID)  Existing   \n",
       "9       Morena Business Improvement District-Proposed   Adopted   \n",
       "10    Ocean Beach Business Improvement District (BID)  Existing   \n",
       "11       Old Town Business Improvement District (BID)  Existing   \n",
       "12        Pacific Beach Business Improvement District   Adopted   \n",
       "13   Adams Avenue Business Improvement District (BID)  Existing   \n",
       "14   City Heights Business Improvement District (BID)  Existing   \n",
       "15   College Area Business Improvement District (BID)  Existing   \n",
       "16           San Ysidro Business Improvement District  Existing   \n",
       "17               Midway Business Improvement District  Existing   \n",
       "18   East Village Business Improvement District (BID)   Adopted   \n",
       "19     North Park Business Improvement District (BID)  Existing   \n",
       "\n",
       "                                                 link  \\\n",
       "0   http://www.sandiego.gov/economic-development/b...   \n",
       "1   http://www.sandiego.gov/economic-development/b...   \n",
       "2   http://www.sandiego.gov/economic-development/b...   \n",
       "3   http://www.sandiego.gov/economic-development/b...   \n",
       "4   http://www.sandiego.gov/economic-development/b...   \n",
       "5   http://www.sandiego.gov/economic-development/b...   \n",
       "6   http://www.sandiego.gov/economic-development/b...   \n",
       "7   http://www.sandiego.gov/economic-development/b...   \n",
       "8   http://www.sandiego.gov/economic-development/b...   \n",
       "9   http://www.sandiego.gov/economic-development/b...   \n",
       "10  http://www.sandiego.gov/economic-development/b...   \n",
       "11  http://www.sandiego.gov/economic-development/b...   \n",
       "12  http://www.sandiego.gov/economic-development/b...   \n",
       "13  http://www.sandiego.gov/economic-development/b...   \n",
       "14  http://www.sandiego.gov/economic-development/b...   \n",
       "15  http://www.sandiego.gov/economic-development/b...   \n",
       "16  http://www.sandiego.gov/economic-development/b...   \n",
       "17  http://www.sandiego.gov/economic-development/b...   \n",
       "18  http://www.sandiego.gov/economic-development/b...   \n",
       "19  http://www.sandiego.gov/economic-development/b...   \n",
       "\n",
       "                                             geometry    color  \n",
       "0   POLYGON ((-117.11028 32.71086, -117.11043 32.7...  #e6194b  \n",
       "1   POLYGON ((-117.16400 32.71989, -117.16400 32.7...  #3cb44b  \n",
       "2   POLYGON ((-117.07741 32.75811, -117.07750 32.7...  #ffe119  \n",
       "3   POLYGON ((-117.12504 32.75573, -117.12357 32.7...  #4363d8  \n",
       "4   POLYGON ((-117.15925 32.71452, -117.15923 32.7...  #f58231  \n",
       "5   POLYGON ((-117.14633 32.75046, -117.14609 32.7...  #911eb4  \n",
       "6   POLYGON ((-117.27174 32.85039, -117.27173 32.8...  #46f0f0  \n",
       "7   POLYGON ((-117.17451 32.72612, -117.17452 32.7...  #f032e6  \n",
       "8   POLYGON ((-117.17783 32.74000, -117.17780 32.7...  #bcf60c  \n",
       "9   POLYGON ((-117.20633 32.79070, -117.20604 32.7...  #fabebe  \n",
       "10  POLYGON ((-117.24860 32.74405, -117.25005 32.7...  #008080  \n",
       "11  POLYGON ((-117.18969 32.75703, -117.18969 32.7...  #e6beff  \n",
       "12  MULTIPOLYGON (((-117.25422 32.81020, -117.2539...  #9a6324  \n",
       "13  POLYGON ((-117.11564 32.76542, -117.11556 32.7...  #fffac8  \n",
       "14  POLYGON ((-117.09230 32.74767, -117.09283 32.7...  #800000  \n",
       "15  POLYGON ((-117.07732 32.75812, -117.07731 32.7...  #aaffc3  \n",
       "16  POLYGON ((-117.06237 32.55903, -117.06279 32.5...  #808000  \n",
       "17  POLYGON ((-117.21395 32.74706, -117.21464 32.7...  #ffd8b1  \n",
       "18  POLYGON ((-117.15549 32.71888, -117.15472 32.7...  #000075  \n",
       "19  POLYGON ((-117.12458 32.75075, -117.12418 32.7...  #808080  "
      ]
     },
     "execution_count": 3,
     "metadata": {},
     "output_type": "execute_result"
    }
   ],
   "source": [
    "bids_gdf"
   ]
  },
  {
   "cell_type": "code",
   "execution_count": 4,
   "metadata": {},
   "outputs": [
    {
     "data": {
      "text/plain": [
       "1008"
      ]
     },
     "execution_count": 4,
     "metadata": {},
     "output_type": "execute_result"
    }
   ],
   "source": [
    "len(ecb_gdf)"
   ]
  },
  {
   "cell_type": "code",
   "execution_count": 5,
   "metadata": {},
   "outputs": [
    {
     "data": {
      "text/plain": [
       "310"
      ]
     },
     "execution_count": 5,
     "metadata": {},
     "output_type": "execute_result"
    }
   ],
   "source": [
    "len(osb_11_gdf)"
   ]
  },
  {
   "cell_type": "code",
   "execution_count": 6,
   "metadata": {},
   "outputs": [
    {
     "data": {
      "text/plain": [
       "698"
      ]
     },
     "execution_count": 6,
     "metadata": {},
     "output_type": "execute_result"
    }
   ],
   "source": [
    "len(osb_13_gdf)"
   ]
  },
  {
   "cell_type": "code",
   "execution_count": 7,
   "metadata": {},
   "outputs": [
    {
     "data": {
      "text/plain": [
       "1008"
      ]
     },
     "execution_count": 7,
     "metadata": {},
     "output_type": "execute_result"
    }
   ],
   "source": [
    "_ + __"
   ]
  },
  {
   "cell_type": "code",
   "execution_count": 8,
   "metadata": {
    "tags": []
   },
   "outputs": [
    {
     "data": {
      "application/vnd.jupyter.widget-view+json": {
       "model_id": "c86b6cb1f52546e39b4923dfd2e7309e",
       "version_major": 2,
       "version_minor": 0
      },
      "text/plain": [
       "Map(center=[32.715, -117.1625], controls=(ZoomControl(options=['position', 'zoom_in_text', 'zoom_in_title', 'z…"
      ]
     },
     "metadata": {},
     "output_type": "display_data"
    }
   ],
   "source": [
    "map_display = MapDisplay()\n",
    "map_display.map_display"
   ]
  },
  {
   "cell_type": "code",
   "execution_count": 9,
   "metadata": {},
   "outputs": [],
   "source": [
    "map_display.add_bids(bids_gdf)"
   ]
  },
  {
   "cell_type": "code",
   "execution_count": 10,
   "metadata": {},
   "outputs": [
    {
     "data": {
      "application/vnd.jupyter.widget-view+json": {
       "model_id": "7aa222efa7284dbbb2f8c4a1f36d31dd",
       "version_major": 2,
       "version_minor": 0
      },
      "text/plain": [
       "0it [00:00, ?it/s]"
      ]
     },
     "metadata": {},
     "output_type": "display_data"
    }
   ],
   "source": [
    "map_display.add_dboard_layer(ecb_gdf.dropna(subset=['geometry']).reset_index(), \n",
    "                      'biz', \n",
    "                      'Name',\n",
    "                      'Phone')"
   ]
  },
  {
   "cell_type": "code",
   "execution_count": 11,
   "metadata": {},
   "outputs": [
    {
     "data": {
      "text/plain": [
       "Index(['Pub?', 'Owner', 'Name', 'Phone', 'Acct', 'Addr', 'Fraction', 'Street',\n",
       "       'Suite', 'City', 'State', 'Zip Plus', 'Home?', 'NAICS', 'NAICS Desc',\n",
       "       'New?', 'Start', 'Expires', 'Type', 'Employees', 'Council', 'Area',\n",
       "       'BID', 'BID Desc', 'BID Zone', 'Category', 'geometry'],\n",
       "      dtype='object')"
      ]
     },
     "execution_count": 11,
     "metadata": {},
     "output_type": "execute_result"
    }
   ],
   "source": [
    "ecb_gdf.columns"
   ]
  },
  {
   "cell_type": "code",
   "execution_count": 12,
   "metadata": {},
   "outputs": [
    {
     "data": {
      "application/vnd.jupyter.widget-view+json": {
       "model_id": "ab168f81e9dd43f9a7f3b00c566c296c",
       "version_major": 2,
       "version_minor": 0
      },
      "text/plain": [
       "QgridWidget(grid_options={'fullWidthRows': True, 'syncColumnCellResize': True, 'forceFitColumns': True, 'defau…"
      ]
     },
     "metadata": {},
     "output_type": "display_data"
    }
   ],
   "source": [
    "grid_display = GridDisplay(osb_11_gdf[['Name', 'Home?', 'New?', 'Type', 'NAICS', 'NAICS Desc','Start', 'Employees']])\n",
    "grid_display.qgrid"
   ]
  },
  {
   "cell_type": "code",
   "execution_count": 13,
   "metadata": {},
   "outputs": [
    {
     "data": {
      "text/plain": [
       "<AxesSubplot:>"
      ]
     },
     "execution_count": 13,
     "metadata": {},
     "output_type": "execute_result"
    },
    {
     "data": {
      "image/png": "[encoded data removed]",
      "text/plain": [
       "<Figure size 432x288 with 1 Axes>"
      ]
     },
     "metadata": {
      "needs_background": "light"
     },
     "output_type": "display_data"
    }
   ],
   "source": [
    "osb_11_gdf[['Name', 'Home?', 'New?', 'Type', 'NAICS', 'NAICS Desc','Start', 'Employees']]['Type'].value_counts().plot(kind='barh')"
   ]
  },
  {
   "cell_type": "code",
   "execution_count": 14,
   "metadata": {},
   "outputs": [],
   "source": [
    "import json\n",
    "zz = json.loads(bids_json)"
   ]
  },
  {
   "cell_type": "code",
   "execution_count": 15,
   "metadata": {},
   "outputs": [
    {
     "data": {
      "text/plain": [
       "dict"
      ]
     },
     "execution_count": 15,
     "metadata": {},
     "output_type": "execute_result"
    }
   ],
   "source": [
    "type(zz)"
   ]
  },
  {
   "cell_type": "code",
   "execution_count": null,
   "metadata": {},
   "outputs": [],
   "source": []
  },
  {
   "cell_type": "code",
   "execution_count": 16,
   "metadata": {},
   "outputs": [],
   "source": [
    "import random\n",
    "def random_color(feature):\n",
    "    return {\n",
    "        'color': 'black',\n",
    "        'fillColor': random.choice(twenty_colors),\n",
    "    }\n",
    "\n",
    "geo_json = GeoJSON(data=zz,\n",
    "                  style={\n",
    "        'opacity': 1, 'dashArray': '2', 'fillOpacity': 0.1, 'weight': 1\n",
    "    },\n",
    "    hover_style={\n",
    "        'color': 'white', 'dashArray': '0', 'fillOpacity': 0.5\n",
    "    },\n",
    "    style_callback=random_color)"
   ]
  },
  {
   "cell_type": "code",
   "execution_count": 17,
   "metadata": {},
   "outputs": [],
   "source": [
    "map_display.map_display.add_layer(geo_json)"
   ]
  },
  {
   "cell_type": "code",
   "execution_count": null,
   "metadata": {},
   "outputs": [],
   "source": [
    "type(geo_json)"
   ]
  },
  {
   "cell_type": "code",
   "execution_count": null,
   "metadata": {},
   "outputs": [],
   "source": [
    "map_display.map_display.remove_layer(geo_json)"
   ]
  },
  {
   "cell_type": "code",
   "execution_count": null,
   "metadata": {},
   "outputs": [],
   "source": []
  }
 ],
 "metadata": {
  "kernelspec": {
   "display_name": "Python 3",
   "language": "python",
   "name": "python3"
  },
  "language_info": {
   "codemirror_mode": {
    "name": "ipython",
    "version": 3
   },
   "file_extension": ".py",
   "mimetype": "text/x-python",
   "name": "python",
   "nbconvert_exporter": "python",
   "pygments_lexer": "ipython3",
   "version": "3.8.8"
  }
 },
 "nbformat": 4,
 "nbformat_minor": 4
}
