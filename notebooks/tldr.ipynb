{
 "cells": [
  {
   "cell_type": "markdown",
   "metadata": {},
   "source": [
    "# tldr\n",
    "\n",
    "Other notebooks in this repository cover the details in analyzing, combining, ... this type of data.\n",
    "\n",
    "I'd like to step back a bit and start to define an `application` using this type of content."
   ]
  },
  {
   "cell_type": "markdown",
   "metadata": {},
   "source": [
    "# Identifying Problems\n",
    "\n",
    "Daniel at scalesd posted a link to a talk by Beryl Forman on [Creative Mornings](https://creativemornings.com/talks/beryl-forman-virtual/1).  She's an urban planner, working for The Boulevard.  It's an interesting talk.  It gave me a couple of ideas on how to use the data I've been collecting.\n",
    "\n",
    "1. She talked about a [city study](https://www.sandiego.gov/planning/programs/transportation/mobility/ecblvdstudy).  Interesting `words` from the intro:\n",
    "\n",
    "> `...recommendations that ultimately would catalyze meaningful and transformative investments on El Cajon Boulevard to facilitate a beautiful, vibrant and welcoming area for shopping, eating, neighborhood services, and pedestrian activity for residents and visitors.`\n",
    "\n",
    "> `...re-envisioned as a “complete street,” one that is intended to provide safe access for all users including pedestrians, transit riders, bicyclists, and motorists.`\n",
    "\n",
    "2. She mentions [Vision Zero](https://www.sandiego.gov/vision-zero).  Two of the most dangerous intersections are on the Boulevard.  Safe access to local businesses is greatly enhanced if this is controlled.  Urban design is one way to address the problem and find solutions.  This brings back memories from the `Smart Streelights` work.\n",
    "\n",
    "3. Beryl also mentioned the `tree canopy` work in the community.  Specifically she mentions [Kate Sessions Trees](https://katestrees.org/the-commitment).  Maybe some possiblities with the new Tree Canopy project?\n",
    "\n",
    "\n",
    "\n",
    "The most innovative DSML vendors support various types of users collaborating on the same project: data engineers, expert data scientists, citizen data scientists, application developers, and machine learning specialists."
   ]
  },
  {
   "cell_type": "markdown",
   "metadata": {},
   "source": [
    "# JTDB\n",
    "\n",
    "Well actually, maybe [personas and JTDB](https://www.nngroup.com/articles/personas-jobs-be-done/) is a good place to start.  Of course I'm going to shortcut things and use some of this to structure the `what` (for now).  Regardless, it will help me focus.  Looking at 1 above some ideas for `users (persona types)`:\n",
    "\n",
    "  1. `Business owners` - Those that offer shopping, eating, neighborhood services.\n",
    "  \n",
    "  2. `Consumers` - Residents and visitors that buy products, move around, ...\n",
    "  \n",
    "  3. `Planners` - People who understand policy, investment, data, neighborhood services, ...\n",
    "\n",
    "\n",
    "So this simple look-see shows one possible area to focus on for starters, **neighborhood services**.  It might bridge my objectives from both [Scalesd](https://scalesd.org) and [Sustainable Communities](https://model.earth/community/).\n"
   ]
  },
  {
   "cell_type": "markdown",
   "metadata": {},
   "source": [
    "# What Are We Building(sort of?)\n",
    "\n",
    "I will start with the general ideas I've been thinking about or reading.\n",
    "\n",
    "First, here's a description from Loren with CfAtl and the Sustainable Communities challenge:\n",
    "\n",
    "> I think we are creating tools for \"Community Planners to view changes across time\" - but we're turning everyone into community planners! Questions to solve:\n",
    ">   1. What industries are currently in my community?\n",
    ">   2. On average, how do these industries impact the environment?\n",
    ">   3. On average, how do they impact job creation?\n",
    ">   4. On average, how do they impact health?\n",
    ">   5. Ultimately, what course of action can we take to effect these levels?\n",
    "\n",
    "So I think we help answer these types of questions!!  I also think we shouldn't loose site of thinking beyond dashboards to **programmable tools/data**.\n",
    "\n",
    "Next consider a blurb from [VentureBeat](https://venturebeat.com/2021/03/14/gartners-2021-magic-quadrant-cites-glut-of-innovation-in-data-science-and-ml/) regarding Gartner's 2021 Magic Quadrant for DS/ML:\n",
    "\n",
    "> The most innovative DSML vendors support various types of users collaborating on the same project: data engineers, expert data scientists, **citizen data scientists**, application developers, and machine learning specialists... and I would add **citizen consumers**.\n",
    "\n",
    "This might present a **motivation** for developing/deploying a **solution**?\n",
    "\n",
    "One last tidbit of thought from a recent [Medium article](https://medium.com/swlh/why-creative-skills-are-leading-the-way-in-the-future-economy-7602fa455d91) looking at trends shaping the future economy:\n",
    "\n",
    "> **Sustainability and Local Products** - Consumers are beginning to appreciate the importance of ethical, environmental living, craftsmanship, social causes, self-reliance and need-based living. The `demand for Sustainability today is led by the consumer`, not governments or regulations, and `will increase the impact on materials used, supply chain choices, and production systems`. The demand for a circular economy will become commonplace. `Even` in terms of `content`, we see that `regional content`, entertainment and influencers are gaining increased viewership and importance.\n",
    "\n",
    "So, in this I see a **business hypothesis** - will sustainability really be driven by consumers at the local level?  how could we help make that happen?"
   ]
  },
  {
   "cell_type": "markdown",
   "metadata": {},
   "source": [
    "# What Are We Really Building!\n",
    "\n",
    "It's always best to think about your MVP before you invest a whole lot of time.<br/>\n",
    "\n",
    "I can not yet define it in detail, but when this notebook is done (**not today**) I'll have a good idea.\n",
    "\n",
    " <div align=\"center\">\n",
    "    <img src=\"../img/widgets.png\"><br>\n",
    " </div>"
   ]
  },
  {
   "cell_type": "code",
   "execution_count": 1,
   "metadata": {},
   "outputs": [],
   "source": [
    "%run start.py\n",
    "from dboard import MapDisplay, GridDisplay\n",
    "\n",
    "# Two data files for this simple demo.\n",
    "# This is a shape file based on the new Blvd data set\n",
    "osb_11_gdf = gpd.read_file('../data/osb_11.shp', index_col=[0])\n",
    "osb_11_gdf['Start'] = pd.to_datetime(osb_11_gdf['Start'])\n",
    "osb_11_gdf['Start'] = pd.to_datetime(osb_11_gdf['Start'])\n",
    "\n",
    "# Shape file from City of SD\n",
    "bids_gdf = gpd.read_file(\"../data/bids/bids_datasd.shp\")\n",
    "bids_gdf = bids_gdf.to_crs(epsg=4326)"
   ]
  },
  {
   "cell_type": "code",
   "execution_count": 2,
   "metadata": {},
   "outputs": [
    {
     "data": {
      "application/vnd.jupyter.widget-view+json": {
       "model_id": "1be21aa2b0094ccea5add20d0471fb53",
       "version_major": 2,
       "version_minor": 0
      },
      "text/plain": [
       "Map(center=[32.715, -117.1625], controls=(ZoomControl(options=['position', 'zoom_in_text', 'zoom_in_title', 'z…"
      ]
     },
     "metadata": {},
     "output_type": "display_data"
    }
   ],
   "source": [
    "map_display = MapDisplay()\n",
    "map_display.map_display"
   ]
  },
  {
   "cell_type": "code",
   "execution_count": 3,
   "metadata": {},
   "outputs": [],
   "source": [
    "map_display.add_bids(bids_gdf)"
   ]
  },
  {
   "cell_type": "code",
   "execution_count": 4,
   "metadata": {},
   "outputs": [
    {
     "name": "stderr",
     "output_type": "stream",
     "text": [
      "309it [00:04, 68.57it/s]\n"
     ]
    }
   ],
   "source": [
    "map_display.add_layer(osb_11_gdf.dropna(subset=['geometry']).reset_index(), \n",
    "                      'biz', \n",
    "                      'Name')"
   ]
  },
  {
   "cell_type": "code",
   "execution_count": 5,
   "metadata": {},
   "outputs": [
    {
     "data": {
      "application/vnd.jupyter.widget-view+json": {
       "model_id": "67461c112c0440549451f38a8888708f",
       "version_major": 2,
       "version_minor": 0
      },
      "text/plain": [
       "QgridWidget(grid_options={'fullWidthRows': True, 'syncColumnCellResize': True, 'forceFitColumns': True, 'defau…"
      ]
     },
     "metadata": {},
     "output_type": "display_data"
    }
   ],
   "source": [
    "grid_display = GridDisplay(osb_11_gdf[['Name', 'Home?', 'New?', 'Type', 'NAICS', 'NAICS Desc','Start', 'Employees']])\n",
    "grid_display.qgrid"
   ]
  },
  {
   "cell_type": "code",
   "execution_count": 6,
   "metadata": {},
   "outputs": [
    {
     "data": {
      "text/plain": [
       "<matplotlib.axes._subplots.AxesSubplot at 0x7f585e5cdd00>"
      ]
     },
     "execution_count": 6,
     "metadata": {},
     "output_type": "execute_result"
    },
    {
     "data": {
      "image/png": "[encoded data removed]",
      "text/plain": [
       "<Figure size 432x288 with 1 Axes>"
      ]
     },
     "metadata": {
      "needs_background": "light"
     },
     "output_type": "display_data"
    }
   ],
   "source": [
    "osb_11_gdf[['Name', 'Home?', 'New?', 'Type', 'NAICS', 'NAICS Desc','Start', 'Employees']]['Type'].value_counts().plot(kind='barh')"
   ]
  },
  {
   "cell_type": "code",
   "execution_count": null,
   "metadata": {},
   "outputs": [],
   "source": []
  }
 ],
 "metadata": {
  "kernelspec": {
   "display_name": "Python 3",
   "language": "python",
   "name": "python3"
  },
  "language_info": {
   "codemirror_mode": {
    "name": "ipython",
    "version": 3
   },
   "file_extension": ".py",
   "mimetype": "text/x-python",
   "name": "python",
   "nbconvert_exporter": "python",
   "pygments_lexer": "ipython3",
   "version": "3.8.2"
  }
 },
 "nbformat": 4,
 "nbformat_minor": 4
}
