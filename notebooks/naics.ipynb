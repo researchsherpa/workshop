{
 "cells": [
  {
   "cell_type": "markdown",
   "metadata": {},
   "source": [
    "# Analyzing NAICS codes\n",
    "\n",
    "I would like to understand the NAICS coding used in the San Diego business data.  Specifically:\n",
    "  1. The original data set contains two different columns with NAICS codes, NAICS and naics_code.  I'm not sure who did the encoding.\n",
    "  2. I'm going to make a huge assumption that the 2017 version is used.\n",
    "  3. This analysis starts with the non-geocoded dataframe built in transform.ipynb. Once we understand this we can look at it geographically.\n",
    "  4. The transform process added two columns: sector and sector_desc based on first two digits of NAICS.\n",
    "  5. NAICS data (primarily via the naics module) for validation etc. was obtained from census.gov (2017 version).\n",
    "  \n",
    "  \n",
    "Results of this analysis will be:\n",
    "  1. Which codes are valid 2017 codes?\n",
    "  2. Can we identify an algorithm to \"roll up\" invalid codes to the \"best\" valid code?\n",
    "  3. I will stop short of implementing the algorithm."
   ]
  },
  {
   "cell_type": "markdown",
   "metadata": {},
   "source": [
    "`Starting from Daniel's email:`<br/>\n",
    "Based on that table, we've identified the following categories (`sector highlighting is mine`):<br/>\n",
    "Construction - code **23**, **23**3, **23**4 etc.<br/>\n",
    "Personal care - **81**21<br/>\n",
    "Health - **62**1 and similar<br/>\n",
    "restaurants - **31**, **31**1811, **31**212 etc.<br/>\n",
    "schools and instruction (including fitness and personal training) - **61**, **61**1<br/>\n",
    "retail (**45**) somehow didn't make it into pivot tables, but I believe it should be there as well - small retail\n",
    "\n",
    "So, for starters, the `sectors` **we're interested in** are: **23, 31, 45, 61, 62, and 81**."
   ]
  },
  {
   "cell_type": "code",
   "execution_count": 1,
   "metadata": {},
   "outputs": [],
   "source": [
    "%run start.py\n",
    "import naics\n",
    "from collections import defaultdict"
   ]
  },
  {
   "cell_type": "markdown",
   "metadata": {},
   "source": [
    "Read the data and transform the dtypes.  The read/write machinery wants to convert the NAICS to int's."
   ]
  },
  {
   "cell_type": "code",
   "execution_count": 2,
   "metadata": {},
   "outputs": [],
   "source": [
    "transformed_df = pd.read_csv(\"../data/transformed.csv\", sep='\\t', index_col=0, dtype={'NAICS': str, 'naics_code': str, 'sector': str})"
   ]
  },
  {
   "cell_type": "markdown",
   "metadata": {},
   "source": [
    "## Utilities\n",
    "\n",
    "Adding functions and look up table (dictionary) for use later in the analysis.  Evenutally need to turn this into py for use in other areas."
   ]
  },
  {
   "cell_type": "code",
   "execution_count": 3,
   "metadata": {},
   "outputs": [],
   "source": [
    "#TBD: move this to naics module?\n",
    "def invalid_codes(pd_column):\n",
    "    missing_codes = defaultdict(int)\n",
    "    for c in pd_column:\n",
    "        if naics.valid_code(c) is False:\n",
    "            if c in missing_codes.keys():\n",
    "                missing_codes[c] += 1\n",
    "            else:\n",
    "                missing_codes[c] = 1\n",
    "    return missing_codes\n",
    "\n",
    "def total_count(df):\n",
    "    return len(df)\n",
    "\n",
    "def invalid_count(invalid_dict):\n",
    "    return sum(list(invalid_dict.values()))\n",
    "\n",
    "level_map = {2: 'Sector Level(2)',\n",
    "            3: 'Subsector Level(3)',\n",
    "            4: 'Industry Group Level(4)',\n",
    "            5: 'Industry Level(5)',\n",
    "            6: 'US Industry Level(6)'}\n",
    "\n",
    "def naics_level_mapping(naics_str):\n",
    "    return level_map[len(naics_str)]\n",
    "\n",
    "# moving this from lower in the (old) nb.  Don't think I need it?  Revisit.\n",
    "def count_per_code(code_dict):\n",
    "    s = 0\n",
    "    for k, v in code_dict.items():\n",
    "        s += v\n",
    "    return s\n",
    "\n",
    "def sum_code_counts(count_dict):\n",
    "    return sum(list(count_dict.values()))\n",
    "\n",
    "\n",
    "# taken from https://stackoverflow.com/questions/38783027/jupyter-notebook-display-two-pandas-tables-side-by-side#:~:text=To%20display%20two%20DataFrames%20side,the%20display_html%20method%20from%20IPython.\n",
    "# attributed to jakevdp\n",
    "from IPython.display import display_html, display, HTML\n",
    "def display_side_by_side(dfs:list, captions:list):\n",
    "    html_str=''\n",
    "    for caption, df in dict(zip(captions, dfs)).items():\n",
    "        html_str += df.style.set_table_attributes(\"style='display:inline'\").set_caption(caption)._repr_html_()\n",
    "        html_str += \"\\xa0\\xa0\\xa0\\xa0\"\n",
    "    #display_html(html_str.replace('table','table style=\"display:inline\"'),raw=True)\n",
    "    display(HTML(html_str))"
   ]
  },
  {
   "cell_type": "markdown",
   "metadata": {},
   "source": [
    "### Levels encoded by NAICS codes\n",
    "\n",
    "NAICS codes have different numbers of digits based on the specificity of the encoding.<br/>\n",
    "I'm assuming that more is better than less?<br/><br/>\n",
    "Here's a list of the level names and digit counts."
   ]
  },
  {
   "cell_type": "code",
   "execution_count": 4,
   "metadata": {},
   "outputs": [
    {
     "name": "stdout",
     "output_type": "stream",
     "text": [
      "Sector Level(2)\n",
      "Subsector Level(3)\n",
      "Industry Group Level(4)\n",
      "Industry Level(5)\n",
      "US Industry Level(6)\n"
     ]
    }
   ],
   "source": [
    "for encoding_level in list(level_map.values()):\n",
    "    print(encoding_level)"
   ]
  },
  {
   "cell_type": "markdown",
   "metadata": {},
   "source": [
    "Before I look at NAICS levels in the data set I'll take one last check on the sector level mappings (the first two digits) is to verify they're the same based on NAICS and naics_code."
   ]
  },
  {
   "cell_type": "code",
   "execution_count": 5,
   "metadata": {},
   "outputs": [
    {
     "data": {
      "text/plain": [
       "True"
      ]
     },
     "execution_count": 5,
     "metadata": {},
     "output_type": "execute_result"
    }
   ],
   "source": [
    "len(transformed_df[transformed_df['naics_code'].apply(lambda c: c[:2]) != transformed_df['sector']]) == 0"
   ]
  },
  {
   "cell_type": "markdown",
   "metadata": {},
   "source": [
    "So sector codes derivied from both NAICS and nacis_code are the same.  That is good!"
   ]
  },
  {
   "cell_type": "markdown",
   "metadata": {},
   "source": [
    "## Check for valid codes\n",
    "\n",
    "This step simply checks the codes in the business data set with codes from census.gov.<br/>\n",
    "I'm using python utilities defined above.  They use a simple census naics wrapper found in src/naics.py."
   ]
  },
  {
   "cell_type": "markdown",
   "metadata": {},
   "source": [
    "### sector code validation"
   ]
  },
  {
   "cell_type": "code",
   "execution_count": 6,
   "metadata": {},
   "outputs": [
    {
     "name": "stdout",
     "output_type": "stream",
     "text": [
      "0.00%\n"
     ]
    }
   ],
   "source": [
    "sector_dict = invalid_codes(transformed_df['sector'])\n",
    "\n",
    "percentage = invalid_count(sector_dict) / total_count(transformed_df)\n",
    "print(f\"{percentage:.2%}\")"
   ]
  },
  {
   "cell_type": "markdown",
   "metadata": {},
   "source": [
    "All the sector codes are valid, so we're good at that level.</br>\n",
    "Now look at the counts for each sector (note I'm using the sector_desc for clarity).<br/>\n",
    "\n",
    "Interesting!"
   ]
  },
  {
   "cell_type": "code",
   "execution_count": 7,
   "metadata": {},
   "outputs": [
    {
     "data": {
      "text/plain": [
       "Professional, Scientific, and Technical Services(54)                            11358\n",
       "Other Services (except Public Administration)(81)                                8159\n",
       "Health Care and Social Assistance(62)                                            4170\n",
       "Administrative and Support and Waste Management and Remediation Services(56)     4125\n",
       "Construction(23)                                                                 4122\n",
       "Retail Trade(45)                                                                 3567\n",
       "Accommodation and Food Services(72)                                              2951\n",
       "Retail Trade(44)                                                                 2855\n",
       "Real Estate and Rental and Leasing(53)                                           2730\n",
       "Wholesale Trade(42)                                                              1719\n",
       "Transportation and Warehousing(48)                                               1624\n",
       "Educational Services(61)                                                         1499\n",
       "Arts, Entertainment, and Recreation(71)                                          1257\n",
       "Finance and Insurance(52)                                                        1029\n",
       "Manufacturing(33)                                                                 727\n",
       "Information(51)                                                                   650\n",
       "Manufacturing(32)                                                                 263\n",
       "Transportation and Warehousing(49)                                                256\n",
       "Manufacturing(31)                                                                 247\n",
       "Management of Companies and EnterprisesT(55)                                      202\n",
       "Agriculture, Forestry, Fishing and Hunting(11)                                     96\n",
       "Utilities(22)                                                                      58\n",
       "Public Administration(92)                                                           9\n",
       "Mining, Quarrying, and Oil and Gas Extraction(21)                                   2\n",
       "Name: sector_desc, dtype: int64"
      ]
     },
     "execution_count": 7,
     "metadata": {},
     "output_type": "execute_result"
    }
   ],
   "source": [
    "transformed_df.sector_desc.value_counts()"
   ]
  },
  {
   "cell_type": "markdown",
   "metadata": {},
   "source": [
    "### First look at codes\n",
    "\n",
    "Recollect the list of sectors we're interested in: 23, 31, 45, 61, 62, and 81."
   ]
  },
  {
   "cell_type": "code",
   "execution_count": 8,
   "metadata": {},
   "outputs": [],
   "source": [
    "scalesd_biz_sectors = ['23', '31', '45', '61', '62', '81']"
   ]
  },
  {
   "cell_type": "code",
   "execution_count": 9,
   "metadata": {},
   "outputs": [
    {
     "data": {
      "text/plain": [
       "21764"
      ]
     },
     "execution_count": 9,
     "metadata": {},
     "output_type": "execute_result"
    }
   ],
   "source": [
    "len(transformed_df.query(f\"sector in {scalesd_biz_sectors}\"))"
   ]
  },
  {
   "cell_type": "code",
   "execution_count": 10,
   "metadata": {},
   "outputs": [
    {
     "name": "stdout",
     "output_type": "stream",
     "text": [
      "40.55%\n"
     ]
    }
   ],
   "source": [
    "print(f\"{_/len(transformed_df):.2%}\")"
   ]
  },
  {
   "cell_type": "markdown",
   "metadata": {},
   "source": [
    "So 41% of the rows are in our sectors of interest."
   ]
  },
  {
   "cell_type": "markdown",
   "metadata": {},
   "source": [
    "I'm interested in \"**_knowledge businesses_**\" and wonder how many there are in the dataset?<br/>\n",
    "`some might argue all business are knowledge businesses?`"
   ]
  },
  {
   "cell_type": "code",
   "execution_count": 11,
   "metadata": {},
   "outputs": [
    {
     "name": "stdout",
     "output_type": "stream",
     "text": [
      "51: Information\n",
      "52: Finance and Insurance\n",
      "54: Professional, Scientific, and Technical Services\n",
      "55: Management of Companies and Enterprises\n",
      "56: Administrative and Support and Waste Management and Remediation Services\n"
     ]
    }
   ],
   "source": [
    "# i.e. the NAICS sector codes I'm defining as knowledge businesses (i.e. selling your knowledge)\n",
    "knowledge_biz_codes = ['51', '52', '54', '55', '56']\n",
    "for naics_sector in knowledge_biz_codes:\n",
    "    print(f\"{naics_sector}: {naics.title(naics_sector)}\")"
   ]
  },
  {
   "cell_type": "code",
   "execution_count": 12,
   "metadata": {},
   "outputs": [
    {
     "name": "stdout",
     "output_type": "stream",
     "text": [
      "32.35%\n"
     ]
    }
   ],
   "source": [
    "knowledge_biz = len(transformed_df.query(f\"sector in {knowledge_biz_codes}\"))\n",
    "print(f\"{knowledge_biz/len(transformed_df):.2%}\")"
   ]
  },
  {
   "cell_type": "markdown",
   "metadata": {},
   "source": [
    "So a reasonable percentage of the businesses fall within my definition of knowlege-based businesses."
   ]
  },
  {
   "cell_type": "markdown",
   "metadata": {},
   "source": [
    "### NAICS validation\n",
    "\n",
    "This process will look at the NAICS codes, use predicate from naics module and determine if the code is valid in the 2017 version of NAICS.<br/>\n",
    "First let's look at the NAICS column from the original data set."
   ]
  },
  {
   "cell_type": "code",
   "execution_count": 13,
   "metadata": {},
   "outputs": [
    {
     "name": "stdout",
     "output_type": "stream",
     "text": [
      "Invalid naics_code codes: 23.81%\n",
      "Valid naics_code codes: 76.19%\n"
     ]
    }
   ],
   "source": [
    "invalid_dict = invalid_codes(transformed_df['NAICS'])\n",
    "\n",
    "percentage = invalid_count(invalid_dict) / total_count(transformed_df['NAICS'])\n",
    "print(f\"Invalid naics_code codes: {percentage:.2%}\")\n",
    "print(f\"Valid naics_code codes: {1 - percentage:.2%}\")"
   ]
  },
  {
   "cell_type": "code",
   "execution_count": 14,
   "metadata": {},
   "outputs": [],
   "source": [
    "# remember the length of the code identifies the NAICS level (see level_map above)\n",
    "transformed_df['NAICS_len'] = transformed_df['NAICS'].apply(lambda v: len(v))\n",
    "transformed_df['NAICS_valid'] = transformed_df['NAICS'].apply(lambda c: naics.valid_code(c))"
   ]
  },
  {
   "cell_type": "markdown",
   "metadata": {},
   "source": [
    "Understand that both the NAICS and naics_code columns are encoded to multiple specific `naics levels`.<br/>\n",
    "We can look at the distribution, by `naics level` for the NAICS column."
   ]
  },
  {
   "cell_type": "code",
   "execution_count": 15,
   "metadata": {},
   "outputs": [
    {
     "data": {
      "text/plain": [
       "Industry Level(5)          25632\n",
       "Industry Group Level(4)    11046\n",
       "US Industry Level(6)       10013\n",
       "Subsector Level(3)          6249\n",
       "Sector Level(2)              735\n",
       "Name: NAICS_len, dtype: int64"
      ]
     },
     "execution_count": 15,
     "metadata": {},
     "output_type": "execute_result"
    }
   ],
   "source": [
    "transformed_df['NAICS_len'].apply(lambda v: level_map[v]).value_counts()"
   ]
  },
  {
   "cell_type": "markdown",
   "metadata": {},
   "source": [
    "### naics_code validation\n",
    "\n",
    "Similar steps for naics_code encoding."
   ]
  },
  {
   "cell_type": "code",
   "execution_count": 16,
   "metadata": {},
   "outputs": [
    {
     "name": "stdout",
     "output_type": "stream",
     "text": [
      "Invalid naics_code codes: 17.20%\n",
      "Valid naics_code codes: 82.80%\n"
     ]
    }
   ],
   "source": [
    "invalid_dict = invalid_codes(transformed_df['naics_code'])\n",
    "\n",
    "percentage = invalid_count(invalid_dict) / total_count(transformed_df)\n",
    "print(f\"Invalid naics_code codes: {percentage:.2%}\")\n",
    "print(f\"Valid naics_code codes: {1 - percentage:.2%}\")"
   ]
  },
  {
   "cell_type": "code",
   "execution_count": 17,
   "metadata": {},
   "outputs": [
    {
     "data": {
      "text/plain": [
       "Industry Group Level(4)    46691\n",
       "Subsector Level(3)          6249\n",
       "Sector Level(2)              735\n",
       "Name: naics_code_len, dtype: int64"
      ]
     },
     "execution_count": 17,
     "metadata": {},
     "output_type": "execute_result"
    }
   ],
   "source": [
    "transformed_df['naics_code_len'] = transformed_df['naics_code'].apply(lambda v: len(v))\n",
    "transformed_df['naics_code_valid'] = transformed_df['naics_code'].apply(lambda c: naics.valid_code(c))\n",
    "\n",
    "transformed_df['naics_code_len'].apply(lambda v: level_map[v]).value_counts()"
   ]
  },
  {
   "cell_type": "markdown",
   "metadata": {},
   "source": [
    "### Results so far\n",
    "\n",
    "Observations from the counts above:\n",
    "\n",
    "  1. Sector Level and Subsector Level have the same counts (doesn't mean they are the same codes of course).\n",
    "  2. naics_code encoding only goes as deep as level 4.\n",
    "  3. NAICS has encodings at all levels.\n",
    "  4. The percentage of valid naics_code is a bit higher than NAICS."
   ]
  },
  {
   "cell_type": "markdown",
   "metadata": {},
   "source": [
    "## Compare NAICS and naics_code"
   ]
  },
  {
   "cell_type": "code",
   "execution_count": 18,
   "metadata": {},
   "outputs": [],
   "source": [
    "naics_df = transformed_df[['BUSINESS ACCT#', 'OWNERSHIP TYPE', 'sector', 'NAICS', 'NAICS_len', 'NAICS_valid', 'naics_code', 'naics_code_len', 'naics_code_valid']]\n",
    "naics_df = naics_df.rename(columns={'OWNERSHIP TYPE': 'TYPE'})"
   ]
  },
  {
   "cell_type": "code",
   "execution_count": 19,
   "metadata": {},
   "outputs": [
    {
     "data": {
      "text/plain": [
       "5    25632\n",
       "4    11046\n",
       "6    10013\n",
       "3     6249\n",
       "2      735\n",
       "Name: NAICS_len, dtype: int64"
      ]
     },
     "execution_count": 19,
     "metadata": {},
     "output_type": "execute_result"
    }
   ],
   "source": [
    "naics_df.NAICS_len.value_counts()"
   ]
  },
  {
   "cell_type": "code",
   "execution_count": 20,
   "metadata": {},
   "outputs": [
    {
     "data": {
      "text/plain": [
       "4    46691\n",
       "3     6249\n",
       "2      735\n",
       "Name: naics_code_len, dtype: int64"
      ]
     },
     "execution_count": 20,
     "metadata": {},
     "output_type": "execute_result"
    }
   ],
   "source": [
    "naics_df.naics_code_len.value_counts()"
   ]
  },
  {
   "cell_type": "code",
   "execution_count": 21,
   "metadata": {},
   "outputs": [],
   "source": [
    "n_value_counts = naics_df.NAICS_len.value_counts().sort_index(ascending=True)\n",
    "n_df_value_counts = pd.DataFrame(n_value_counts)\n",
    "n_df_value_counts = n_df_value_counts.reset_index()\n",
    "n_df_value_counts.columns = ['NAICS level', 'biz count']\n",
    "\n",
    "nc_value_counts = naics_df.naics_code_len.value_counts().sort_index(ascending=True)\n",
    "nc_df_value_counts = pd.DataFrame(nc_value_counts)\n",
    "nc_df_value_counts = nc_df_value_counts.reset_index()\n",
    "nc_df_value_counts.columns = ['NAICS level', 'biz count']"
   ]
  },
  {
   "cell_type": "code",
   "execution_count": 22,
   "metadata": {},
   "outputs": [
    {
     "data": {
      "text/html": [
       "<style  type=\"text/css\" >\n",
       "</style><table id=\"T_52ada_\" style='display:inline'><caption>From NAICS</caption><thead>    <tr>        <th class=\"blank level0\" ></th>        <th class=\"col_heading level0 col0\" >NAICS level</th>        <th class=\"col_heading level0 col1\" >biz count</th>    </tr></thead><tbody>\n",
       "                <tr>\n",
       "                        <th id=\"T_52ada_level0_row0\" class=\"row_heading level0 row0\" >0</th>\n",
       "                        <td id=\"T_52ada_row0_col0\" class=\"data row0 col0\" >2</td>\n",
       "                        <td id=\"T_52ada_row0_col1\" class=\"data row0 col1\" >735</td>\n",
       "            </tr>\n",
       "            <tr>\n",
       "                        <th id=\"T_52ada_level0_row1\" class=\"row_heading level0 row1\" >1</th>\n",
       "                        <td id=\"T_52ada_row1_col0\" class=\"data row1 col0\" >3</td>\n",
       "                        <td id=\"T_52ada_row1_col1\" class=\"data row1 col1\" >6249</td>\n",
       "            </tr>\n",
       "            <tr>\n",
       "                        <th id=\"T_52ada_level0_row2\" class=\"row_heading level0 row2\" >2</th>\n",
       "                        <td id=\"T_52ada_row2_col0\" class=\"data row2 col0\" >4</td>\n",
       "                        <td id=\"T_52ada_row2_col1\" class=\"data row2 col1\" >11046</td>\n",
       "            </tr>\n",
       "            <tr>\n",
       "                        <th id=\"T_52ada_level0_row3\" class=\"row_heading level0 row3\" >3</th>\n",
       "                        <td id=\"T_52ada_row3_col0\" class=\"data row3 col0\" >5</td>\n",
       "                        <td id=\"T_52ada_row3_col1\" class=\"data row3 col1\" >25632</td>\n",
       "            </tr>\n",
       "            <tr>\n",
       "                        <th id=\"T_52ada_level0_row4\" class=\"row_heading level0 row4\" >4</th>\n",
       "                        <td id=\"T_52ada_row4_col0\" class=\"data row4 col0\" >6</td>\n",
       "                        <td id=\"T_52ada_row4_col1\" class=\"data row4 col1\" >10013</td>\n",
       "            </tr>\n",
       "    </tbody></table>    <style  type=\"text/css\" >\n",
       "</style><table id=\"T_14a0b_\" style='display:inline'><caption>From naics_code</caption><thead>    <tr>        <th class=\"blank level0\" ></th>        <th class=\"col_heading level0 col0\" >NAICS level</th>        <th class=\"col_heading level0 col1\" >biz count</th>    </tr></thead><tbody>\n",
       "                <tr>\n",
       "                        <th id=\"T_14a0b_level0_row0\" class=\"row_heading level0 row0\" >0</th>\n",
       "                        <td id=\"T_14a0b_row0_col0\" class=\"data row0 col0\" >2</td>\n",
       "                        <td id=\"T_14a0b_row0_col1\" class=\"data row0 col1\" >735</td>\n",
       "            </tr>\n",
       "            <tr>\n",
       "                        <th id=\"T_14a0b_level0_row1\" class=\"row_heading level0 row1\" >1</th>\n",
       "                        <td id=\"T_14a0b_row1_col0\" class=\"data row1 col0\" >3</td>\n",
       "                        <td id=\"T_14a0b_row1_col1\" class=\"data row1 col1\" >6249</td>\n",
       "            </tr>\n",
       "            <tr>\n",
       "                        <th id=\"T_14a0b_level0_row2\" class=\"row_heading level0 row2\" >2</th>\n",
       "                        <td id=\"T_14a0b_row2_col0\" class=\"data row2 col0\" >4</td>\n",
       "                        <td id=\"T_14a0b_row2_col1\" class=\"data row2 col1\" >46691</td>\n",
       "            </tr>\n",
       "    </tbody></table>    "
      ],
      "text/plain": [
       "<IPython.core.display.HTML object>"
      ]
     },
     "metadata": {},
     "output_type": "display_data"
    }
   ],
   "source": [
    "display_side_by_side([n_df_value_counts, nc_df_value_counts], [\"From NAICS\", \"From naics_code\"])"
   ]
  },
  {
   "cell_type": "markdown",
   "metadata": {},
   "source": [
    "There is good information in this side-by-side comparison.<br>\n",
    "We can use it to dig deeper and find the most specific NAICS business level for each business in the dataset."
   ]
  },
  {
   "cell_type": "markdown",
   "metadata": {},
   "source": [
    "### NAICS Level 3 - Subsector Level"
   ]
  },
  {
   "cell_type": "markdown",
   "metadata": {},
   "source": [
    "First, the counts at level 3 are the same but are the rows?"
   ]
  },
  {
   "cell_type": "code",
   "execution_count": 23,
   "metadata": {},
   "outputs": [
    {
     "data": {
      "text/plain": [
       "6249"
      ]
     },
     "execution_count": 23,
     "metadata": {},
     "output_type": "execute_result"
    }
   ],
   "source": [
    "len(naics_df.query(f\"NAICS_len == 3\") == naics_df.query(f\"naics_code_len == 3\"))"
   ]
  },
  {
   "cell_type": "markdown",
   "metadata": {},
   "source": [
    "Yes.  It doesn't matter which selector we use.  I'll use NAICS."
   ]
  },
  {
   "cell_type": "code",
   "execution_count": 24,
   "metadata": {},
   "outputs": [
    {
     "name": "stdout",
     "output_type": "stream",
     "text": [
      "73.96% of the Subsector codes are valid\n",
      "So we have 1627 invalid codes.\n"
     ]
    }
   ],
   "source": [
    "valid_3_percentage = len(naics_df.query(f\"NAICS_len == 3 and NAICS_valid\")) / \\\n",
    "len(naics_df.query(f\"NAICS_len == 3\"))\n",
    "print(f\"{valid_3_percentage:.2%} of the Subsector codes are valid\")\n",
    "\n",
    "invalid_subsector_codes = len(naics_df.query(f\"naics_code_len == 3 and not naics_code_valid\")) \n",
    "print(f\"So we have {invalid_subsector_codes} invalid codes.\")"
   ]
  },
  {
   "cell_type": "markdown",
   "metadata": {},
   "source": [
    "Curious about the Sectors with invalid Subsectors"
   ]
  },
  {
   "cell_type": "code",
   "execution_count": 25,
   "metadata": {},
   "outputs": [
    {
     "data": {
      "text/plain": [
       "23    1188\n",
       "42     370\n",
       "51      69\n",
       "Name: sector, dtype: int64"
      ]
     },
     "execution_count": 25,
     "metadata": {},
     "output_type": "execute_result"
    }
   ],
   "source": [
    "naics_df.query(f\"NAICS_len == 3 and not NAICS_valid\")['sector'].value_counts()"
   ]
  },
  {
   "cell_type": "code",
   "execution_count": 26,
   "metadata": {},
   "outputs": [
    {
     "name": "stdout",
     "output_type": "stream",
     "text": [
      "23: Construction\n",
      "42: Wholesale Trade\n",
      "51: Information\n"
     ]
    }
   ],
   "source": [
    "for sector_code in list(_.keys()):\n",
    "    print(f\"{sector_code}: {naics.title(sector_code)}\")"
   ]
  },
  {
   "cell_type": "markdown",
   "metadata": {},
   "source": [
    "One of our sectors of interest is 23, Construction.  This tells me that 1188 of the businesses are not coded correctly.  I'm curious about this.  Maybe do some spot checks for [NAICS lookup](https://www.census.gov/naics/?input=1028&year=2017) at census.gov."
   ]
  },
  {
   "cell_type": "code",
   "execution_count": 27,
   "metadata": {},
   "outputs": [
    {
     "data": {
      "text/plain": [
       "8      233\n",
       "29     421\n",
       "133    235\n",
       "186    233\n",
       "187    235\n",
       "188    233\n",
       "226    233\n",
       "246    233\n",
       "323    421\n",
       "389    421\n",
       "Name: NAICS, dtype: object"
      ]
     },
     "execution_count": 27,
     "metadata": {},
     "output_type": "execute_result"
    }
   ],
   "source": [
    "naics_df.query(f\"NAICS_len == 3 and not NAICS_valid\")['NAICS'][:10]"
   ]
  },
  {
   "cell_type": "markdown",
   "metadata": {},
   "source": [
    "So, by inspection, 233, 421, and 235 are not valid 2017 Subsector codes.  Use the link above to check 2012 and 2007 versions. <br/>\n",
    "\n",
    "You'll see they're not valid in any of the versions `(couple of hours later - they are in NAICS 1997)`."
   ]
  },
  {
   "cell_type": "markdown",
   "metadata": {},
   "source": [
    "## Rollup - Part 1\n",
    "\n",
    "It is straight forward to adjust the invalid Subsector codes (chop, chop)."
   ]
  },
  {
   "cell_type": "markdown",
   "metadata": {},
   "source": [
    "### NAICS Level 4 - Industry Group Level\n",
    "\n",
    "At this point the two encodings diverge.  Looking at the side-by-side value_counts we see that nacis_code count for level 4 is same as NAICS count for level 4 + 5 + 6.<br/>\n",
    "That makes me wonder if we've lost some information?"
   ]
  },
  {
   "cell_type": "code",
   "execution_count": 28,
   "metadata": {},
   "outputs": [
    {
     "name": "stdout",
     "output_type": "stream",
     "text": [
      "Total rows: 11046, valid: 8911 (80.67%) of the Industry Group codes.\n",
      "So we have 2135 invalid codes.\n"
     ]
    }
   ],
   "source": [
    "len_4 = len(naics_df.query(f\"NAICS_len == 4\"))\n",
    "valid_4 = len(naics_df.query(f\"NAICS_len == 4 and NAICS_valid\"))\n",
    "valid_4_percentage = valid_4 / len_4 \n",
    "print(f\"Total rows: {len_4}, valid: {valid_4} ({valid_4_percentage:.2%}) of the Industry Group codes.\")\n",
    "\n",
    "invalid_industry_group_codes = len(naics_df.query(f\"NAICS_len == 4 and not NAICS_valid\")) \n",
    "print(f\"So we have {invalid_industry_group_codes} invalid codes.\")"
   ]
  },
  {
   "cell_type": "code",
   "execution_count": 29,
   "metadata": {},
   "outputs": [
    {
     "name": "stdout",
     "output_type": "stream",
     "text": [
      "Total rows: 46691, valid: 39085 (83.71%) of the Industry Group codes.\n",
      "So we have 7606 invalid codes.\n"
     ]
    }
   ],
   "source": [
    "len_4 = len(naics_df.query(f\"naics_code_len == 4\"))\n",
    "valid_4 = len(naics_df.query(f\"naics_code_len == 4 and naics_code_valid\"))\n",
    "valid_4_percentage = valid_4 / len_4\n",
    "print(f\"Total rows: {len_4}, valid: {valid_4} ({valid_4_percentage:.2%}) of the Industry Group codes.\")\n",
    "\n",
    "invalid_industry_group_codes = len(naics_df.query(f\"naics_code_len == 4 and not naics_code_valid\")) \n",
    "print(f\"So we have {invalid_industry_group_codes} invalid codes.\")"
   ]
  },
  {
   "cell_type": "markdown",
   "metadata": {},
   "source": [
    "### NAICS Level 5 - Industry Level"
   ]
  },
  {
   "cell_type": "code",
   "execution_count": 30,
   "metadata": {},
   "outputs": [
    {
     "name": "stdout",
     "output_type": "stream",
     "text": [
      "Total rows: 25632, valid: 20742 (80.92%) of the Industry Level codes.\n",
      "So we have 4890 invalid codes.\n"
     ]
    }
   ],
   "source": [
    "# !!! really ??? why isn't this a function by now !!!\n",
    "len_5 = len(naics_df.query(f\"NAICS_len == 5\"))\n",
    "valid_5 = len(naics_df.query(f\"NAICS_len == 5 and NAICS_valid\"))\n",
    "valid_5_percentage = valid_5 / len_5 \n",
    "print(f\"Total rows: {len_5}, valid: {valid_5} ({valid_5_percentage:.2%}) of the Industry Level codes.\")\n",
    "\n",
    "invalid_industry_group_codes = len(naics_df.query(f\"NAICS_len == 5 and not NAICS_valid\")) \n",
    "print(f\"So we have {invalid_industry_group_codes} invalid codes.\")"
   ]
  },
  {
   "cell_type": "markdown",
   "metadata": {},
   "source": [
    "### NAICS Level 6 - US Industry Level"
   ]
  },
  {
   "cell_type": "code",
   "execution_count": 31,
   "metadata": {},
   "outputs": [
    {
     "name": "stdout",
     "output_type": "stream",
     "text": [
      "Total rows: 10013, valid: 5885 (58.77%) of the US Industry Level codes.\n",
      "So we have 4128 invalid codes.\n"
     ]
    }
   ],
   "source": [
    "# !!! really ??? why isn't this a function by now !!!\n",
    "len_6 = len(naics_df.query(f\"NAICS_len == 6\"))\n",
    "valid_6 = len(naics_df.query(f\"NAICS_len == 6 and NAICS_valid\"))\n",
    "valid_6_percentage = valid_6 / len_6 \n",
    "print(f\"Total rows: {len_6}, valid: {valid_6} ({valid_6_percentage:.2%}) of the US Industry Level codes.\")\n",
    "\n",
    "invalid_industry_group_codes = len(naics_df.query(f\"NAICS_len == 6 and not NAICS_valid\")) \n",
    "print(f\"So we have {invalid_industry_group_codes} invalid codes.\")"
   ]
  },
  {
   "cell_type": "code",
   "execution_count": null,
   "metadata": {},
   "outputs": [],
   "source": []
  },
  {
   "cell_type": "markdown",
   "metadata": {},
   "source": [
    "## Looking at this another way"
   ]
  },
  {
   "cell_type": "code",
   "execution_count": 32,
   "metadata": {},
   "outputs": [
    {
     "name": "stdout",
     "output_type": "stream",
     "text": [
      "total: 46691\n",
      "76.11%\n",
      "Missing: 11153\n"
     ]
    }
   ],
   "source": [
    "total = len(naics_df.query(f\"NAICS_len >= 4\"))\n",
    "valid = len(naics_df.query(f\"NAICS_len >= 4 and NAICS_valid\"))\n",
    "invalid = total - valid\n",
    "\n",
    "print(f\"total: {total}\")\n",
    "print(f\"{valid / total:.2%}\")\n",
    "print(f\"Missing: {invalid}\")"
   ]
  },
  {
   "cell_type": "code",
   "execution_count": 33,
   "metadata": {},
   "outputs": [
    {
     "name": "stdout",
     "output_type": "stream",
     "text": [
      "total: 18737\n",
      "66.87% valid\n",
      "Missing: 6208\n"
     ]
    }
   ],
   "source": [
    "total = len(naics_df.query(f\"NAICS_len >= 4 and sector in {scalesd_biz_sectors}\"))\n",
    "valid = len(naics_df.query(f\"NAICS_len >= 4 and NAICS_valid and sector in {scalesd_biz_sectors}\"))\n",
    "invalid = total - valid\n",
    "\n",
    "print(f\"total: {total}\")\n",
    "print(f\"{valid / total:.2%} valid\")\n",
    "print(f\"Missing: {invalid}\")"
   ]
  },
  {
   "cell_type": "code",
   "execution_count": 34,
   "metadata": {},
   "outputs": [
    {
     "name": "stdout",
     "output_type": "stream",
     "text": [
      "total: 15645\n",
      "91.15% valid\n",
      "Missing: 1385\n"
     ]
    }
   ],
   "source": [
    "total = len(naics_df.query(f\"NAICS_len >= 4 and sector in {knowledge_biz_codes}\"))\n",
    "valid = len(naics_df.query(f\"NAICS_len >= 4 and NAICS_valid and sector in {knowledge_biz_codes}\"))\n",
    "invalid = total - valid\n",
    "\n",
    "print(f\"total: {total}\")\n",
    "print(f\"{valid / total:.2%} valid\")\n",
    "print(f\"Missing: {invalid}\")"
   ]
  },
  {
   "cell_type": "code",
   "execution_count": null,
   "metadata": {},
   "outputs": [],
   "source": []
  }
 ],
 "metadata": {
  "kernelspec": {
   "display_name": "Python 3",
   "language": "python",
   "name": "python3"
  },
  "language_info": {
   "codemirror_mode": {
    "name": "ipython",
    "version": 3
   },
   "file_extension": ".py",
   "mimetype": "text/x-python",
   "name": "python",
   "nbconvert_exporter": "python",
   "pygments_lexer": "ipython3",
   "version": "3.8.2"
  }
 },
 "nbformat": 4,
 "nbformat_minor": 4
}
