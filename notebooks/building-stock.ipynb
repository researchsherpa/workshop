{
 "cells": [
  {
   "cell_type": "markdown",
   "id": "133a8432",
   "metadata": {},
   "source": [
    "# Exploring City Benchmarking\n",
    "\n",
    "This analysis looks at the City of San Diego's benchmarking program.\n",
    "\n",
    "  1. The [city program](https://www.sandiego.gov/sustainability/energy-and-water-efficiency/benchmark) requires buildings over 50K square feet to use the EPA's Portfolio Manager to report energy use.\n",
    "  2. There is an excel workbook linked off of the [who's required page](https://www.sandiego.gov/sustainability/energy-and-water-efficiency/benchmark/apply).\n",
    "  3. Finally, the [published a map](https://sandiego.maps.arcgis.com/apps/webappviewer/index.html?id=ec12e750ffdf49c688852d325b299e7b) with results from the first two years (2018 and 2019)."
   ]
  },
  {
   "cell_type": "code",
   "execution_count": 1,
   "id": "7baa12a6",
   "metadata": {},
   "outputs": [],
   "source": [
    "import warnings\n",
    "warnings.filterwarnings('ignore')\n",
    "%run start.py"
   ]
  },
  {
   "cell_type": "markdown",
   "id": "eecd867b",
   "metadata": {},
   "source": [
    "## Data for the Analysis\n",
    "\n",
    "There are three different data sources. \n",
    "\n",
    "  1. I downloaded the csv files from the two mapped reporting years.\n",
    "  2. The xlsx file is the down load from the list of buildings required to report."
   ]
  },
  {
   "cell_type": "code",
   "execution_count": null,
   "id": "d0bffe88",
   "metadata": {},
   "outputs": [],
   "source": [
    "benchmark_2019_df = pd.read_csv('../data/2019_features.csv')\n",
    "benchmark_2018_df = pd.read_csv('../data/2018_features.csv')\n",
    "\n",
    "sd_buildings_df = pd.read_excel('../data/sdcbl_-_public_commerical_mf.xlsx',\n",
    "                               sheet_name=None)"
   ]
  },
  {
   "cell_type": "markdown",
   "id": "bcb4e2c0",
   "metadata": {},
   "source": [
    "# SD Buildings Over 50K\n",
    "\n",
    "This section builds one data set from the xlsx file.\n",
    "\n",
    "  - I massaged a couple of the data sets to remove the first three rows (could also do this programmatically)\n",
    "  - I added a square foot column if the workbook did not have one (want a consistant data frame)\n",
    "  - I am using my internal version of nominatim\n",
    "  - This section combines, cleans, renames, geocodes, and saves results as a shape file\n"
   ]
  },
  {
   "cell_type": "markdown",
   "id": "b91efd1b",
   "metadata": {},
   "source": [
    "## Excel Workbook Analysis\n",
    "\n",
    "Note: There is hidden sheet.  It seems to have work in progress, so I exclude it.\n",
    "\n",
    "Steps:\n",
    "\n",
    "1. Read the excel with pandas\n",
    "2. Result is a dictionary structure named by the worksheet with dataframe as the value\n",
    "3. A couple of the sheets have a hidden column so I exclude\n",
    "4. Concatenate the four separate into one\n",
    "5. Rename the columns"
   ]
  },
  {
   "cell_type": "code",
   "execution_count": null,
   "id": "fd60a3cd",
   "metadata": {},
   "outputs": [],
   "source": [
    "sd_buildings_df.keys()"
   ]
  },
  {
   "cell_type": "code",
   "execution_count": null,
   "id": "57a1500d",
   "metadata": {
    "tags": []
   },
   "outputs": [],
   "source": [
    "commercial_df = sd_buildings_df['Commerical']\n",
    "\n",
    "multifamily_df = sd_buildings_df['Multifamily']\n",
    "\n",
    "added_2020_df = sd_buildings_df['Additional Bldgs (Added 2020)']\n",
    "\n",
    "added_2021_df = sd_buildings_df['Additional Bldgs (Added 2021)']"
   ]
  },
  {
   "cell_type": "code",
   "execution_count": null,
   "id": "ec7c486a",
   "metadata": {},
   "outputs": [],
   "source": [
    "commercial_df.columns"
   ]
  },
  {
   "cell_type": "code",
   "execution_count": null,
   "id": "67b6baf3",
   "metadata": {},
   "outputs": [],
   "source": [
    "col_names = commercial_df.columns.to_list()[:5]"
   ]
  },
  {
   "cell_type": "code",
   "execution_count": null,
   "id": "b84a256e",
   "metadata": {},
   "outputs": [],
   "source": [
    "commercial_df = commercial_df[col_names]\n",
    "multifamily_df = multifamily_df[col_names]\n",
    "added_2020_df = added_2020_df[col_names]\n",
    "added_2021_df = added_2021_df[col_names]"
   ]
  },
  {
   "cell_type": "code",
   "execution_count": null,
   "id": "601e14d9",
   "metadata": {},
   "outputs": [],
   "source": [
    "commercial_df.columns"
   ]
  },
  {
   "cell_type": "code",
   "execution_count": null,
   "id": "572e6523",
   "metadata": {},
   "outputs": [],
   "source": [
    "column_name_map = {'Building ID #': 'BuildingID',\n",
    "                  'Building Address': 'Address',\n",
    "                  'City': 'City',\n",
    "                  'Zip': 'Zip',\n",
    "                  'Sq. ft. Building Area': 'SqFt'}"
   ]
  },
  {
   "cell_type": "code",
   "execution_count": null,
   "id": "9bf777ab",
   "metadata": {},
   "outputs": [],
   "source": [
    "commercial_df.rename(columns=column_name_map, inplace=True)\n",
    "multifamily_df.rename(columns=column_name_map, inplace=True)\n",
    "added_2020_df.rename(columns=column_name_map, inplace=True)\n",
    "added_2021_df.rename(columns=column_name_map, inplace=True)"
   ]
  },
  {
   "cell_type": "code",
   "execution_count": null,
   "id": "1e9847d8",
   "metadata": {},
   "outputs": [],
   "source": [
    "commercial_df.columns"
   ]
  },
  {
   "cell_type": "code",
   "execution_count": null,
   "id": "96bede94",
   "metadata": {},
   "outputs": [],
   "source": [
    "sd_dfs = [commercial_df, multifamily_df, added_2020_df, added_2021_df]"
   ]
  },
  {
   "cell_type": "code",
   "execution_count": null,
   "id": "f328a4f3",
   "metadata": {},
   "outputs": [],
   "source": [
    "combined_df = pd.concat(sd_dfs)"
   ]
  },
  {
   "cell_type": "code",
   "execution_count": null,
   "id": "91d75c20",
   "metadata": {},
   "outputs": [],
   "source": [
    "len(combined_df)"
   ]
  },
  {
   "cell_type": "code",
   "execution_count": null,
   "id": "dfcb98b5",
   "metadata": {},
   "outputs": [],
   "source": [
    "combined_df.info()"
   ]
  },
  {
   "cell_type": "markdown",
   "id": "02ad3eef",
   "metadata": {},
   "source": [
    "## Geocoding\n",
    "\n",
    "For this notebook I'm using a local version of nominatim.  I am going to comment out the specifics for a public version.\n",
    "\n",
    "The last cell in this section writes the geocoded frame as a shape file."
   ]
  },
  {
   "cell_type": "code",
   "execution_count": null,
   "id": "2b362591",
   "metadata": {},
   "outputs": [],
   "source": [
    "def clean_address(address):\n",
    "    street_number, second_address = address.split('-')\n",
    "    street_name = second_address.split(' ')\n",
    "    first_address = \" \".join([street_number,] + street_name[1:])\n",
    "    return(first_address, second_address)\n",
    "                             \n",
    "    \n",
    "def address_range(address):\n",
    "    return (len (address.split('-'))) == 2"
   ]
  },
  {
   "cell_type": "code",
   "execution_count": null,
   "id": "64148797",
   "metadata": {},
   "outputs": [],
   "source": [
    "# if you have an instance of nominatim running locally uncomment this to use the local\n",
    "#ox.utils.config(nominatim_endpoint='http://localhost/nominatim/')"
   ]
  },
  {
   "cell_type": "code",
   "execution_count": null,
   "id": "63fb4bb3",
   "metadata": {},
   "outputs": [],
   "source": [
    "import time\n",
    "def geocode_address(row):\n",
    "    \"\"\"\n",
    "    Special function applied to a zip_code transformed row.  \n",
    "    \n",
    "    Notes:\n",
    "      1. nominatim terms of use require one query per sec so we sleep on each iteration.\n",
    "      2. When we get no match, returning None so we can query for\n",
    "         invalid geo's later.\n",
    "    \"\"\"\n",
    "    time.sleep(1)\n",
    "    address = row['Address']\n",
    "    if address_range(address):\n",
    "        first_address, second_address = clean_address(row['Address'])\n",
    "        address = first_address\n",
    "        \n",
    "    #print(row['Building ID #'])\n",
    "    geocode_query = f\"{address}, {row['City']}, {str(row['Zip'])[:5]}\"\n",
    "    #print(geocode_query)\n",
    "    try:\n",
    "        #geocode_query = f\"{row['Building Address']}, {row['City']}, {str(row['Zip'])[:5]}\"\n",
    "        lat, lon = ox.geocode(geocode_query)\n",
    "        return Point(lon, lat)\n",
    "    except:\n",
    "        #print(row['BuildingID'])\n",
    "        return None #Point(lon, lat).wkt"
   ]
  },
  {
   "cell_type": "code",
   "execution_count": null,
   "id": "a54c374e",
   "metadata": {},
   "outputs": [],
   "source": [
    "tqdm.pandas()"
   ]
  },
  {
   "cell_type": "code",
   "execution_count": null,
   "id": "e1d07b76",
   "metadata": {},
   "outputs": [],
   "source": [
    "combined_df['geometry'] = combined_df.progress_apply(lambda r: geocode_address(r), axis=1)"
   ]
  },
  {
   "cell_type": "code",
   "execution_count": null,
   "id": "38fce000",
   "metadata": {},
   "outputs": [],
   "source": [
    "combined_df['geometry'].isnull().sum()"
   ]
  },
  {
   "cell_type": "code",
   "execution_count": null,
   "id": "f7213ed9",
   "metadata": {},
   "outputs": [],
   "source": [
    "_ / len(combined_df)"
   ]
  },
  {
   "cell_type": "code",
   "execution_count": null,
   "id": "ca3c1143",
   "metadata": {},
   "outputs": [],
   "source": [
    "combined_gdf = GeoDataFrame(combined_df,\n",
    "                           geometry=combined_df['geometry'])"
   ]
  },
  {
   "cell_type": "code",
   "execution_count": null,
   "id": "0c10bdfe",
   "metadata": {},
   "outputs": [],
   "source": [
    "combined_gdf.to_file('../data/sd_buildings.shp')"
   ]
  },
  {
   "cell_type": "code",
   "execution_count": null,
   "id": "23c042e1",
   "metadata": {},
   "outputs": [],
   "source": []
  },
  {
   "cell_type": "markdown",
   "id": "e47510d3",
   "metadata": {},
   "source": [
    "# Benchmarked Buildings\n",
    "\n",
    " - There are two csv files (2018 and 2019)\n",
    " - Geometry is specific to arcgis web\n",
    " - I re-projected to lat/long for map display\n",
    " - Simple example of creating a map presentation for these dataframes\n",
    " - I did not write to shape file (exercise for the reader!)"
   ]
  },
  {
   "cell_type": "code",
   "execution_count": null,
   "id": "e2d455cb",
   "metadata": {},
   "outputs": [],
   "source": [
    "benchmark_2019_df.columns"
   ]
  },
  {
   "cell_type": "code",
   "execution_count": null,
   "id": "347867e8",
   "metadata": {},
   "outputs": [],
   "source": [
    "benchmark_2018_df.columns"
   ]
  },
  {
   "cell_type": "code",
   "execution_count": null,
   "id": "5901e1fc",
   "metadata": {},
   "outputs": [],
   "source": [
    "info_2019 = Output(layout={'border': '1px solid black',\n",
    "                            'width': '50%'})"
   ]
  },
  {
   "cell_type": "code",
   "execution_count": null,
   "id": "e106d972",
   "metadata": {},
   "outputs": [],
   "source": [
    "info_2018 = Output(layout={'border': '1px solid black',\n",
    "                            'width': '50%'})"
   ]
  },
  {
   "cell_type": "code",
   "execution_count": null,
   "id": "39c7093d",
   "metadata": {},
   "outputs": [],
   "source": [
    "with info_2019:\n",
    "    display(HTML('<center><b>2019 Benchmark info()</b></center>'))\n",
    "    display(benchmark_2019_df.info())"
   ]
  },
  {
   "cell_type": "code",
   "execution_count": null,
   "id": "20d3eb64",
   "metadata": {},
   "outputs": [],
   "source": [
    "with info_2018:\n",
    "    display(HTML('<center><b>2018 Benchmark info()</b></center>'))\n",
    "    display(benchmark_2018_df.info())"
   ]
  },
  {
   "cell_type": "markdown",
   "id": "3f5c12de",
   "metadata": {},
   "source": [
    "### df.info() side by side"
   ]
  },
  {
   "cell_type": "code",
   "execution_count": null,
   "id": "0777ee49",
   "metadata": {},
   "outputs": [],
   "source": [
    "HBox([info_2018, info_2019])"
   ]
  },
  {
   "cell_type": "code",
   "execution_count": null,
   "id": "f88bcc82",
   "metadata": {},
   "outputs": [],
   "source": [
    "def clear_info_output():\n",
    "    info_2018.clear_output()\n",
    "    info_2019.clear_output()"
   ]
  },
  {
   "cell_type": "code",
   "execution_count": null,
   "id": "43d13286",
   "metadata": {},
   "outputs": [],
   "source": [
    "#clear_info_output()"
   ]
  },
  {
   "cell_type": "markdown",
   "id": "edfbed96",
   "metadata": {},
   "source": [
    "Using receipe from https://gis.stackexchange.com/questions/276940/re-projecting-lat-and-long-in-python-geopandas-but-geometry-unchanged"
   ]
  },
  {
   "cell_type": "code",
   "execution_count": null,
   "id": "84776470",
   "metadata": {},
   "outputs": [],
   "source": [
    "import pyproj\n",
    "from functools import partial\n",
    "from shapely.ops import transform\n",
    "project = partial(\n",
    "      pyproj.transform,\n",
    "      pyproj.Proj('epsg:3857'), # source coordinate system\n",
    "      pyproj.Proj(init='epsg:4326')) #init='epsg:4326'))"
   ]
  },
  {
   "cell_type": "code",
   "execution_count": null,
   "id": "28f7f9eb",
   "metadata": {},
   "outputs": [],
   "source": [
    "benchmark_2019_gdf = GeoDataFrame(benchmark_2019_df,\n",
    "                                  geometry=[transform(project, Point(xy)) for xy in zip(benchmark_2019_df.x, benchmark_2019_df.y)])"
   ]
  },
  {
   "cell_type": "code",
   "execution_count": null,
   "id": "c4543e81",
   "metadata": {},
   "outputs": [],
   "source": [
    "benchmark_2018_gdf = GeoDataFrame(benchmark_2018_df,\n",
    "                                  geometry=[transform(project, Point(xy)) for xy in zip(benchmark_2018_df.x, benchmark_2018_df.y)])"
   ]
  },
  {
   "cell_type": "code",
   "execution_count": null,
   "id": "bf120c58",
   "metadata": {},
   "outputs": [],
   "source": [
    "benchmark_2019_gdf = benchmark_2019_gdf.rename(columns={'PropertyGFA_CalculatedBuildingsSqFt': 'AreaSqFt'})"
   ]
  },
  {
   "cell_type": "code",
   "execution_count": null,
   "id": "b8565083",
   "metadata": {},
   "outputs": [],
   "source": [
    "benchmark_2018_gdf['PropertyName'].fillna('Unnamed', inplace=True)\n",
    "benchmark_2019_gdf['PropertyName'].fillna('Unnamed', inplace=True)"
   ]
  },
  {
   "cell_type": "code",
   "execution_count": null,
   "id": "ced7d6cc",
   "metadata": {},
   "outputs": [],
   "source": [
    "import numpy as np\n",
    "def msg_output(row):\n",
    "    \n",
    "    if np.isnan(row.BuildingID):\n",
    "        bld_msg = 'UNK'\n",
    "    else:\n",
    "        bld_msg = int(row.BuildingID)\n",
    "        \n",
    "    if np.isnan(row.ENERGY_STAR_Score):\n",
    "        score = 'No Score'\n",
    "    else:\n",
    "        score = int(row.ENERGY_STAR_Score)\n",
    "        \n",
    "    if np.isnan(row.AreaSqFt):\n",
    "        sq_ft = \"None Recorded\"\n",
    "    else:\n",
    "        sq_ft = int(row.AreaSqFt)\n",
    "        \n",
    "    return HTML(f\"BuildingID: {bld_msg}</br>\\\n",
    "                Name: {row.PropertyName}</br>\\\n",
    "                Address: {row.PropertyAddress}</br>\\\n",
    "                SqFt: {sq_ft}</br>\\\n",
    "                ENERGY STAR: {score}\")"
   ]
  },
  {
   "cell_type": "code",
   "execution_count": null,
   "id": "fb5302d0",
   "metadata": {},
   "outputs": [],
   "source": [
    "imagery = basemap_to_tiles(basemaps.Esri.WorldImagery)\n",
    "imagery.base = True\n",
    "osm = basemap_to_tiles(basemaps.OpenStreetMap.Mapnik)\n",
    "osm.base = True\n",
    "\n",
    "\n",
    "map_display = Map(center=(32.715, -117.1625), zoom=12,\n",
    "                  layers=[imagery, osm],\n",
    "                  layout=Layout(height=\"900px\"),\n",
    "                  scroll_wheel_zoom=True)\n",
    "\n",
    "map_display.add_control(LayersControl())\n",
    "map_display"
   ]
  },
  {
   "cell_type": "code",
   "execution_count": null,
   "id": "cfb4ffcb",
   "metadata": {},
   "outputs": [],
   "source": [
    "benchmark_mapped = benchmark_2019_gdf[benchmark_2019_gdf.geometry.notnull()].reset_index()\n",
    "\n",
    "props = list()\n",
    "for i, r in tqdm(benchmark_mapped.iterrows()):\n",
    "    marker = CircleMarker(location=(r.geometry.y, r.geometry.x), radius=4, stroke=False, fill_color=\"purple\", fill_opacity=1.0)#, name=r.sector)\n",
    "    msg = msg_output(r) #HTML(msg_output(r))\n",
    "    #msg.value = msg_output(r)\n",
    "    marker.popup = msg\n",
    "    props.append(marker)\n",
    "    benchmark_mapped.iloc[i]['marker'] = marker\n",
    "benchmark_mapped['marker'] = props"
   ]
  },
  {
   "cell_type": "code",
   "execution_count": null,
   "id": "7f4243e1",
   "metadata": {},
   "outputs": [],
   "source": [
    "property_layer = LayerGroup(name=f\"2019 Benchmark ({len(props)})\", layers=props)\n",
    "\n",
    "map_display.add_layer(property_layer)#(LayerGroup(name=f\"Apartments ({len(apartments)})\", layers=apartments))"
   ]
  },
  {
   "cell_type": "code",
   "execution_count": null,
   "id": "b1e59094",
   "metadata": {},
   "outputs": [],
   "source": [
    "benchmark_mapped_2018 = benchmark_2018_gdf[benchmark_2018_gdf.geometry.notnull()].reset_index()\n",
    "\n",
    "props_2018 = list()\n",
    "for i, r in tqdm(benchmark_mapped_2018.iterrows()):\n",
    "    marker = CircleMarker(location=(r.geometry.y, r.geometry.x), radius=4, stroke=False, fill_color=\"#fa8775\", fill_opacity=1.0)#, name=r.sector)\n",
    "    msg = msg_output(r) #HTML(msg_output(r))\n",
    "    #msg.value = msg_output(r)\n",
    "    marker.popup = msg\n",
    "    props_2018.append(marker)\n",
    "    benchmark_mapped_2018.iloc[i]['marker'] = marker\n",
    "benchmark_mapped_2018['marker'] = props_2018"
   ]
  },
  {
   "cell_type": "code",
   "execution_count": null,
   "id": "b4426d65",
   "metadata": {
    "tags": []
   },
   "outputs": [],
   "source": [
    "property_layer_2018 = LayerGroup(name=f\"2018 Benchmark ({len(props)})\", layers=props_2018)\n",
    "\n",
    "map_display.add_layer(property_layer_2018)"
   ]
  },
  {
   "cell_type": "code",
   "execution_count": null,
   "id": "80c83b60",
   "metadata": {},
   "outputs": [],
   "source": [
    "legend = LegendControl({'2019 Benchmark  ': 'purple',\n",
    "                        '2018 Benchmark ': '#fa8775'}, name='Legend', position='bottomright')\n",
    "\n",
    "map_display.add_control(legend)"
   ]
  },
  {
   "cell_type": "markdown",
   "id": "ec6c0b4a",
   "metadata": {},
   "source": [
    "### At this point, go check the map."
   ]
  },
  {
   "cell_type": "markdown",
   "id": "5e29e50b",
   "metadata": {},
   "source": [
    "# Analysis Ideas for Benchmark Data Set"
   ]
  },
  {
   "cell_type": "code",
   "execution_count": null,
   "id": "b41b607d",
   "metadata": {},
   "outputs": [],
   "source": [
    "building_id_2019 = set(benchmark_2019_df['BuildingID'])\n",
    "building_id_2018 = set(benchmark_2018_df['BuildingID'])"
   ]
  },
  {
   "cell_type": "code",
   "execution_count": null,
   "id": "7d70295b",
   "metadata": {
    "tags": []
   },
   "outputs": [],
   "source": [
    "buildings_in_both = building_id_2018.intersection(building_id_2019)"
   ]
  },
  {
   "cell_type": "code",
   "execution_count": null,
   "id": "e4e0f312",
   "metadata": {},
   "outputs": [],
   "source": [
    "len(buildings_in_both)"
   ]
  },
  {
   "cell_type": "markdown",
   "id": "28213010",
   "metadata": {},
   "source": [
    "## So, 497 buildings reported both years.\n",
    "\n",
    "Note this was done using BuildingID and there are some missing in 2018!"
   ]
  },
  {
   "cell_type": "markdown",
   "id": "75bf2eab",
   "metadata": {},
   "source": [
    "## Here's a side by side looking at the CPNAME (Community Planning Group?)"
   ]
  },
  {
   "cell_type": "code",
   "execution_count": null,
   "id": "1ac8156a",
   "metadata": {},
   "outputs": [],
   "source": [
    "vc_2019 = Output(layout={'border': '1px solid black',\n",
    "                            'width': '50%'})\n",
    "\n",
    "with vc_2019:\n",
    "    display(HTML('<center><b>2019 CPNAME value_counts()</b></center>'))\n",
    "    display(benchmark_2019_df['CPNAME'].value_counts())\n",
    "    \n",
    "    \n",
    "vc_2018 = Output(layout={'border': '1px solid black',\n",
    "                            'width': '50%'})\n",
    "\n",
    "with vc_2018:\n",
    "    display(HTML('<center><b>2018 CPNAME value_counts()</b></center>'))\n",
    "    display(benchmark_2018_df['CPNAME'].value_counts())\n",
    "    \n",
    "HBox([vc_2018, vc_2019])"
   ]
  },
  {
   "cell_type": "markdown",
   "id": "e22574ee",
   "metadata": {},
   "source": [
    "# Finally\n",
    "\n",
    "Here's some python code that will save the processed files as shape files.\n",
    "\n",
    "Note there is a limit on variable names to 10 characters for the ESRI driver, so you may want to think about mapping names for the benchmarked dataframes.\n",
    "\n",
    "```python\n",
    "combined_gdf = GeoDataFrame(combined_df,\n",
    "                            geometry=combined_df['geometry'])\n",
    "combined_gdf.to_file('<your-file-name>.shp')\n",
    "\n",
    "benchmark_2018_gdf.to_file('<your-file-name>.shp')\n",
    "benchmark_2019_gdf.to_file('<your-file-name>.shp')                           \n",
    "```"
   ]
  },
  {
   "cell_type": "code",
   "execution_count": null,
   "id": "45eedbed",
   "metadata": {},
   "outputs": [],
   "source": []
  }
 ],
 "metadata": {
  "kernelspec": {
   "display_name": "Python 3",
   "language": "python",
   "name": "python3"
  },
  "language_info": {
   "codemirror_mode": {
    "name": "ipython",
    "version": 3
   },
   "file_extension": ".py",
   "mimetype": "text/x-python",
   "name": "python",
   "nbconvert_exporter": "python",
   "pygments_lexer": "ipython3",
   "version": "3.8.8"
  }
 },
 "nbformat": 4,
 "nbformat_minor": 5
}
