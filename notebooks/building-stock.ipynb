{
 "cells": [
  {
   "cell_type": "markdown",
   "id": "bd0babbd",
   "metadata": {},
   "source": [
    "# Exploring City Benchmarking\n",
    "\n",
    "This analysis looks at the City of San Diego's benchmarking program.\n",
    "\n",
    "  1. The [city program](https://www.sandiego.gov/sustainability/energy-and-water-efficiency/benchmark) requires buildings over 50K square feet to use the EPA's Portfolio Manager to report energy use.\n",
    "  2. There is an excel workbook linked off of the [who's required page](https://www.sandiego.gov/sustainability/energy-and-water-efficiency/benchmark/apply).\n",
    "  3. Finally, the [published a map](https://sandiego.maps.arcgis.com/apps/webappviewer/index.html?id=ec12e750ffdf49c688852d325b299e7b) with results from the first two years (2018 and 2019)."
   ]
  },
  {
   "cell_type": "code",
   "execution_count": null,
   "id": "2fabc063",
   "metadata": {},
   "outputs": [],
   "source": [
    "import warnings\n",
    "warnings.filterwarnings('ignore')"
   ]
  },
  {
   "cell_type": "markdown",
   "id": "df809559",
   "metadata": {},
   "source": [
    "## Data for the Analysis\n",
    "\n",
    "There are three different data sources. \n",
    "\n",
    "  1. I downloaded the csv files from the two mapped reporting years.\n",
    "  2. The xlsx file is the down load from the list of buildings required to report."
   ]
  },
  {
   "cell_type": "code",
   "execution_count": null,
   "id": "d6f972f3",
   "metadata": {},
   "outputs": [],
   "source": [
    "benchmark_2019_df = pd.read_csv('../data/2019_features.csv')\n",
    "benchmark_2018_df = pd.read_csv('../data/2018_features.csv')\n",
    "\n",
    "sd_buildings_df = pd.read_excel('../data/sdcbl_-_public_commerical_mf.xlsx',\n",
    "                               sheet_name=None)"
   ]
  },
  {
   "cell_type": "markdown",
   "id": "99e369ec",
   "metadata": {},
   "source": [
    "# SD Buildings Over 50K\n",
    "\n",
    "This section builds one data set from the xlsx file.\n",
    "\n",
    "  - I massaged a couple of the data sets to remove the first three rows (could also do this programmatically)\n",
    "  - I added a square foot column if the workbook did not have one (want a consistant data frame)\n",
    "  - I am using my internal version of nominatim\n",
    "  - This section combines, cleans, renames, geocodes, and saves results as a shape file\n"
   ]
  },
  {
   "cell_type": "markdown",
   "id": "8530d680",
   "metadata": {},
   "source": [
    "## Excel Workbook Analysis\n",
    "\n",
    "Note: There is hidden sheet.  It seems to have work in progress, so I exclude it.\n",
    "\n",
    "Steps:\n",
    "\n",
    "1. Read the excel with pandas\n",
    "2. Result is a dictionary structure named by the worksheet with dataframe as the value\n",
    "3. A couple of the sheets have a hidden column so I exclude\n",
    "4. Concatenate the four separate into one\n",
    "5. Rename the columns"
   ]
  },
  {
   "cell_type": "code",
   "execution_count": null,
   "id": "6aac3ec3",
   "metadata": {},
   "outputs": [],
   "source": [
    "sd_buildings_df.keys()"
   ]
  },
  {
   "cell_type": "code",
   "execution_count": null,
   "id": "e5eb8cee",
   "metadata": {
    "tags": []
   },
   "outputs": [],
   "source": [
    "commercial_df = sd_buildings_df['Commerical']\n",
    "\n",
    "multifamily_df = sd_buildings_df['Multifamily']\n",
    "\n",
    "added_2020_df = sd_buildings_df['Additional Bldgs (Added 2020)']\n",
    "\n",
    "added_2021_df = sd_buildings_df['Additional Bldgs (Added 2021)']"
   ]
  },
  {
   "cell_type": "code",
   "execution_count": null,
   "id": "f7e626df",
   "metadata": {},
   "outputs": [],
   "source": [
    "commercial_df.columns"
   ]
  },
  {
   "cell_type": "code",
   "execution_count": null,
   "id": "dc58dc1d",
   "metadata": {},
   "outputs": [],
   "source": [
    "col_names = commercial_df.columns.to_list()[:5]"
   ]
  },
  {
   "cell_type": "code",
   "execution_count": null,
   "id": "b9bda0e3",
   "metadata": {},
   "outputs": [],
   "source": [
    "commercial_df = commercial_df[col_names]\n",
    "multifamily_df = multifamily_df[col_names]\n",
    "added_2020_df = added_2020_df[col_names]\n",
    "added_2021_df = added_2021_df[col_names]"
   ]
  },
  {
   "cell_type": "code",
   "execution_count": null,
   "id": "17b819f7",
   "metadata": {},
   "outputs": [],
   "source": [
    "commercial_df.columns"
   ]
  },
  {
   "cell_type": "code",
   "execution_count": null,
   "id": "7b893089",
   "metadata": {},
   "outputs": [],
   "source": [
    "column_name_map = {'Building ID #': 'BuildingID',\n",
    "                  'Building Address': 'Address',\n",
    "                  'City': 'City',\n",
    "                  'Zip': 'Zip',\n",
    "                  'Sq. ft. Building Area': 'SqFt'}"
   ]
  },
  {
   "cell_type": "code",
   "execution_count": null,
   "id": "2abcde93",
   "metadata": {},
   "outputs": [],
   "source": [
    "commercial_df.rename(columns=column_name_map, inplace=True)\n",
    "multifamily_df.rename(columns=column_name_map, inplace=True)\n",
    "added_2020_df.rename(columns=column_name_map, inplace=True)\n",
    "added_2021_df.rename(columns=column_name_map, inplace=True)"
   ]
  },
  {
   "cell_type": "code",
   "execution_count": null,
   "id": "0a04b216",
   "metadata": {},
   "outputs": [],
   "source": [
    "commercial_df.columns"
   ]
  },
  {
   "cell_type": "code",
   "execution_count": null,
   "id": "1d40e6af",
   "metadata": {},
   "outputs": [],
   "source": [
    "sd_dfs = [commercial_df, multifamily_df, added_2020_df, added_2021_df]"
   ]
  },
  {
   "cell_type": "code",
   "execution_count": null,
   "id": "c23da0cb",
   "metadata": {},
   "outputs": [],
   "source": [
    "combined_df = pd.concat(sd_dfs)"
   ]
  },
  {
   "cell_type": "code",
   "execution_count": null,
   "id": "66955dd4",
   "metadata": {},
   "outputs": [],
   "source": [
    "len(combined_df)"
   ]
  },
  {
   "cell_type": "code",
   "execution_count": null,
   "id": "4439d007",
   "metadata": {},
   "outputs": [],
   "source": [
    "combined_df.info()"
   ]
  },
  {
   "cell_type": "markdown",
   "id": "a2a1f2e5",
   "metadata": {},
   "source": [
    "## Geocoding\n",
    "\n",
    "For this notebook I'm using a local version of nominatim.  I am going to comment out the specifics for a public version.\n",
    "\n",
    "The last cell in this section writes the geocoded frame as a shape file."
   ]
  },
  {
   "cell_type": "code",
   "execution_count": null,
   "id": "789e2b79",
   "metadata": {},
   "outputs": [],
   "source": [
    "def clean_address(address):\n",
    "    street_number, second_address = address.split('-')\n",
    "    street_name = second_address.split(' ')\n",
    "    first_address = \" \".join([street_number,] + street_name[1:])\n",
    "    return(first_address, second_address)\n",
    "                             \n",
    "    \n",
    "def address_range(address):\n",
    "    return (len (address.split('-'))) == 2"
   ]
  },
  {
   "cell_type": "code",
   "execution_count": null,
   "id": "5526d524",
   "metadata": {},
   "outputs": [],
   "source": [
    "# if you have an instance of nominatim running locally uncomment this to use the local\n",
    "#ox.utils.config(nominatim_endpoint='http://localhost/nominatim/')"
   ]
  },
  {
   "cell_type": "code",
   "execution_count": null,
   "id": "a710d1a9",
   "metadata": {},
   "outputs": [],
   "source": [
    "import time\n",
    "def geocode_address(row):\n",
    "    \"\"\"\n",
    "    Special function applied to a zip_code transformed row.  \n",
    "    \n",
    "    Notes:\n",
    "      1. nominatim terms of use require one query per sec so we sleep on each iteration.\n",
    "      2. When we get no match, returning None so we can query for\n",
    "         invalid geo's later.\n",
    "    \"\"\"\n",
    "    time.sleep(1)\n",
    "    address = row['Address']\n",
    "    if address_range(address):\n",
    "        first_address, second_address = clean_address(row['Address'])\n",
    "        address = first_address\n",
    "        \n",
    "    #print(row['Building ID #'])\n",
    "    geocode_query = f\"{address}, {row['City']}, {str(row['Zip'])[:5]}\"\n",
    "    #print(geocode_query)\n",
    "    try:\n",
    "        #geocode_query = f\"{row['Building Address']}, {row['City']}, {str(row['Zip'])[:5]}\"\n",
    "        lat, lon = ox.geocode(geocode_query)\n",
    "        return Point(lon, lat)\n",
    "    except:\n",
    "        #print(row['BuildingID'])\n",
    "        return None #Point(lon, lat).wkt"
   ]
  },
  {
   "cell_type": "code",
   "execution_count": null,
   "id": "d7527616",
   "metadata": {},
   "outputs": [],
   "source": [
    "tqdm.pandas()"
   ]
  },
  {
   "cell_type": "code",
   "execution_count": null,
   "id": "106d6ff5",
   "metadata": {},
   "outputs": [],
   "source": [
    "combined_df['geometry'] = combined_df.progress_apply(lambda r: geocode_address(r), axis=1)"
   ]
  },
  {
   "cell_type": "code",
   "execution_count": null,
   "id": "7f8bc946",
   "metadata": {},
   "outputs": [],
   "source": [
    "combined_df['geometry'].isnull().sum()"
   ]
  },
  {
   "cell_type": "code",
   "execution_count": null,
   "id": "16ce15f0",
   "metadata": {},
   "outputs": [],
   "source": [
    "_ / len(combined_df)"
   ]
  },
  {
   "cell_type": "code",
   "execution_count": null,
   "id": "8d17804f",
   "metadata": {},
   "outputs": [],
   "source": [
    "combined_gdf = GeoDataFrame(combined_df,\n",
    "                           geometry=combined_df['geometry'])"
   ]
  },
  {
   "cell_type": "code",
   "execution_count": null,
   "id": "db410762",
   "metadata": {},
   "outputs": [],
   "source": [
    "combined_gdf.to_file('../data/sd_buildings.shp')"
   ]
  },
  {
   "cell_type": "code",
   "execution_count": null,
   "id": "6206efac",
   "metadata": {},
   "outputs": [],
   "source": []
  },
  {
   "cell_type": "markdown",
   "id": "8f191591",
   "metadata": {},
   "source": [
    "# Benchmarked Buildings\n",
    "\n",
    " - There are two csv files (2018 and 2019)\n",
    " - Geometry is specific to arcgis web\n",
    " - I re-projected to lat/long for map display\n",
    " - Simple example of creating a map presentation for these dataframes\n",
    " - I did not write to shape file (exercise for the reader!)"
   ]
  },
  {
   "cell_type": "code",
   "execution_count": null,
   "id": "c57f344f",
   "metadata": {},
   "outputs": [],
   "source": [
    "benchmark_2019_df.columns"
   ]
  },
  {
   "cell_type": "code",
   "execution_count": null,
   "id": "22b91f44",
   "metadata": {},
   "outputs": [],
   "source": [
    "benchmark_2018_df.columns"
   ]
  },
  {
   "cell_type": "code",
   "execution_count": null,
   "id": "0c24388f",
   "metadata": {},
   "outputs": [],
   "source": [
    "info_2019 = Output(layout={'border': '1px solid black',\n",
    "                            'width': '50%'})"
   ]
  },
  {
   "cell_type": "code",
   "execution_count": null,
   "id": "073c32ba",
   "metadata": {},
   "outputs": [],
   "source": [
    "info_2018 = Output(layout={'border': '1px solid black',\n",
    "                            'width': '50%'})"
   ]
  },
  {
   "cell_type": "code",
   "execution_count": null,
   "id": "4a9ede9f",
   "metadata": {},
   "outputs": [],
   "source": [
    "with info_2019:\n",
    "    display(HTML('<center><b>2019 Benchmark info()</b></center>'))\n",
    "    display(benchmark_2019_df.info())"
   ]
  },
  {
   "cell_type": "code",
   "execution_count": null,
   "id": "ea6b43e9",
   "metadata": {},
   "outputs": [],
   "source": [
    "with info_2018:\n",
    "    display(HTML('<center><b>2018 Benchmark info()</b></center>'))\n",
    "    display(benchmark_2018_df.info())"
   ]
  },
  {
   "cell_type": "markdown",
   "id": "7e57e186",
   "metadata": {},
   "source": [
    "### df.info() side by side"
   ]
  },
  {
   "cell_type": "code",
   "execution_count": null,
   "id": "c4b38522",
   "metadata": {},
   "outputs": [],
   "source": [
    "HBox([info_2018, info_2019])"
   ]
  },
  {
   "cell_type": "code",
   "execution_count": null,
   "id": "c79526c2",
   "metadata": {},
   "outputs": [],
   "source": [
    "def clear_info_output():\n",
    "    info_2018.clear_output()\n",
    "    info_2019.clear_output()"
   ]
  },
  {
   "cell_type": "code",
   "execution_count": null,
   "id": "b2fed271",
   "metadata": {},
   "outputs": [],
   "source": [
    "#clear_info_output()"
   ]
  },
  {
   "cell_type": "markdown",
   "id": "5e45d4a9",
   "metadata": {},
   "source": [
    "Using receipe from https://gis.stackexchange.com/questions/276940/re-projecting-lat-and-long-in-python-geopandas-but-geometry-unchanged"
   ]
  },
  {
   "cell_type": "code",
   "execution_count": null,
   "id": "a3619f14",
   "metadata": {},
   "outputs": [],
   "source": [
    "import pyproj\n",
    "from functools import partial\n",
    "from shapely.ops import transform\n",
    "project = partial(\n",
    "      pyproj.transform,\n",
    "      pyproj.Proj('epsg:3857'), # source coordinate system\n",
    "      pyproj.Proj(init='epsg:4326')) #init='epsg:4326'))"
   ]
  },
  {
   "cell_type": "code",
   "execution_count": null,
   "id": "6f6c4552",
   "metadata": {},
   "outputs": [],
   "source": [
    "benchmark_2019_gdf = GeoDataFrame(benchmark_2019_df,\n",
    "                                  geometry=[transform(project, Point(xy)) for xy in zip(benchmark_2019_df.x, benchmark_2019_df.y)])"
   ]
  },
  {
   "cell_type": "code",
   "execution_count": null,
   "id": "1a623256",
   "metadata": {},
   "outputs": [],
   "source": [
    "benchmark_2018_gdf = GeoDataFrame(benchmark_2018_df,\n",
    "                                  geometry=[transform(project, Point(xy)) for xy in zip(benchmark_2018_df.x, benchmark_2018_df.y)])"
   ]
  },
  {
   "cell_type": "code",
   "execution_count": null,
   "id": "9592a640",
   "metadata": {},
   "outputs": [],
   "source": [
    "benchmark_2019_gdf = benchmark_2019_gdf.rename(columns={'PropertyGFA_CalculatedBuildingsSqFt': 'AreaSqFt'})"
   ]
  },
  {
   "cell_type": "code",
   "execution_count": null,
   "id": "efc3a93e",
   "metadata": {},
   "outputs": [],
   "source": [
    "benchmark_2018_gdf['PropertyName'].fillna('Unnamed', inplace=True)\n",
    "benchmark_2019_gdf['PropertyName'].fillna('Unnamed', inplace=True)"
   ]
  },
  {
   "cell_type": "code",
   "execution_count": null,
   "id": "b47898fc",
   "metadata": {},
   "outputs": [],
   "source": [
    "import numpy as np\n",
    "def msg_output(row):\n",
    "    \n",
    "    if np.isnan(row.BuildingID):\n",
    "        bld_msg = 'UNK'\n",
    "    else:\n",
    "        bld_msg = int(row.BuildingID)\n",
    "        \n",
    "    if np.isnan(row.ENERGY_STAR_Score):\n",
    "        score = 'No Score'\n",
    "    else:\n",
    "        score = int(row.ENERGY_STAR_Score)\n",
    "        \n",
    "    if np.isnan(row.AreaSqFt):\n",
    "        sq_ft = \"None Recorded\"\n",
    "    else:\n",
    "        sq_ft = int(row.AreaSqFt)\n",
    "        \n",
    "    return HTML(f\"BuildingID: {bld_msg}</br>\\\n",
    "                Name: {row.PropertyName}</br>\\\n",
    "                Address: {row.PropertyAddress}</br>\\\n",
    "                SqFt: {sq_ft}</br>\\\n",
    "                ENERGY STAR: {score}\")"
   ]
  },
  {
   "cell_type": "code",
   "execution_count": null,
   "id": "24a028fc",
   "metadata": {},
   "outputs": [],
   "source": [
    "imagery = basemap_to_tiles(basemaps.Esri.WorldImagery)\n",
    "imagery.base = True\n",
    "osm = basemap_to_tiles(basemaps.OpenStreetMap.Mapnik)\n",
    "osm.base = True\n",
    "\n",
    "\n",
    "map_display = Map(center=(32.715, -117.1625), zoom=12,\n",
    "                  layers=[imagery, osm],\n",
    "                  layout=Layout(height=\"900px\"),\n",
    "                  scroll_wheel_zoom=True)\n",
    "\n",
    "map_display.add_control(LayersControl())\n",
    "map_display"
   ]
  },
  {
   "cell_type": "code",
   "execution_count": null,
   "id": "f809dc7b",
   "metadata": {},
   "outputs": [],
   "source": [
    "benchmark_mapped = benchmark_2019_gdf[benchmark_2019_gdf.geometry.notnull()].reset_index()\n",
    "\n",
    "props = list()\n",
    "for i, r in tqdm(benchmark_mapped.iterrows()):\n",
    "    marker = CircleMarker(location=(r.geometry.y, r.geometry.x), radius=4, stroke=False, fill_color=\"purple\", fill_opacity=1.0)#, name=r.sector)\n",
    "    msg = msg_output(r) #HTML(msg_output(r))\n",
    "    #msg.value = msg_output(r)\n",
    "    marker.popup = msg\n",
    "    props.append(marker)\n",
    "    benchmark_mapped.iloc[i]['marker'] = marker\n",
    "benchmark_mapped['marker'] = props"
   ]
  },
  {
   "cell_type": "code",
   "execution_count": null,
   "id": "5695b9dc",
   "metadata": {},
   "outputs": [],
   "source": [
    "property_layer = LayerGroup(name=f\"2019 Benchmark ({len(props)})\", layers=props)\n",
    "\n",
    "map_display.add_layer(property_layer)#(LayerGroup(name=f\"Apartments ({len(apartments)})\", layers=apartments))"
   ]
  },
  {
   "cell_type": "code",
   "execution_count": null,
   "id": "3b61d799",
   "metadata": {},
   "outputs": [],
   "source": [
    "benchmark_mapped_2018 = benchmark_2018_gdf[benchmark_2018_gdf.geometry.notnull()].reset_index()\n",
    "\n",
    "props_2018 = list()\n",
    "for i, r in tqdm(benchmark_mapped_2018.iterrows()):\n",
    "    marker = CircleMarker(location=(r.geometry.y, r.geometry.x), radius=4, stroke=False, fill_color=\"#fa8775\", fill_opacity=1.0)#, name=r.sector)\n",
    "    msg = msg_output(r) #HTML(msg_output(r))\n",
    "    #msg.value = msg_output(r)\n",
    "    marker.popup = msg\n",
    "    props_2018.append(marker)\n",
    "    benchmark_mapped_2018.iloc[i]['marker'] = marker\n",
    "benchmark_mapped_2018['marker'] = props_2018"
   ]
  },
  {
   "cell_type": "code",
   "execution_count": null,
   "id": "fdaff29d",
   "metadata": {
    "tags": []
   },
   "outputs": [],
   "source": [
    "property_layer_2018 = LayerGroup(name=f\"2018 Benchmark ({len(props)})\", layers=props_2018)\n",
    "\n",
    "map_display.add_layer(property_layer_2018)"
   ]
  },
  {
   "cell_type": "code",
   "execution_count": null,
   "id": "871376b1",
   "metadata": {},
   "outputs": [],
   "source": [
    "legend = LegendControl({'2019 Benchmark  ': 'purple',\n",
    "                        '2018 Benchmark ': '#fa8775'}, name='Legend', position='bottomright')\n",
    "\n",
    "map_display.add_control(legend)"
   ]
  },
  {
   "cell_type": "markdown",
   "id": "2288b533",
   "metadata": {},
   "source": [
    "### At this point, go check the map."
   ]
  },
  {
   "cell_type": "markdown",
   "id": "fe3bcf83",
   "metadata": {},
   "source": [
    "# Analysis Ideas for Benchmark Data Set"
   ]
  },
  {
   "cell_type": "code",
   "execution_count": null,
   "id": "b1cc61cf",
   "metadata": {},
   "outputs": [],
   "source": [
    "building_id_2019 = set(benchmark_2019_df['BuildingID'])\n",
    "building_id_2018 = set(benchmark_2018_df['BuildingID'])"
   ]
  },
  {
   "cell_type": "code",
   "execution_count": null,
   "id": "1ff7f699",
   "metadata": {
    "tags": []
   },
   "outputs": [],
   "source": [
    "buildings_in_both = building_id_2018.intersection(building_id_2019)"
   ]
  },
  {
   "cell_type": "code",
   "execution_count": null,
   "id": "4094fa4b",
   "metadata": {},
   "outputs": [],
   "source": [
    "len(buildings_in_both)"
   ]
  },
  {
   "cell_type": "markdown",
   "id": "9367b2de",
   "metadata": {},
   "source": [
    "## So, 497 buildings reported both years.\n",
    "\n",
    "Note this was done using BuildingID and there are some missing in 2018!"
   ]
  },
  {
   "cell_type": "markdown",
   "id": "08e48677",
   "metadata": {},
   "source": [
    "## Here's a side by side looking at the CPNAME (Community Planning Group?)"
   ]
  },
  {
   "cell_type": "code",
   "execution_count": null,
   "id": "9ef2aa70",
   "metadata": {},
   "outputs": [],
   "source": [
    "vc_2019 = Output(layout={'border': '1px solid black',\n",
    "                            'width': '50%'})\n",
    "\n",
    "with vc_2019:\n",
    "    display(HTML('<center><b>2019 CPNAME value_counts()</b></center>'))\n",
    "    display(benchmark_2019_df['CPNAME'].value_counts())\n",
    "    \n",
    "    \n",
    "vc_2018 = Output(layout={'border': '1px solid black',\n",
    "                            'width': '50%'})\n",
    "\n",
    "with vc_2018:\n",
    "    display(HTML('<center><b>2018 CPNAME value_counts()</b></center>'))\n",
    "    display(benchmark_2018_df['CPNAME'].value_counts())\n",
    "    \n",
    "HBox([vc_2018, vc_2019])"
   ]
  },
  {
   "cell_type": "markdown",
   "id": "1e3d7d5b",
   "metadata": {},
   "source": [
    "# Finally\n",
    "\n",
    "Here's some python code that will save the processed files as shape files.\n",
    "\n",
    "Note there is a limit on variable names to 10 characters for the ESRI driver, so you may want to think about mapping names for the benchmarked dataframes.\n",
    "\n",
    "```python\n",
    "combined_gdf = GeoDataFrame(combined_df,\n",
    "                            geometry=combined_df['geometry'])\n",
    "combined_gdf.to_file('<your-file-name>.shp')\n",
    "\n",
    "benchmark_2018_gdf.to_file('<your-file-name>.shp')\n",
    "benchmark_2019_gdf.to_file('<your-file-name>.shp')                           \n",
    "```"
   ]
  },
  {
   "cell_type": "code",
   "execution_count": null,
   "id": "0440c61c",
   "metadata": {},
   "outputs": [],
   "source": []
  }
 ],
 "metadata": {
  "kernelspec": {
   "display_name": "Python 3",
   "language": "python",
   "name": "python3"
  },
  "language_info": {
   "codemirror_mode": {
    "name": "ipython",
    "version": 3
   },
   "file_extension": ".py",
   "mimetype": "text/x-python",
   "name": "python",
   "nbconvert_exporter": "python",
   "pygments_lexer": "ipython3",
   "version": "3.8.8"
  }
 },
 "nbformat": 4,
 "nbformat_minor": 5
}
