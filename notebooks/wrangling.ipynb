{
 "cells": [
  {
   "cell_type": "markdown",
   "metadata": {},
   "source": [
    "# Read and examine the business data set\n",
    "\n",
    "For starters I need to get a basic understanding of the data.  It is a **open data set of businesses** in San Diego.  It was obtained from government sources.  I was given an [excel (xlsx) file](https://drive.google.com/file/d/1bsExDRghMkyBrbEuuC1p4VMuna7lBhhH/view).  \n",
    "\n",
    "- Saved the `data worksheet` from xlsx file as csv (it's just easier)\n",
    "- Use `pandas` to read and maniputate the dataframe\n",
    "- First step is understand the data (shape, dtypes, info(), etc)\n",
    "\n",
    "The `output` from this processing is a new geo dataframe for further, problem specific analysis."
   ]
  },
  {
   "cell_type": "code",
   "execution_count": 1,
   "metadata": {},
   "outputs": [],
   "source": [
    "import pandas as pd\n",
    "import geopandas as gpd\n",
    "from geopandas import GeoDataFrame\n",
    "from shapely.geometry import Point\n",
    "import osmnx as ox"
   ]
  },
  {
   "cell_type": "markdown",
   "metadata": {},
   "source": [
    "### Read the data"
   ]
  },
  {
   "cell_type": "code",
   "execution_count": 2,
   "metadata": {},
   "outputs": [],
   "source": [
    "biz_df = pd.read_csv('../data/biz_data.csv', sep='\\t', index_col=0)"
   ]
  },
  {
   "cell_type": "markdown",
   "metadata": {},
   "source": [
    "### Examine layout and structure of the dataframe"
   ]
  },
  {
   "cell_type": "code",
   "execution_count": 3,
   "metadata": {},
   "outputs": [
    {
     "data": {
      "text/plain": [
       "(53675, 18)"
      ]
     },
     "execution_count": 3,
     "metadata": {},
     "output_type": "execute_result"
    }
   ],
   "source": [
    "biz_df.shape"
   ]
  },
  {
   "cell_type": "code",
   "execution_count": 4,
   "metadata": {},
   "outputs": [
    {
     "name": "stdout",
     "output_type": "stream",
     "text": [
      "<class 'pandas.core.frame.DataFrame'>\n",
      "Int64Index: 53675 entries, 1 to 53675\n",
      "Data columns (total 18 columns):\n",
      " #   Column             Non-Null Count  Dtype \n",
      "---  ------             --------------  ----- \n",
      " 0   BUSINESS ACCT#     53675 non-null  int64 \n",
      " 1   DBA NAME           53675 non-null  object\n",
      " 2   OWNERSHIP TYPE     53675 non-null  object\n",
      " 3   ADDRESS            53675 non-null  object\n",
      " 4   CITY               53647 non-null  object\n",
      " 5   ZIP                53675 non-null  object\n",
      " 6   STATE              53675 non-null  object\n",
      " 7   BUSINESS PHONE     48269 non-null  object\n",
      " 8   OWNER NAME         53675 non-null  object\n",
      " 9   CREATION DT        53675 non-null  object\n",
      " 10  START DT           53675 non-null  object\n",
      " 11  EXP DT             53675 non-null  object\n",
      " 12  NAICS              53675 non-null  int64 \n",
      " 13  ACTIVITY DESC      53675 non-null  object\n",
      " 14  today              53675 non-null  object\n",
      " 15  years              53675 non-null  int64 \n",
      " 16  naics_code         53675 non-null  int64 \n",
      " 17  NAICS Description  53675 non-null  object\n",
      "dtypes: int64(4), object(14)\n",
      "memory usage: 7.8+ MB\n"
     ]
    }
   ],
   "source": [
    "biz_df.info()"
   ]
  },
  {
   "cell_type": "code",
   "execution_count": 5,
   "metadata": {},
   "outputs": [
    {
     "data": {
      "text/plain": [
       "BUSINESS ACCT#          0\n",
       "DBA NAME                0\n",
       "OWNERSHIP TYPE          0\n",
       "ADDRESS                 0\n",
       "CITY                   28\n",
       "ZIP                     0\n",
       "STATE                   0\n",
       "BUSINESS PHONE       5406\n",
       "OWNER NAME              0\n",
       "CREATION DT             0\n",
       "START DT                0\n",
       "EXP DT                  0\n",
       "NAICS                   0\n",
       "ACTIVITY DESC           0\n",
       "today                   0\n",
       "years                   0\n",
       "naics_code              0\n",
       "NAICS Description       0\n",
       "dtype: int64"
      ]
     },
     "execution_count": 5,
     "metadata": {},
     "output_type": "execute_result"
    }
   ],
   "source": [
    "biz_df.isnull().sum()"
   ]
  },
  {
   "cell_type": "code",
   "execution_count": 6,
   "metadata": {},
   "outputs": [
    {
     "name": "stdout",
     "output_type": "stream",
     "text": [
      "missing business phone numbers: 10.07%\n"
     ]
    }
   ],
   "source": [
    "print(\"missing business phone numbers: {:.2%}\".format(biz_df['BUSINESS PHONE'].isnull().sum() / len(biz_df)))"
   ]
  },
  {
   "cell_type": "markdown",
   "metadata": {},
   "source": [
    "# Examine, rework, and extend dtypes\n",
    "\n",
    "Next some basic analysis of dtypes.  There are two types in the data set, int64 and object (str).  The column with the most missing values is the phone number for now that's ok.  The specific values I want to transform are:\n",
    "\n",
    "1. NAICS - This is an int in the input source. We need a character representation\n",
    "\n",
    "2. ZIP - this value is really zip+4 as object (i.e. str)\n",
    "  \n",
    "3. Dates - There are three date variables.  They are strings in the input data.  It's easy to convert to py datetime so ...\n",
    "\n",
    "4. Geocode - Using osmnx api to osm"
   ]
  },
  {
   "cell_type": "markdown",
   "metadata": {},
   "source": [
    "## NAICS\n",
    "\n",
    "  - Convert to str\n",
    "  - For starters, use the first to char's for sector (will worry about more detail later)\n",
    "\n",
    "**TBD: add NAICS reference to explain levels**"
   ]
  },
  {
   "cell_type": "code",
   "execution_count": 7,
   "metadata": {},
   "outputs": [],
   "source": [
    "naics_desc = pd.read_excel('../data/2017_NAICS_Descriptions.xls')\n",
    "\n",
    "naics_desc['Code'] = naics_desc['Code'].astype(str)\n",
    "\n",
    "lookup_dict = naics_desc[['Code', 'Title']].set_index('Code')['Title'].to_dict()\n",
    "\n",
    "def lookup(key):\n",
    "    if key in ('48', '49'):\n",
    "        key = '48-49'\n",
    "    if key in ('44', '45'):\n",
    "        key = '44-45'\n",
    "    if key in ('31', '32', '33'):\n",
    "        key = \"31-33\"\n",
    "        \n",
    "    desc = lookup_dict[key]\n",
    "    if desc[-1:] == 'T':\n",
    "        desc = desc[:-1]\n",
    "        \n",
    "    return desc.rstrip()"
   ]
  },
  {
   "cell_type": "code",
   "execution_count": 8,
   "metadata": {},
   "outputs": [],
   "source": [
    "biz_df['sector'] = biz_df['NAICS'].astype(str).apply(lambda x: x[:2])"
   ]
  },
  {
   "cell_type": "code",
   "execution_count": 9,
   "metadata": {},
   "outputs": [],
   "source": [
    "biz_df['sector_desc'] = biz_df['sector'].apply(lambda x: lookup(x) + f\"({x})\")"
   ]
  },
  {
   "cell_type": "code",
   "execution_count": 10,
   "metadata": {},
   "outputs": [
    {
     "data": {
      "text/plain": [
       "54    11358\n",
       "81     8159\n",
       "62     4170\n",
       "56     4125\n",
       "23     4122\n",
       "45     3567\n",
       "72     2951\n",
       "44     2855\n",
       "53     2730\n",
       "42     1719\n",
       "48     1624\n",
       "61     1499\n",
       "71     1257\n",
       "52     1029\n",
       "33      727\n",
       "51      650\n",
       "32      263\n",
       "49      256\n",
       "31      247\n",
       "55      202\n",
       "11       96\n",
       "22       58\n",
       "92        9\n",
       "21        2\n",
       "Name: sector, dtype: int64"
      ]
     },
     "execution_count": 10,
     "metadata": {},
     "output_type": "execute_result"
    }
   ],
   "source": [
    "biz_df.sector.value_counts()"
   ]
  },
  {
   "cell_type": "code",
   "execution_count": 11,
   "metadata": {},
   "outputs": [
    {
     "data": {
      "text/plain": [
       "Professional, Scientific, and Technical Services(54)                            0.211607\n",
       "Other Services (except Public Administration)(81)                               0.152007\n",
       "Health Care and Social Assistance(62)                                           0.077690\n",
       "Administrative and Support and Waste Management and Remediation Services(56)    0.076851\n",
       "Construction(23)                                                                0.076796\n",
       "Retail Trade(45)                                                                0.066456\n",
       "Accommodation and Food Services(72)                                             0.054979\n",
       "Retail Trade(44)                                                                0.053190\n",
       "Real Estate and Rental and Leasing(53)                                          0.050862\n",
       "Wholesale Trade(42)                                                             0.032026\n",
       "Transportation and Warehousing(48)                                              0.030256\n",
       "Educational Services(61)                                                        0.027927\n",
       "Arts, Entertainment, and Recreation(71)                                         0.023419\n",
       "Finance and Insurance(52)                                                       0.019171\n",
       "Manufacturing(33)                                                               0.013544\n",
       "Information(51)                                                                 0.012110\n",
       "Manufacturing(32)                                                               0.004900\n",
       "Transportation and Warehousing(49)                                              0.004769\n",
       "Manufacturing(31)                                                               0.004602\n",
       "Management of Companies and EnterprisesT(55)                                    0.003763\n",
       "Agriculture, Forestry, Fishing and Hunting(11)                                  0.001789\n",
       "Utilities(22)                                                                   0.001081\n",
       "Public Administration(92)                                                       0.000168\n",
       "Mining, Quarrying, and Oil and Gas Extraction(21)                               0.000037\n",
       "Name: sector_desc, dtype: float64"
      ]
     },
     "execution_count": 11,
     "metadata": {},
     "output_type": "execute_result"
    }
   ],
   "source": [
    "biz_df.sector_desc.value_counts(normalize=True) #* 100"
   ]
  },
  {
   "cell_type": "markdown",
   "metadata": {},
   "source": [
    "### So you see what I did with the transformed data?"
   ]
  },
  {
   "cell_type": "markdown",
   "metadata": {},
   "source": [
    "  - sector is used for selection\n",
    "  - sector_desc is used for human consumption (you need to look at the excel referened above)"
   ]
  },
  {
   "cell_type": "markdown",
   "metadata": {},
   "source": [
    "## ZIP\n",
    "\n",
    "  - Notice the ZIP column is really ZIP+4\n",
    "  - Createing new column called zip_code\n",
    "  - Easy string hack to get the actual zip"
   ]
  },
  {
   "cell_type": "code",
   "execution_count": 12,
   "metadata": {},
   "outputs": [],
   "source": [
    "biz_df['zip_code'] = biz_df['ZIP'].apply(lambda x: x.split('-')[0].strip())"
   ]
  },
  {
   "cell_type": "code",
   "execution_count": 13,
   "metadata": {},
   "outputs": [
    {
     "data": {
      "text/plain": [
       "BUSINESS ACCT#                                   2007006934\n",
       "DBA NAME                     10717 SORRENTO VALLEY ROAD LLC\n",
       "OWNERSHIP TYPE                                          LLC\n",
       "ADDRESS                            10717 SORRENTO VALLEY RD\n",
       "CITY                                              SAN DIEGO\n",
       "ZIP                                              92121-1610\n",
       "STATE                                                    CA\n",
       "BUSINESS PHONE                               (858) 452-2200\n",
       "OWNER NAME                   10717 SORRENTO VALLEY ROAD LLC\n",
       "CREATION DT                                        6/7/2007\n",
       "START DT                                           6/1/2004\n",
       "EXP DT                                            5/31/2021\n",
       "NAICS                                                  5313\n",
       "ACTIVITY DESC             ACTIVITIES RELATED TO REAL ESTATE\n",
       "today                                            12/22/2020\n",
       "years                                                    14\n",
       "naics_code                                             5313\n",
       "NAICS Description       Activities Related to Real EstateT \n",
       "sector                                                   53\n",
       "sector_desc          Real Estate and Rental and Leasing(53)\n",
       "zip_code                                              92121\n",
       "Name: 28, dtype: object"
      ]
     },
     "execution_count": 13,
     "metadata": {},
     "output_type": "execute_result"
    }
   ],
   "source": [
    "biz_df.iloc[27]"
   ]
  },
  {
   "cell_type": "code",
   "execution_count": 14,
   "metadata": {},
   "outputs": [],
   "source": [
    "biz_92110 = biz_df.query(f\"zip_code == '92110'\").reset_index()"
   ]
  },
  {
   "cell_type": "code",
   "execution_count": 15,
   "metadata": {},
   "outputs": [
    {
     "data": {
      "text/plain": [
       "1941"
      ]
     },
     "execution_count": 15,
     "metadata": {},
     "output_type": "execute_result"
    }
   ],
   "source": [
    "len(biz_92110)"
   ]
  },
  {
   "cell_type": "markdown",
   "metadata": {},
   "source": [
    "## ZIP codes around El Cajon Boulevard BID\n",
    "\n",
    "This section will filter the larger biz_df to include only those in zip codes related to the Blvd BID. <br/>\n",
    "After a quick look at a map I see two zip codes in the area.<br/>\n",
    "\n",
    "These query examples us the query method from pandas.  I've noticed some issues running this type of query in collab."
   ]
  },
  {
   "cell_type": "code",
   "execution_count": 16,
   "metadata": {},
   "outputs": [],
   "source": [
    "zips = ['92115', '92116']"
   ]
  },
  {
   "cell_type": "code",
   "execution_count": 17,
   "metadata": {},
   "outputs": [],
   "source": [
    "ecb_df = biz_df.query(f\"zip_code in @zips\")"
   ]
  },
  {
   "cell_type": "code",
   "execution_count": 18,
   "metadata": {},
   "outputs": [
    {
     "data": {
      "text/plain": [
       "2355"
      ]
     },
     "execution_count": 18,
     "metadata": {},
     "output_type": "execute_result"
    }
   ],
   "source": [
    "len(ecb_df)"
   ]
  },
  {
   "cell_type": "code",
   "execution_count": 22,
   "metadata": {},
   "outputs": [
    {
     "data": {
      "text/plain": [
       "1387"
      ]
     },
     "execution_count": 22,
     "metadata": {},
     "output_type": "execute_result"
    }
   ],
   "source": [
    "len(ecb_df.query(f\"zip_code == '92115'\"))"
   ]
  },
  {
   "cell_type": "code",
   "execution_count": 23,
   "metadata": {},
   "outputs": [
    {
     "data": {
      "text/plain": [
       "968"
      ]
     },
     "execution_count": 23,
     "metadata": {},
     "output_type": "execute_result"
    }
   ],
   "source": [
    "len(ecb_df.query(f\"zip_code == '92116'\"))"
   ]
  },
  {
   "cell_type": "code",
   "execution_count": 26,
   "metadata": {},
   "outputs": [
    {
     "name": "stdout",
     "output_type": "stream",
     "text": [
      "4.39% of the businesses are in this area.\n"
     ]
    }
   ],
   "source": [
    "print(f\"{len(ecb_df) / len(biz_df):.2%} of the businesses are in this area.\")"
   ]
  },
  {
   "cell_type": "code",
   "execution_count": 21,
   "metadata": {},
   "outputs": [
    {
     "data": {
      "text/plain": [
       "Index(['BUSINESS ACCT#', 'DBA NAME', 'OWNERSHIP TYPE', 'ADDRESS', 'CITY',\n",
       "       'ZIP', 'STATE', 'BUSINESS PHONE', 'OWNER NAME', 'CREATION DT',\n",
       "       'START DT', 'EXP DT', 'NAICS', 'ACTIVITY DESC', 'today', 'years',\n",
       "       'naics_code', 'NAICS Description', 'sector', 'sector_desc', 'zip_code'],\n",
       "      dtype='object')"
      ]
     },
     "execution_count": 21,
     "metadata": {},
     "output_type": "execute_result"
    }
   ],
   "source": [
    "ecb_df.columns"
   ]
  },
  {
   "cell_type": "markdown",
   "metadata": {},
   "source": [
    "## Datetime\n",
    "\n",
    "It appears datetime types not supported in ESRI driver for shape files, so just leave this alone for now.<br/>\n",
    "\n",
    "For now it's enough to know that this is how you can convert the string to datetime.  <br/>\n",
    "\n",
    "I guess if one wants to do some geo-temporal analysis it can just be done on the other side in the geodf."
   ]
  },
  {
   "cell_type": "code",
   "execution_count": null,
   "metadata": {},
   "outputs": [],
   "source": [
    "biz_df.columns"
   ]
  },
  {
   "cell_type": "code",
   "execution_count": null,
   "metadata": {},
   "outputs": [],
   "source": [
    "biz_df['CREATION DT'] = pd.to_datetime(biz_df['CREATION DT'])\n",
    "biz_df['START DT'] = pd.to_datetime(biz_df['START DT'], errors='coerce')\n",
    "biz_df['EXP DT'] = pd.to_datetime(biz_df['EXP DT'])"
   ]
  },
  {
   "cell_type": "code",
   "execution_count": null,
   "metadata": {},
   "outputs": [],
   "source": [
    "biz_df.info()"
   ]
  },
  {
   "cell_type": "code",
   "execution_count": null,
   "metadata": {},
   "outputs": [],
   "source": [
    "# build the ecb df again with transformed columns\n",
    "ecb_df = biz_df.query(f\"zip_code in @zips\")"
   ]
  },
  {
   "cell_type": "code",
   "execution_count": null,
   "metadata": {},
   "outputs": [],
   "source": [
    "ecb_df.info()"
   ]
  },
  {
   "cell_type": "markdown",
   "metadata": {},
   "source": [
    "## Gecode\n",
    "\n",
    "Geocoding uses the Nominatim service of OSM via the osmnx api.  The terms of use state one request per second so the wrapper function handles that.<br/>\n",
    "\n",
    "If you're executing this code be aware of the timing of things and the size of the dataframe you're trying to geocode. <br/>\n",
    "\n",
    "I have a few examples below"
   ]
  },
  {
   "cell_type": "code",
   "execution_count": 27,
   "metadata": {},
   "outputs": [],
   "source": [
    "def good_address(addr):\n",
    "    if addr.find('SUITE') > 0:\n",
    "        return addr[:addr.find('SUITE')-1]\n",
    "    else:\n",
    "        return addr"
   ]
  },
  {
   "cell_type": "code",
   "execution_count": 28,
   "metadata": {},
   "outputs": [],
   "source": [
    "import time\n",
    "def geocode_address(row):\n",
    "    \"\"\"\n",
    "    Special function applied to a zip_code transformed row.  \n",
    "    \n",
    "    Notes:\n",
    "      1. nominatim terms of use require one query per sec so we sleep on each iteration.\n",
    "      2. When we get no match, returning None so we can query for\n",
    "         invalid geo's later.\n",
    "    \"\"\"\n",
    "    time.sleep(1)\n",
    "    good_addr = good_address(row.ADDRESS)\n",
    "    geocode_query = f\"{good_addr}, {row.CITY}, {row.STATE}, {row.zip_code}\"\n",
    "    try:\n",
    "        lat, lon = ox.geocode(geocode_query)\n",
    "        return Point(lon, lat)\n",
    "    except:\n",
    "        print(geocode_query)\n",
    "        return None #Point(lon, lat).wkt"
   ]
  },
  {
   "cell_type": "code",
   "execution_count": 37,
   "metadata": {},
   "outputs": [
    {
     "name": "stdout",
     "output_type": "stream",
     "text": [
      "Address to geocode: 4745 EL CAJON BLVD, SAN DIEGO, CA, 92115\n"
     ]
    },
    {
     "data": {
      "text/plain": [
       "'POINT (-117.219997 32.899025)'"
      ]
     },
     "execution_count": 37,
     "metadata": {},
     "output_type": "execute_result"
    }
   ],
   "source": [
    "# An example for row 27\n",
    "row = ecb_df.iloc[27]\n",
    "query = f\"{good_address(row.ADDRESS)}, {row.CITY}, {row.STATE}, {row.zip_code}\"\n",
    "print(\"Address to geocode: \" + query)\n",
    "\n",
    "\n",
    "geocode_address(biz_df.iloc[27]).wkt"
   ]
  },
  {
   "cell_type": "markdown",
   "metadata": {},
   "source": [
    "### Back-of-the-envelope calculation"
   ]
  },
  {
   "cell_type": "code",
   "execution_count": 38,
   "metadata": {},
   "outputs": [
    {
     "data": {
      "text/plain": [
       "92115    1387\n",
       "92116     968\n",
       "Name: zip_code, dtype: int64"
      ]
     },
     "execution_count": 38,
     "metadata": {},
     "output_type": "execute_result"
    }
   ],
   "source": [
    "ecb_df.zip_code.value_counts()"
   ]
  },
  {
   "cell_type": "code",
   "execution_count": 39,
   "metadata": {},
   "outputs": [
    {
     "data": {
      "text/plain": [
       "39.25"
      ]
     },
     "execution_count": 39,
     "metadata": {},
     "output_type": "execute_result"
    }
   ],
   "source": [
    "#back of the envelope calc for time to compute - This simple hack estimates the minutes required to geocode.\n",
    "len(ecb_df) / 60."
   ]
  },
  {
   "cell_type": "markdown",
   "metadata": {},
   "source": [
    "**So little over 39 minutes to geocode 92115 and 92116**"
   ]
  },
  {
   "cell_type": "markdown",
   "metadata": {},
   "source": [
    "**You can stop here as I've previously done this and saved the gdf**"
   ]
  },
  {
   "cell_type": "code",
   "execution_count": null,
   "metadata": {},
   "outputs": [],
   "source": [
    "#%%timeit\n",
    "ecb_df['geometry'] = ecb_df.apply(lambda r: geocode_address(r), axis=1)"
   ]
  },
  {
   "cell_type": "code",
   "execution_count": null,
   "metadata": {},
   "outputs": [],
   "source": [
    "ecb_gdf = GeoDataFrame(ecb_df, geometry=ecb_df.geometry)"
   ]
  },
  {
   "cell_type": "code",
   "execution_count": null,
   "metadata": {},
   "outputs": [],
   "source": [
    "ecb_gdf.geometry.isnull().sum()"
   ]
  },
  {
   "cell_type": "code",
   "execution_count": null,
   "metadata": {},
   "outputs": [],
   "source": [
    "ecb_gdf.to_file(\"../data/ecb.shp\")"
   ]
  },
  {
   "cell_type": "markdown",
   "metadata": {},
   "source": [
    "### so the step above that I did not execute saved the geocoded file.  I'm just reading it back in."
   ]
  },
  {
   "cell_type": "code",
   "execution_count": 42,
   "metadata": {},
   "outputs": [],
   "source": [
    "previously_computed_gdf = gpd.read_file(\"../data/ecb.shp\")"
   ]
  },
  {
   "cell_type": "code",
   "execution_count": 47,
   "metadata": {},
   "outputs": [
    {
     "name": "stdout",
     "output_type": "stream",
     "text": [
      "Total businesses: 2355\n",
      "Total that Nominatim couldn't find: 18\n",
      "Unable to geocode: 0.76% addresses\n"
     ]
    }
   ],
   "source": [
    "denominator = len(previously_computed_gdf)\n",
    "numerator = previously_computed_gdf['geometry'].isnull().sum()\n",
    "\n",
    "print(f\"Total businesses: {denominator}\")\n",
    "print(f\"Total that Nominatim couldn't find: {numerator}\")\n",
    "print(f\"Unable to geocode: {numerator/denominator:.2%} addresses\")"
   ]
  },
  {
   "cell_type": "markdown",
   "metadata": {},
   "source": [
    "### That's not bad actually.\n",
    "\n",
    "**Can anyone suggest an approach to clean the addresses?**"
   ]
  },
  {
   "cell_type": "markdown",
   "metadata": {},
   "source": [
    "## Final Note on Geocoding\n",
    "\n",
    "I am currently creating a personal Nominatim server.  I won't have to throttle it so I will geocode and publish the entire file."
   ]
  },
  {
   "cell_type": "code",
   "execution_count": null,
   "metadata": {},
   "outputs": [],
   "source": []
  }
 ],
 "metadata": {
  "kernelspec": {
   "display_name": "Python 3",
   "language": "python",
   "name": "python3"
  },
  "language_info": {
   "codemirror_mode": {
    "name": "ipython",
    "version": 3
   },
   "file_extension": ".py",
   "mimetype": "text/x-python",
   "name": "python",
   "nbconvert_exporter": "python",
   "pygments_lexer": "ipython3",
   "version": "3.8.2"
  },
  "toc-autonumbering": false
 },
 "nbformat": 4,
 "nbformat_minor": 5
}
